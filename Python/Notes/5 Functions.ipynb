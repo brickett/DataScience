{
 "cells": [
  {
   "cell_type": "markdown",
   "metadata": {},
   "source": [
    "## Functions: Defining your first function"
   ]
  },
  {
   "cell_type": "code",
   "execution_count": 2,
   "metadata": {},
   "outputs": [
    {
     "name": "stdout",
     "output_type": "stream",
     "text": [
      "3.0\n"
     ]
    }
   ],
   "source": [
    "def squareroot(x):\n",
    "    return x**0.5\n",
    "\n",
    "print(squareroot(9))"
   ]
  },
  {
   "cell_type": "code",
   "execution_count": null,
   "metadata": {
    "collapsed": true
   },
   "outputs": [],
   "source": [
    "answer = squareroot(25)\n",
    "print(answer)"
   ]
  },
  {
   "cell_type": "markdown",
   "metadata": {},
   "source": [
    "## Functions with no return statement"
   ]
  },
  {
   "cell_type": "code",
   "execution_count": null,
   "metadata": {
    "collapsed": true
   },
   "outputs": [],
   "source": [
    "def print_fancy(x):\n",
    "    print(\"I'm printing '{}' using a function\".format(x))\n",
    "\n",
    "print_fancy(9)"
   ]
  },
  {
   "cell_type": "code",
   "execution_count": null,
   "metadata": {
    "collapsed": true
   },
   "outputs": [],
   "source": [
    "testing = print_fancy(232)\n",
    "print(testing == None)\n",
    "print(testing)"
   ]
  },
  {
   "cell_type": "markdown",
   "metadata": {},
   "source": [
    "## Fibonacci Series with Functions\n",
    "\n"
   ]
  },
  {
   "cell_type": "code",
   "execution_count": 4,
   "metadata": {},
   "outputs": [
    {
     "name": "stdout",
     "output_type": "stream",
     "text": [
      "0\n",
      "1\n",
      "1\n",
      "2\n",
      "3\n",
      "5\n",
      "8\n"
     ]
    }
   ],
   "source": [
    "def fibonacci(num):\n",
    "    \"\"\" \n",
    "    This functions prints fibonacci series upto num\n",
    "    \"\"\"\n",
    "    f, s= 0, 1\n",
    "    # WRITE YOUR CODE HERE\n",
    "    # TODO\n",
    "    while f<num:\n",
    "        print(f)\n",
    "        t = f+s\n",
    "        f=s\n",
    "        s=t\n",
    "fibonacci(10)\n"
   ]
  },
  {
   "cell_type": "markdown",
   "metadata": {},
   "source": [
    "## Global vs. Local Scope"
   ]
  },
  {
   "cell_type": "code",
   "execution_count": 12,
   "metadata": {},
   "outputs": [
    {
     "name": "stdout",
     "output_type": "stream",
     "text": [
      "Sin of 5 is -0.9589242746631385 and cos is 0.28366218546322625\n"
     ]
    }
   ],
   "source": [
    "import math\n",
    "number = 5\n",
    "sin = math.sin(number)\n",
    "cos = math.cos(number)\n",
    "print(\"Sin of {0} is {1} and cos is {2}\".format(number, sin, cos))\n"
   ]
  },
  {
   "cell_type": "markdown",
   "metadata": {},
   "source": [
    "### Local variables in a function are not visible outside the function"
   ]
  },
  {
   "cell_type": "code",
   "execution_count": null,
   "metadata": {
    "collapsed": true
   },
   "outputs": [],
   "source": [
    "def math_operations(num):\n",
    "    sin_f = math.sin(num) # sin is a local variable\n",
    "    cos_f = math.cos(num) # cos is a local variable\n",
    "\n",
    "number = 10\n",
    "math_operations(number)\n",
    "print(\"Sin of {0} is {1} and cos is {2}\".format(number, sin_f, cos_f))"
   ]
  },
  {
   "cell_type": "markdown",
   "metadata": {},
   "source": [
    "### Local variables with same name as global variables do not get modified"
   ]
  },
  {
   "cell_type": "code",
   "execution_count": null,
   "metadata": {
    "collapsed": true
   },
   "outputs": [],
   "source": [
    "import math\n",
    "def math_operations(num):\n",
    "    sin = math.sin(num)\n",
    "    cos = math.cos(num)\n",
    "\n",
    "number = 5\n",
    "sin = 5\n",
    "cos = 20\n",
    "math_operations(number)\n",
    "print(\"sin: {}, cos: {}\".format(sin, cos))"
   ]
  },
  {
   "cell_type": "markdown",
   "metadata": {},
   "source": [
    "### Each function has it's own local variables and they are not accessible across in other places"
   ]
  },
  {
   "cell_type": "code",
   "execution_count": null,
   "metadata": {
    "collapsed": true
   },
   "outputs": [],
   "source": [
    "global_var = 20\n",
    "\n",
    "def func1(num):\n",
    "    local1 = 10\n",
    "    local2 = 20\n",
    "    print(\"I'm trying to print local variables {}, {} and a global variable {}\".format(local1, local2, global_var))\n",
    "    \n",
    "\n",
    "def func2(num):\n",
    "    local1 = 10\n",
    "    print(\"I'm trying to print local variables {}, {} and a global variable{}\".format(local1, local2, global_var))\n"
   ]
  },
  {
   "cell_type": "markdown",
   "metadata": {},
   "source": [
    "## Named Arguments: defualt values for arguments"
   ]
  },
  {
   "cell_type": "code",
   "execution_count": 5,
   "metadata": {},
   "outputs": [
    {
     "name": "stdout",
     "output_type": "stream",
     "text": [
      "9\n",
      "3.0\n"
     ]
    }
   ],
   "source": [
    "def calc_summary(var1, var2, var3, calc_mean = True):\n",
    "    if calc_mean:\n",
    "        return (var1+var2+var3)/3\n",
    "    else:\n",
    "        return var1+var2+var3\n",
    "\n",
    "summary = calc_summary(2, 3, 4, calc_mean=False)\n",
    "print(summary)\n",
    "summary = calc_summary(2, 3, 4)\n",
    "print(summary)"
   ]
  },
  {
   "cell_type": "markdown",
   "metadata": {},
   "source": [
    "## String Operations"
   ]
  },
  {
   "cell_type": "code",
   "execution_count": null,
   "metadata": {
    "collapsed": true
   },
   "outputs": [],
   "source": []
  },
  {
   "cell_type": "markdown",
   "metadata": {},
   "source": [
    "## List: Practice"
   ]
  },
  {
   "cell_type": "code",
   "execution_count": null,
   "metadata": {
    "collapsed": true
   },
   "outputs": [],
   "source": []
  },
  {
   "cell_type": "markdown",
   "metadata": {},
   "source": [
    "## List: Basics and Accessing"
   ]
  },
  {
   "cell_type": "code",
   "execution_count": null,
   "metadata": {
    "collapsed": true
   },
   "outputs": [],
   "source": []
  },
  {
   "cell_type": "markdown",
   "metadata": {},
   "source": [
    "## List: Sublist - x[a, b] means index a included and index b is not included"
   ]
  },
  {
   "cell_type": "code",
   "execution_count": null,
   "metadata": {
    "collapsed": true
   },
   "outputs": [],
   "source": []
  },
  {
   "cell_type": "markdown",
   "metadata": {},
   "source": [
    "## List Assignment by Reference Practice"
   ]
  },
  {
   "cell_type": "code",
   "execution_count": null,
   "metadata": {
    "collapsed": true
   },
   "outputs": [],
   "source": []
  },
  {
   "cell_type": "markdown",
   "metadata": {},
   "source": [
    "## List with for Loop"
   ]
  },
  {
   "cell_type": "code",
   "execution_count": null,
   "metadata": {
    "collapsed": true
   },
   "outputs": [],
   "source": [
    "lis = [2,3,5, 7]\n",
    "for x in lis:\n",
    "    print(x)"
   ]
  },
  {
   "cell_type": "markdown",
   "metadata": {},
   "source": [
    "## Practice List with for loop #1 \n",
    "\n",
    "Write a function that takes a list as input and returns the sum of squared values of each element in the list. \n",
    "\n",
    "Further, write a program that creates a sample list and prints the returned value of the above function. Verify if your function is working correctly. \n"
   ]
  },
  {
   "cell_type": "code",
   "execution_count": 22,
   "metadata": {
    "collapsed": true
   },
   "outputs": [],
   "source": [
    "def sum_square(lis):\n",
    "    \"\"\"\n",
    "    Returns the sum of squares of all elements in the list\n",
    "    \"\"\"\n",
    "    ## WRITE YOUR CODE HERE\n",
    "    ## TODO\n",
    "\n",
    "lis= [2,4,5,6]\n",
    "sum_square(lis)"
   ]
  },
  {
   "cell_type": "markdown",
   "metadata": {},
   "source": [
    "## Practice List #2\n",
    "\n",
    "Write a function that takes a list as input and returns the largest element in a list. \n",
    "\n",
    "Write a program that creates a sample list and prints the returned value of the above function. Verify if your function is working correctly."
   ]
  },
  {
   "cell_type": "code",
   "execution_count": null,
   "metadata": {
    "collapsed": true
   },
   "outputs": [],
   "source": []
  },
  {
   "cell_type": "markdown",
   "metadata": {},
   "source": [
    "## List: append(), insert(), remove(), and sort()"
   ]
  },
  {
   "cell_type": "code",
   "execution_count": null,
   "metadata": {
    "collapsed": true
   },
   "outputs": [],
   "source": []
  },
  {
   "cell_type": "markdown",
   "metadata": {},
   "source": [
    "## List 'in' operator"
   ]
  },
  {
   "cell_type": "code",
   "execution_count": null,
   "metadata": {
    "collapsed": true
   },
   "outputs": [],
   "source": []
  },
  {
   "cell_type": "markdown",
   "metadata": {},
   "source": [
    "## Ask a user to enter 10 words and use a list to save all words. Further, verify if there are words 'I', 'Love', 'Python' in them. "
   ]
  },
  {
   "cell_type": "code",
   "execution_count": null,
   "metadata": {
    "collapsed": true
   },
   "outputs": [],
   "source": [
    "\n",
    "## The following piece of code could be helpful. \n",
    "if not all(['I' in evaluation, 'Love' in evaluation, 'Python' in evaluation]):\n",
    "    print(\"You don't love Python enough. So sad. You are missing one or more words.\")"
   ]
  },
  {
   "cell_type": "markdown",
   "metadata": {},
   "source": [
    "## Fixed Type Arrays in Python (Available since Python 3.3)"
   ]
  },
  {
   "cell_type": "code",
   "execution_count": 8,
   "metadata": {},
   "outputs": [
    {
     "data": {
      "text/plain": [
       "array('i', [0, 1, 2, 3, 4, 5, 6, 7, 8, 9])"
      ]
     },
     "execution_count": 8,
     "metadata": {},
     "output_type": "execute_result"
    }
   ],
   "source": [
    "import array\n",
    "L = list(range(10))\n",
    "A = array.array('i',L)\n",
    "A"
   ]
  },
  {
   "cell_type": "code",
   "execution_count": 9,
   "metadata": {},
   "outputs": [
    {
     "data": {
      "text/plain": [
       "array('f', [0.0, 1.0, 2.0, 3.0, 4.0, 5.0, 6.0, 7.0, 8.0, 9.0])"
      ]
     },
     "execution_count": 9,
     "metadata": {},
     "output_type": "execute_result"
    }
   ],
   "source": [
    "import array\n",
    "L = list(range(10))\n",
    "A = array.array('f',L)\n",
    "A"
   ]
  },
  {
   "cell_type": "markdown",
   "metadata": {},
   "source": [
    "# NumPy - Numerical Python "
   ]
  },
  {
   "cell_type": "markdown",
   "metadata": {},
   "source": [
    "## Importing numpy array"
   ]
  },
  {
   "cell_type": "code",
   "execution_count": 11,
   "metadata": {},
   "outputs": [
    {
     "data": {
      "text/plain": [
       "'1.12.1'"
      ]
     },
     "execution_count": 11,
     "metadata": {},
     "output_type": "execute_result"
    }
   ],
   "source": [
    "import numpy as np\n",
    "np.__version__"
   ]
  },
  {
   "cell_type": "markdown",
   "metadata": {},
   "source": [
    "Note: Some of the examples and content are from our text book PDSH Ch. 2 and from Mike Dunn at Notre Dame"
   ]
  },
  {
   "cell_type": "markdown",
   "metadata": {},
   "source": [
    "## Fundamentals of NumPy Arrays\n"
   ]
  },
  {
   "cell_type": "code",
   "execution_count": null,
   "metadata": {
    "collapsed": true
   },
   "outputs": [],
   "source": [
    "list_of_ints = [0, 1, 2, 3, 4, 5]\n",
    "np.array(list_of_ints)"
   ]
  },
  {
   "cell_type": "markdown",
   "metadata": {},
   "source": [
    "### Accessing NumPy Array"
   ]
  },
  {
   "cell_type": "code",
   "execution_count": null,
   "metadata": {
    "collapsed": true
   },
   "outputs": [],
   "source": []
  },
  {
   "cell_type": "markdown",
   "metadata": {},
   "source": [
    "### Forcing an Array's Data Type\n",
    "You also have the option of forcing all NumPy array elements to have a specific data type.  Here I'll take a `list` of `float` objects and coerce them into `int` objects by specifying the **`dtype`** parameter on the `np.array` function."
   ]
  },
  {
   "cell_type": "code",
   "execution_count": null,
   "metadata": {
    "collapsed": true
   },
   "outputs": [],
   "source": [
    "list_of_floats = [11.2, 57.6, 95.1]\n",
    "np.array(list_of_floats, dtype=int)"
   ]
  },
  {
   "cell_type": "markdown",
   "metadata": {},
   "source": [
    "<div class=\"alert alert-block alert-info\">\n",
    "<p>The <code>dtype</code> parameter can take many different values in additional these standard Python types: <code>int, float, bool, complex</code>.</p>\n",
    "\n",
    "<p>For a complete list, you can visit <a href=\"https://docs.scipy.org/doc/numpy/user/basics.types.html\" target=\"_blank\">NumPy website.</a>\n",
    "</div>"
   ]
  },
  {
   "cell_type": "markdown",
   "metadata": {},
   "source": [
    "### Arrays can be Multi-Dimensional\n",
    "NumPy arrays can be multi-dimensional. We'll start with a two dimensional array, which can be thought of a grid with x and y coordinates."
   ]
  },
  {
   "cell_type": "code",
   "execution_count": null,
   "metadata": {
    "collapsed": true
   },
   "outputs": [],
   "source": [
    "# Don't focus on how this is being created. Just focus on the output.\n",
    "two_dimensional_array = np.array([range(i, i + 3) for i in [2, 4, 6]])\n",
    "two_dimensional_array"
   ]
  },
  {
   "cell_type": "markdown",
   "metadata": {},
   "source": [
    "#### Accessing Multi-Dimensional Arrays"
   ]
  },
  {
   "cell_type": "code",
   "execution_count": null,
   "metadata": {
    "collapsed": true
   },
   "outputs": [],
   "source": [
    "# Get the first row (only specify an \"x\" coordinate)\n",
    "print(two_dimensional_array[0])\n",
    "\n",
    "# Get the last row\n",
    "print(two_dimensional_array[2])\n",
    "\n",
    "# Get the 1st column of the 2nd row.\n",
    "print(two_dimensional_array[1][0])\n"
   ]
  },
  {
   "cell_type": "markdown",
   "metadata": {
    "collapsed": true
   },
   "source": [
    "## NumPy Array Attributes\n",
    "Like all objects, NumPy Arrays have a set of attributes. Let's take moment to discuss some that you may find particularly helpful:\n",
    "\n",
    "1. `ndim`\n",
    "1. `shape`\n",
    "1. `size`\n",
    "1. `dtype`\n",
    "\n",
    "To get started, let's create 3 arrays."
   ]
  },
  {
   "cell_type": "code",
   "execution_count": null,
   "metadata": {
    "collapsed": true
   },
   "outputs": [],
   "source": [
    "x1 = np.random.randint(10, size=6)  # One-dimensional array\n",
    "x2 = np.random.randint(10, size=(3, 4))  # Two-dimensional array\n",
    "x3 = np.random.randint(10, size=(3, 4, 5))  # Three-dimensional array\n",
    "\n",
    "print(\"One Dimensional Array\", x1, sep='\\n')\n",
    "print(\"Two Dimensional Array\", x2, sep='\\n')\n",
    "print(\"Three Dimensional Array\", x3, sep='\\n')"
   ]
  },
  {
   "cell_type": "markdown",
   "metadata": {},
   "source": [
    "### `ndim` Attribute\n",
    "Returns the number of dimensions a given array has."
   ]
  },
  {
   "cell_type": "code",
   "execution_count": null,
   "metadata": {
    "collapsed": true
   },
   "outputs": [],
   "source": [
    "print(x1.ndim, x2.ndim, x3.ndim)"
   ]
  },
  {
   "cell_type": "markdown",
   "metadata": {},
   "source": [
    "### `shape` Attribute\n",
    "Returns the number of elements a given dimension has. For our `x2` array we'd get this output:\n",
    "\n",
    "```python\n",
    "x2.shape\n",
    "(3, 4)\n",
    "```\n",
    "\n",
    "If you look above, you'll see that the full represenation of our `x2` array was like this:\n",
    "\n",
    "```\n",
    "[[6 7 9 1]\n",
    " [3 4 1 2]\n",
    " [6 7 0 7]]\n",
    "```\n",
    "\n",
    "The `(3, 4)` returned by `x2.shape` is referring to the fact that our array had three \"rows\" and four \"columns\" in each row."
   ]
  },
  {
   "cell_type": "markdown",
   "metadata": {},
   "source": [
    "### `size` Attribute\n",
    "Returns the total number of elements across all dimensions of an array.\n",
    "\n",
    "So, for our one-dimensional array `size` will be 6.  \n",
    "For our 2 dimensional array had dimensions of 3 & 4 elements, so `size` will be 12.  \n",
    "Our 3 dimensional array had dimensions of 3, 4, and 5. Therefore it will have a total size of 60 elements."
   ]
  },
  {
   "cell_type": "code",
   "execution_count": null,
   "metadata": {
    "collapsed": true
   },
   "outputs": [],
   "source": [
    "print(\"x1 size:\", x1.size)\n",
    "print(\"x2 size:\", x2.size)\n",
    "print(\"x3 size:\", x3.size)"
   ]
  },
  {
   "cell_type": "markdown",
   "metadata": {},
   "source": [
    "### `dtype` Attribute\n",
    "Previously, we passed a `dtype` argument to the `np.array` constructor function to coerce the data type of the array's elements.\n",
    "\n",
    "It comes about again here, but this time as an attribute of all NumPy array's. Unsurprisingly, it tells you the data type of the objects held inside the array."
   ]
  },
  {
   "cell_type": "code",
   "execution_count": null,
   "metadata": {
    "collapsed": true
   },
   "outputs": [],
   "source": [
    "float_array = np.array([1, 2, 3.1])\n",
    "float_array.dtype"
   ]
  },
  {
   "cell_type": "markdown",
   "metadata": {},
   "source": [
    "### `itemsize` and `nbytes` Attributes\n",
    "Other attributes include ``itemsize``, which lists the size (in bytes) of each array element, and ``nbytes``, which lists the total size (in bytes) of the array:"
   ]
  },
  {
   "cell_type": "code",
   "execution_count": null,
   "metadata": {
    "collapsed": true
   },
   "outputs": [],
   "source": [
    "print(\"itemsize:\", x3.itemsize, \"bytes\")\n",
    "print(\"nbytes:\", x3.nbytes, \"bytes\")"
   ]
  },
  {
   "cell_type": "markdown",
   "metadata": {},
   "source": [
    "In general, we expect that ``nbytes`` is equal to ``itemsize`` times ``size``."
   ]
  }
 ],
 "metadata": {
  "kernelspec": {
   "display_name": "Python 3",
   "language": "python",
   "name": "python3"
  },
  "language_info": {
   "codemirror_mode": {
    "name": "ipython",
    "version": 3
   },
   "file_extension": ".py",
   "mimetype": "text/x-python",
   "name": "python",
   "nbconvert_exporter": "python",
   "pygments_lexer": "ipython3",
   "version": "3.6.1"
  }
 },
 "nbformat": 4,
 "nbformat_minor": 2
}
