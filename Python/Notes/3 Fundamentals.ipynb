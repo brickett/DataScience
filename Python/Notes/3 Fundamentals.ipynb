{
 "cells": [
  {
   "cell_type": "code",
   "execution_count": 2,
   "metadata": {},
   "outputs": [
    {
     "name": "stdout",
     "output_type": "stream",
     "text": [
      "What is your computer number?3\n",
      "The row number is 0 and the column number is 3\n"
     ]
    }
   ],
   "source": [
    "compNum = int(input(\"What is your computer number?\"))\n",
    "row = compNum//9\n",
    "column = compNum%9\n",
    "row = str(row)\n",
    "column = str(column)\n",
    "print (\"The row number is {} and the column number is {}\".format(row,column))"
   ]
  },
  {
   "cell_type": "code",
   "execution_count": 23,
   "metadata": {},
   "outputs": [
    {
     "name": "stdout",
     "output_type": "stream",
     "text": [
      "How much does the bag of apples weigh? 6\n",
      "The cost of the purchase is 15.0 dollars.\n",
      "How much cash did the customer give you? 20\n",
      "You should give the customer 5.0 dollars back\n"
     ]
    }
   ],
   "source": [
    "lbs=input(\"How much does the bag of apples weigh? \")\n",
    "lbs = int(lbs)\n",
    "cost=lbs*2.5\n",
    "\n",
    "print(\"The cost of the purchase is \" + str(cost) + \" dollars.\")\n",
    "cash=input(\"How much cash did the customer give you? \")\n",
    "cash = int(cash)\n",
    "\n",
    "if cash<cost:\n",
    "    print(\"That's not enough! Ask the customer for more money.\")\n",
    "else:\n",
    "    diff=cash-cost\n",
    "    print(\"You should give the customer \" + str(diff)+\" dollars back\")"
   ]
  },
  {
   "cell_type": "code",
   "execution_count": null,
   "metadata": {
    "collapsed": true
   },
   "outputs": [],
   "source": []
  }
 ],
 "metadata": {
  "kernelspec": {
   "display_name": "Python 3",
   "language": "python",
   "name": "python3"
  },
  "language_info": {
   "codemirror_mode": {
    "name": "ipython",
    "version": 3
   },
   "file_extension": ".py",
   "mimetype": "text/x-python",
   "name": "python",
   "nbconvert_exporter": "python",
   "pygments_lexer": "ipython3",
   "version": "3.6.1"
  }
 },
 "nbformat": 4,
 "nbformat_minor": 2
}
