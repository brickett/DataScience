{
 "cells": [
  {
   "cell_type": "code",
   "execution_count": 19,
   "metadata": {},
   "outputs": [
    {
     "name": "stdout",
     "output_type": "stream",
     "text": [
      "The value of a is between b and c\n"
     ]
    }
   ],
   "source": [
    "a = 10\n",
    "b = 5\n",
    "c = 20\n",
    "\n",
    "if a>b:\n",
    "    if a<c:\n",
    "        print(\"The value of a is between b and c\")"
   ]
  },
  {
   "cell_type": "code",
   "execution_count": 18,
   "metadata": {},
   "outputs": [
    {
     "name": "stdout",
     "output_type": "stream",
     "text": [
      "wasssssssup\n",
      "wasssssssup\n",
      "wasssssssup\n",
      "wasssssssup\n",
      "wasssssssup\n",
      "wasssssssup\n",
      "wasssssssup\n"
     ]
    }
   ],
   "source": [
    "i = 0\n",
    "while i<7:\n",
    "    print(\"wasssssssup\")\n",
    "    i=i+1"
   ]
  },
  {
   "cell_type": "code",
   "execution_count": null,
   "metadata": {},
   "outputs": [],
   "source": [
    "answer=input(\"Which US president was born on July 4th? \")\n",
    "while (answer.lower() != \"calvin coolidge\"): # you accidentally forgot the ! first time around\n",
    "    # also I added in .lower() to solve letter case issue\n",
    "    print(\"Nope, guess again!\")\n",
    "    answer=input()\n",
    "print(\"That's correct!\")"
   ]
  },
  {
   "cell_type": "code",
   "execution_count": 32,
   "metadata": {},
   "outputs": [
    {
     "name": "stdout",
     "output_type": "stream",
     "text": [
      "Which US president was born on July 4th? Calvin Cool\n",
      "Nope, guess again!\n",
      "a\n",
      "Nope, guess again!\n",
      "a\n",
      "Nope, guess again!\n",
      "Some people call this president 'Cal'...\n",
      "Calvin Coolidge\n",
      "Excellent! You got it!\n",
      "\n"
     ]
    }
   ],
   "source": [
    "answer=input(\"Which US president was born on July 4th? \")\n",
    "for i in range(9):\n",
    "    if answer.lower()== \"calvin coolidge\":\n",
    "        print(\"Excellent! You got it!\")\n",
    "        break\n",
    "    else:\n",
    "        print(\"Nope, guess again!\")\n",
    "        if i==2:\n",
    "            print(\"Some people call this president 'Cal'...\")\n",
    "        answer=input()\n",
    "if answer.lower()== \"calvin coolidge\":\n",
    "    print()\n",
    "else:\n",
    "    print(\"You ran out of chances! The answer was Calvin Coolidge.\")"
   ]
  },
  {
   "cell_type": "code",
   "execution_count": 6,
   "metadata": {},
   "outputs": [
    {
     "name": "stdout",
     "output_type": "stream",
     "text": [
      "1\n",
      "3\n",
      "5\n",
      "7\n",
      "9\n",
      "11\n",
      "13\n"
     ]
    }
   ],
   "source": [
    "for i in range (1,15,2):\n",
    "    print(i)"
   ]
  },
  {
   "cell_type": "code",
   "execution_count": 17,
   "metadata": {},
   "outputs": [
    {
     "name": "stdout",
     "output_type": "stream",
     "text": [
      "Give me a number! 5\n",
      "The sum of 5 and all numbers before it is 15\n"
     ]
    }
   ],
   "source": [
    "m=int(input(\"Give me a number! \"))\n",
    "x=0\n",
    "for i in range(0,m+1,1):\n",
    "    x=x+i\n",
    "print(\"The sum of \"+str(m)+\" and all numbers before it is {}\".format(x))\n"
   ]
  },
  {
   "cell_type": "code",
   "execution_count": 20,
   "metadata": {},
   "outputs": [
    {
     "data": {
      "text/plain": [
       "3.141592653589793"
      ]
     },
     "execution_count": 20,
     "metadata": {},
     "output_type": "execute_result"
    }
   ],
   "source": [
    "import math\n",
    "math.pi"
   ]
  },
  {
   "cell_type": "code",
   "execution_count": 30,
   "metadata": {},
   "outputs": [
    {
     "name": "stdout",
     "output_type": "stream",
     "text": [
      "0\n",
      "1\n",
      "2\n",
      "3\n",
      "4\n",
      "5\n",
      "6\n",
      "7\n"
     ]
    }
   ],
   "source": [
    "import random\n",
    "for i in range(random.randint(0,10)):\n",
    "    print(i)\n"
   ]
  },
  {
   "cell_type": "code",
   "execution_count": null,
   "metadata": {
    "collapsed": true
   },
   "outputs": [],
   "source": [
    "\n"
   ]
  }
 ],
 "metadata": {
  "kernelspec": {
   "display_name": "Python 3",
   "language": "python",
   "name": "python3"
  },
  "language_info": {
   "codemirror_mode": {
    "name": "ipython",
    "version": 3
   },
   "file_extension": ".py",
   "mimetype": "text/x-python",
   "name": "python",
   "nbconvert_exporter": "python",
   "pygments_lexer": "ipython3",
   "version": "3.6.1"
  }
 },
 "nbformat": 4,
 "nbformat_minor": 2
}
