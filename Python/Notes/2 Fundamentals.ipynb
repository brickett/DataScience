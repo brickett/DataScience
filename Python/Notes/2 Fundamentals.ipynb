{
 "cells": [
  {
   "cell_type": "code",
   "execution_count": 3,
   "metadata": {},
   "outputs": [
    {
     "name": "stdout",
     "output_type": "stream",
     "text": [
      "What is your name?\n",
      "Sean\n",
      "Welcome to Notre Dame, Sean\n"
     ]
    }
   ],
   "source": [
    "print(\"What is your name?\")\n",
    "theirName=input()\n",
    "print(\"Welcome to Notre Dame, \" + theirName) "
   ]
  },
  {
   "cell_type": "code",
   "execution_count": 5,
   "metadata": {},
   "outputs": [
    {
     "name": "stdout",
     "output_type": "stream",
     "text": [
      "What is your name? Sean\n",
      "Welcome to Notre Dame, Sean!\n"
     ]
    }
   ],
   "source": [
    "theirName=input(\"What is your name? \")\n",
    "print(\"Welcome to Notre Dame, {}!\".format(theirName)) "
   ]
  },
  {
   "cell_type": "code",
   "execution_count": null,
   "metadata": {
    "collapsed": true
   },
   "outputs": [],
   "source": []
  }
 ],
 "metadata": {
  "kernelspec": {
   "display_name": "Python 3",
   "language": "python",
   "name": "python3"
  },
  "language_info": {
   "codemirror_mode": {
    "name": "ipython",
    "version": 3
   },
   "file_extension": ".py",
   "mimetype": "text/x-python",
   "name": "python",
   "nbconvert_exporter": "python",
   "pygments_lexer": "ipython3",
   "version": "3.6.1"
  }
 },
 "nbformat": 4,
 "nbformat_minor": 2
}
