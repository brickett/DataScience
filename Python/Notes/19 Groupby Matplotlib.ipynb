{
 "cells": [
  {
   "cell_type": "code",
   "execution_count": 3,
   "metadata": {
    "collapsed": true
   },
   "outputs": [],
   "source": [
    "import pandas as pd\n",
    "import numpy as np"
   ]
  },
  {
   "cell_type": "code",
   "execution_count": 5,
   "metadata": {},
   "outputs": [],
   "source": [
    "# We'll be using our college scorecard dataset in this tutorial.\n",
    "college_scorecard = pd.read_csv(\n",
    "    './data/college-scorecard-data-scrubbed.csv', \n",
    "    encoding='latin-1')"
   ]
  },
  {
   "cell_type": "code",
   "execution_count": 3,
   "metadata": {},
   "outputs": [
    {
     "data": {
      "text/html": [
       "<div>\n",
       "<style>\n",
       "    .dataframe thead tr:only-child th {\n",
       "        text-align: right;\n",
       "    }\n",
       "\n",
       "    .dataframe thead th {\n",
       "        text-align: left;\n",
       "    }\n",
       "\n",
       "    .dataframe tbody tr th {\n",
       "        vertical-align: top;\n",
       "    }\n",
       "</style>\n",
       "<table border=\"1\" class=\"dataframe\">\n",
       "  <thead>\n",
       "    <tr style=\"text-align: right;\">\n",
       "      <th></th>\n",
       "      <th>YEAR</th>\n",
       "      <th>MONTH</th>\n",
       "      <th>DAY</th>\n",
       "      <th>DAY_OF_WEEK</th>\n",
       "      <th>AIRLINE</th>\n",
       "      <th>FLIGHT_NUMBER</th>\n",
       "      <th>TAXI_IN</th>\n",
       "      <th>TAXI_OUT</th>\n",
       "      <th>DISTANCE</th>\n",
       "    </tr>\n",
       "  </thead>\n",
       "  <tbody>\n",
       "    <tr>\n",
       "      <th>0</th>\n",
       "      <td>2015</td>\n",
       "      <td>8</td>\n",
       "      <td>19</td>\n",
       "      <td>3</td>\n",
       "      <td>EV</td>\n",
       "      <td>3260</td>\n",
       "      <td>7.0</td>\n",
       "      <td>20.0</td>\n",
       "      <td>1091</td>\n",
       "    </tr>\n",
       "    <tr>\n",
       "      <th>1</th>\n",
       "      <td>2015</td>\n",
       "      <td>9</td>\n",
       "      <td>23</td>\n",
       "      <td>3</td>\n",
       "      <td>WN</td>\n",
       "      <td>3050</td>\n",
       "      <td>4.0</td>\n",
       "      <td>9.0</td>\n",
       "      <td>837</td>\n",
       "    </tr>\n",
       "    <tr>\n",
       "      <th>2</th>\n",
       "      <td>2015</td>\n",
       "      <td>10</td>\n",
       "      <td>16</td>\n",
       "      <td>5</td>\n",
       "      <td>AA</td>\n",
       "      <td>1382</td>\n",
       "      <td>13.0</td>\n",
       "      <td>25.0</td>\n",
       "      <td>761</td>\n",
       "    </tr>\n",
       "    <tr>\n",
       "      <th>3</th>\n",
       "      <td>2015</td>\n",
       "      <td>1</td>\n",
       "      <td>19</td>\n",
       "      <td>1</td>\n",
       "      <td>WN</td>\n",
       "      <td>4274</td>\n",
       "      <td>5.0</td>\n",
       "      <td>23.0</td>\n",
       "      <td>1547</td>\n",
       "    </tr>\n",
       "    <tr>\n",
       "      <th>4</th>\n",
       "      <td>2015</td>\n",
       "      <td>4</td>\n",
       "      <td>22</td>\n",
       "      <td>3</td>\n",
       "      <td>WN</td>\n",
       "      <td>2237</td>\n",
       "      <td>5.0</td>\n",
       "      <td>18.0</td>\n",
       "      <td>872</td>\n",
       "    </tr>\n",
       "  </tbody>\n",
       "</table>\n",
       "</div>"
      ],
      "text/plain": [
       "   YEAR  MONTH  DAY  DAY_OF_WEEK AIRLINE  FLIGHT_NUMBER  TAXI_IN  TAXI_OUT  \\\n",
       "0  2015      8   19            3      EV           3260      7.0      20.0   \n",
       "1  2015      9   23            3      WN           3050      4.0       9.0   \n",
       "2  2015     10   16            5      AA           1382     13.0      25.0   \n",
       "3  2015      1   19            1      WN           4274      5.0      23.0   \n",
       "4  2015      4   22            3      WN           2237      5.0      18.0   \n",
       "\n",
       "   DISTANCE  \n",
       "0      1091  \n",
       "1       837  \n",
       "2       761  \n",
       "3      1547  \n",
       "4       872  "
      ]
     },
     "execution_count": 3,
     "metadata": {},
     "output_type": "execute_result"
    }
   ],
   "source": [
    "flights = pd.read_csv('./data/flight_sample.csv')\n",
    "flights.head()"
   ]
  },
  {
   "cell_type": "markdown",
   "metadata": {},
   "source": [
    "## Activity\n",
    "\n",
    "##### Aggregation operations\n",
    "\n",
    "1. Describe only numerical values of flights dataset. \n",
    "2. Describe only the non-numerical values of the flights dataset. \n",
    "3. Describe all the columns of the flights dataset. \n",
    "\n",
    "##### Selection \n",
    "\n",
    "1. Extract only the flight details of the United Airlines (UA). No groupby required for this question. Remind yourself how you did selection of information based on a column. \n",
    "\n",
    "##### GroupBY\n",
    "\n",
    "1. What is the median monthly DISTANCE, TAXI_IN times and TAXI_OUT times for all airlines? \n",
    "2. How about the median monthly DISTANCE, TAXI_IN times and TAXI_OUT summary statistics for only United Airlines (UA)? \n",
    "3. Instead of doing this for each airline, what can you do so that you get all per airline per month summary statistics? "
   ]
  },
  {
   "cell_type": "code",
   "execution_count": 4,
   "metadata": {
    "collapsed": true
   },
   "outputs": [],
   "source": [
    "#Selection based on 'AIRLINE' is United Airlines (UA)\n",
    "UA_flights = flights[flights['AIRLINE'] == 'UA']"
   ]
  },
  {
   "cell_type": "code",
   "execution_count": 5,
   "metadata": {},
   "outputs": [
    {
     "data": {
      "text/html": [
       "<div>\n",
       "<style>\n",
       "    .dataframe thead tr:only-child th {\n",
       "        text-align: right;\n",
       "    }\n",
       "\n",
       "    .dataframe thead th {\n",
       "        text-align: left;\n",
       "    }\n",
       "\n",
       "    .dataframe tbody tr th {\n",
       "        vertical-align: top;\n",
       "    }\n",
       "</style>\n",
       "<table border=\"1\" class=\"dataframe\">\n",
       "  <thead>\n",
       "    <tr style=\"text-align: right;\">\n",
       "      <th></th>\n",
       "      <th>YEAR</th>\n",
       "      <th>MONTH</th>\n",
       "      <th>DAY</th>\n",
       "      <th>DAY_OF_WEEK</th>\n",
       "      <th>AIRLINE</th>\n",
       "      <th>FLIGHT_NUMBER</th>\n",
       "      <th>TAXI_IN</th>\n",
       "      <th>TAXI_OUT</th>\n",
       "      <th>DISTANCE</th>\n",
       "    </tr>\n",
       "  </thead>\n",
       "  <tbody>\n",
       "    <tr>\n",
       "      <th>10</th>\n",
       "      <td>2015</td>\n",
       "      <td>4</td>\n",
       "      <td>27</td>\n",
       "      <td>1</td>\n",
       "      <td>UA</td>\n",
       "      <td>1755</td>\n",
       "      <td>11.0</td>\n",
       "      <td>19.0</td>\n",
       "      <td>2704</td>\n",
       "    </tr>\n",
       "    <tr>\n",
       "      <th>17</th>\n",
       "      <td>2015</td>\n",
       "      <td>12</td>\n",
       "      <td>29</td>\n",
       "      <td>2</td>\n",
       "      <td>UA</td>\n",
       "      <td>1285</td>\n",
       "      <td>7.0</td>\n",
       "      <td>14.0</td>\n",
       "      <td>862</td>\n",
       "    </tr>\n",
       "    <tr>\n",
       "      <th>21</th>\n",
       "      <td>2015</td>\n",
       "      <td>5</td>\n",
       "      <td>2</td>\n",
       "      <td>6</td>\n",
       "      <td>UA</td>\n",
       "      <td>589</td>\n",
       "      <td>10.0</td>\n",
       "      <td>20.0</td>\n",
       "      <td>925</td>\n",
       "    </tr>\n",
       "    <tr>\n",
       "      <th>34</th>\n",
       "      <td>2015</td>\n",
       "      <td>2</td>\n",
       "      <td>12</td>\n",
       "      <td>4</td>\n",
       "      <td>UA</td>\n",
       "      <td>1244</td>\n",
       "      <td>10.0</td>\n",
       "      <td>11.0</td>\n",
       "      <td>2454</td>\n",
       "    </tr>\n",
       "    <tr>\n",
       "      <th>35</th>\n",
       "      <td>2015</td>\n",
       "      <td>1</td>\n",
       "      <td>10</td>\n",
       "      <td>6</td>\n",
       "      <td>UA</td>\n",
       "      <td>1721</td>\n",
       "      <td>5.0</td>\n",
       "      <td>10.0</td>\n",
       "      <td>967</td>\n",
       "    </tr>\n",
       "  </tbody>\n",
       "</table>\n",
       "</div>"
      ],
      "text/plain": [
       "    YEAR  MONTH  DAY  DAY_OF_WEEK AIRLINE  FLIGHT_NUMBER  TAXI_IN  TAXI_OUT  \\\n",
       "10  2015      4   27            1      UA           1755     11.0      19.0   \n",
       "17  2015     12   29            2      UA           1285      7.0      14.0   \n",
       "21  2015      5    2            6      UA            589     10.0      20.0   \n",
       "34  2015      2   12            4      UA           1244     10.0      11.0   \n",
       "35  2015      1   10            6      UA           1721      5.0      10.0   \n",
       "\n",
       "    DISTANCE  \n",
       "10      2704  \n",
       "17       862  \n",
       "21       925  \n",
       "34      2454  \n",
       "35       967  "
      ]
     },
     "execution_count": 5,
     "metadata": {},
     "output_type": "execute_result"
    }
   ],
   "source": [
    "UA_flights.head()"
   ]
  },
  {
   "cell_type": "code",
   "execution_count": 6,
   "metadata": {},
   "outputs": [
    {
     "data": {
      "text/html": [
       "<div>\n",
       "<style>\n",
       "    .dataframe thead tr:only-child th {\n",
       "        text-align: right;\n",
       "    }\n",
       "\n",
       "    .dataframe thead th {\n",
       "        text-align: left;\n",
       "    }\n",
       "\n",
       "    .dataframe tbody tr th {\n",
       "        vertical-align: top;\n",
       "    }\n",
       "</style>\n",
       "<table border=\"1\" class=\"dataframe\">\n",
       "  <thead>\n",
       "    <tr style=\"text-align: right;\">\n",
       "      <th></th>\n",
       "      <th>DISTANCE</th>\n",
       "      <th>TAXI_IN</th>\n",
       "      <th>TAXI_OUT</th>\n",
       "    </tr>\n",
       "    <tr>\n",
       "      <th>MONTH</th>\n",
       "      <th></th>\n",
       "      <th></th>\n",
       "      <th></th>\n",
       "    </tr>\n",
       "  </thead>\n",
       "  <tbody>\n",
       "    <tr>\n",
       "      <th>1</th>\n",
       "      <td>627.0</td>\n",
       "      <td>6.0</td>\n",
       "      <td>14.0</td>\n",
       "    </tr>\n",
       "    <tr>\n",
       "      <th>2</th>\n",
       "      <td>651.0</td>\n",
       "      <td>6.0</td>\n",
       "      <td>14.0</td>\n",
       "    </tr>\n",
       "    <tr>\n",
       "      <th>3</th>\n",
       "      <td>667.0</td>\n",
       "      <td>6.0</td>\n",
       "      <td>14.0</td>\n",
       "    </tr>\n",
       "    <tr>\n",
       "      <th>4</th>\n",
       "      <td>641.5</td>\n",
       "      <td>6.0</td>\n",
       "      <td>14.0</td>\n",
       "    </tr>\n",
       "    <tr>\n",
       "      <th>5</th>\n",
       "      <td>678.0</td>\n",
       "      <td>6.0</td>\n",
       "      <td>13.0</td>\n",
       "    </tr>\n",
       "    <tr>\n",
       "      <th>6</th>\n",
       "      <td>646.0</td>\n",
       "      <td>6.0</td>\n",
       "      <td>14.0</td>\n",
       "    </tr>\n",
       "    <tr>\n",
       "      <th>7</th>\n",
       "      <td>697.0</td>\n",
       "      <td>6.0</td>\n",
       "      <td>14.0</td>\n",
       "    </tr>\n",
       "    <tr>\n",
       "      <th>8</th>\n",
       "      <td>670.0</td>\n",
       "      <td>6.0</td>\n",
       "      <td>14.0</td>\n",
       "    </tr>\n",
       "    <tr>\n",
       "      <th>9</th>\n",
       "      <td>618.5</td>\n",
       "      <td>6.0</td>\n",
       "      <td>14.0</td>\n",
       "    </tr>\n",
       "    <tr>\n",
       "      <th>10</th>\n",
       "      <td>622.0</td>\n",
       "      <td>6.0</td>\n",
       "      <td>14.0</td>\n",
       "    </tr>\n",
       "    <tr>\n",
       "      <th>11</th>\n",
       "      <td>667.0</td>\n",
       "      <td>6.0</td>\n",
       "      <td>13.0</td>\n",
       "    </tr>\n",
       "    <tr>\n",
       "      <th>12</th>\n",
       "      <td>683.5</td>\n",
       "      <td>6.0</td>\n",
       "      <td>14.0</td>\n",
       "    </tr>\n",
       "  </tbody>\n",
       "</table>\n",
       "</div>"
      ],
      "text/plain": [
       "       DISTANCE  TAXI_IN  TAXI_OUT\n",
       "MONTH                             \n",
       "1         627.0      6.0      14.0\n",
       "2         651.0      6.0      14.0\n",
       "3         667.0      6.0      14.0\n",
       "4         641.5      6.0      14.0\n",
       "5         678.0      6.0      13.0\n",
       "6         646.0      6.0      14.0\n",
       "7         697.0      6.0      14.0\n",
       "8         670.0      6.0      14.0\n",
       "9         618.5      6.0      14.0\n",
       "10        622.0      6.0      14.0\n",
       "11        667.0      6.0      13.0\n",
       "12        683.5      6.0      14.0"
      ]
     },
     "execution_count": 6,
     "metadata": {},
     "output_type": "execute_result"
    }
   ],
   "source": [
    "# GroupBy\n",
    "flights_by_month = flights.groupby(['MONTH'])\n",
    "# Selection and Aggregation\n",
    "flights_by_month['DISTANCE','TAXI_IN','TAXI_OUT'].median()"
   ]
  },
  {
   "cell_type": "code",
   "execution_count": 7,
   "metadata": {},
   "outputs": [
    {
     "data": {
      "text/html": [
       "<div>\n",
       "<style>\n",
       "    .dataframe thead tr:only-child th {\n",
       "        text-align: right;\n",
       "    }\n",
       "\n",
       "    .dataframe thead th {\n",
       "        text-align: left;\n",
       "    }\n",
       "\n",
       "    .dataframe tbody tr th {\n",
       "        vertical-align: top;\n",
       "    }\n",
       "</style>\n",
       "<table border=\"1\" class=\"dataframe\">\n",
       "  <thead>\n",
       "    <tr style=\"text-align: right;\">\n",
       "      <th></th>\n",
       "      <th>DISTANCE</th>\n",
       "      <th>TAXI_IN</th>\n",
       "      <th>TAXI_OUT</th>\n",
       "    </tr>\n",
       "    <tr>\n",
       "      <th>MONTH</th>\n",
       "      <th></th>\n",
       "      <th></th>\n",
       "      <th></th>\n",
       "    </tr>\n",
       "  </thead>\n",
       "  <tbody>\n",
       "    <tr>\n",
       "      <th>1</th>\n",
       "      <td>967.0</td>\n",
       "      <td>7.0</td>\n",
       "      <td>14.0</td>\n",
       "    </tr>\n",
       "    <tr>\n",
       "      <th>2</th>\n",
       "      <td>1066.5</td>\n",
       "      <td>7.0</td>\n",
       "      <td>17.0</td>\n",
       "    </tr>\n",
       "    <tr>\n",
       "      <th>3</th>\n",
       "      <td>1009.0</td>\n",
       "      <td>8.0</td>\n",
       "      <td>14.5</td>\n",
       "    </tr>\n",
       "    <tr>\n",
       "      <th>4</th>\n",
       "      <td>1201.0</td>\n",
       "      <td>7.0</td>\n",
       "      <td>16.0</td>\n",
       "    </tr>\n",
       "    <tr>\n",
       "      <th>5</th>\n",
       "      <td>967.0</td>\n",
       "      <td>7.0</td>\n",
       "      <td>16.0</td>\n",
       "    </tr>\n",
       "    <tr>\n",
       "      <th>6</th>\n",
       "      <td>1001.0</td>\n",
       "      <td>7.0</td>\n",
       "      <td>14.0</td>\n",
       "    </tr>\n",
       "    <tr>\n",
       "      <th>7</th>\n",
       "      <td>1341.0</td>\n",
       "      <td>7.0</td>\n",
       "      <td>14.0</td>\n",
       "    </tr>\n",
       "    <tr>\n",
       "      <th>8</th>\n",
       "      <td>1010.0</td>\n",
       "      <td>7.0</td>\n",
       "      <td>15.0</td>\n",
       "    </tr>\n",
       "    <tr>\n",
       "      <th>9</th>\n",
       "      <td>978.0</td>\n",
       "      <td>7.0</td>\n",
       "      <td>14.0</td>\n",
       "    </tr>\n",
       "    <tr>\n",
       "      <th>10</th>\n",
       "      <td>937.0</td>\n",
       "      <td>7.0</td>\n",
       "      <td>15.0</td>\n",
       "    </tr>\n",
       "    <tr>\n",
       "      <th>11</th>\n",
       "      <td>1041.0</td>\n",
       "      <td>8.0</td>\n",
       "      <td>14.0</td>\n",
       "    </tr>\n",
       "    <tr>\n",
       "      <th>12</th>\n",
       "      <td>1210.5</td>\n",
       "      <td>8.0</td>\n",
       "      <td>15.0</td>\n",
       "    </tr>\n",
       "  </tbody>\n",
       "</table>\n",
       "</div>"
      ],
      "text/plain": [
       "       DISTANCE  TAXI_IN  TAXI_OUT\n",
       "MONTH                             \n",
       "1         967.0      7.0      14.0\n",
       "2        1066.5      7.0      17.0\n",
       "3        1009.0      8.0      14.5\n",
       "4        1201.0      7.0      16.0\n",
       "5         967.0      7.0      16.0\n",
       "6        1001.0      7.0      14.0\n",
       "7        1341.0      7.0      14.0\n",
       "8        1010.0      7.0      15.0\n",
       "9         978.0      7.0      14.0\n",
       "10        937.0      7.0      15.0\n",
       "11       1041.0      8.0      14.0\n",
       "12       1210.5      8.0      15.0"
      ]
     },
     "execution_count": 7,
     "metadata": {},
     "output_type": "execute_result"
    }
   ],
   "source": [
    "UA_flights_by_month = UA_flights.groupby(['MONTH'])\n",
    "UA_flights_by_month['DISTANCE','TAXI_IN','TAXI_OUT'].median()"
   ]
  },
  {
   "cell_type": "code",
   "execution_count": 8,
   "metadata": {
    "collapsed": true
   },
   "outputs": [],
   "source": [
    "flights_by_airline_month = flights.groupby(['AIRLINE','MONTH'])\n",
    "summary_by_airline_month = flights_by_airline_month['DISTANCE','TAXI_IN','TAXI_OUT'].median()"
   ]
  },
  {
   "cell_type": "code",
   "execution_count": 11,
   "metadata": {},
   "outputs": [
    {
     "data": {
      "text/html": [
       "<div>\n",
       "<style>\n",
       "    .dataframe thead tr:only-child th {\n",
       "        text-align: right;\n",
       "    }\n",
       "\n",
       "    .dataframe thead th {\n",
       "        text-align: left;\n",
       "    }\n",
       "\n",
       "    .dataframe tbody tr th {\n",
       "        vertical-align: top;\n",
       "    }\n",
       "</style>\n",
       "<table border=\"1\" class=\"dataframe\">\n",
       "  <thead>\n",
       "    <tr style=\"text-align: right;\">\n",
       "      <th></th>\n",
       "      <th>DISTANCE</th>\n",
       "      <th>TAXI_IN</th>\n",
       "      <th>TAXI_OUT</th>\n",
       "    </tr>\n",
       "    <tr>\n",
       "      <th>MONTH</th>\n",
       "      <th></th>\n",
       "      <th></th>\n",
       "      <th></th>\n",
       "    </tr>\n",
       "  </thead>\n",
       "  <tbody>\n",
       "    <tr>\n",
       "      <th>1</th>\n",
       "      <td>163.0</td>\n",
       "      <td>6.0</td>\n",
       "      <td>12.0</td>\n",
       "    </tr>\n",
       "    <tr>\n",
       "      <th>2</th>\n",
       "      <td>189.5</td>\n",
       "      <td>7.5</td>\n",
       "      <td>11.5</td>\n",
       "    </tr>\n",
       "    <tr>\n",
       "      <th>3</th>\n",
       "      <td>163.0</td>\n",
       "      <td>5.0</td>\n",
       "      <td>11.0</td>\n",
       "    </tr>\n",
       "    <tr>\n",
       "      <th>4</th>\n",
       "      <td>216.0</td>\n",
       "      <td>7.0</td>\n",
       "      <td>10.0</td>\n",
       "    </tr>\n",
       "    <tr>\n",
       "      <th>5</th>\n",
       "      <td>189.5</td>\n",
       "      <td>6.5</td>\n",
       "      <td>10.0</td>\n",
       "    </tr>\n",
       "    <tr>\n",
       "      <th>6</th>\n",
       "      <td>216.0</td>\n",
       "      <td>6.0</td>\n",
       "      <td>11.0</td>\n",
       "    </tr>\n",
       "    <tr>\n",
       "      <th>7</th>\n",
       "      <td>121.0</td>\n",
       "      <td>6.0</td>\n",
       "      <td>9.0</td>\n",
       "    </tr>\n",
       "    <tr>\n",
       "      <th>8</th>\n",
       "      <td>2338.0</td>\n",
       "      <td>6.0</td>\n",
       "      <td>15.0</td>\n",
       "    </tr>\n",
       "    <tr>\n",
       "      <th>9</th>\n",
       "      <td>216.0</td>\n",
       "      <td>6.0</td>\n",
       "      <td>13.0</td>\n",
       "    </tr>\n",
       "    <tr>\n",
       "      <th>10</th>\n",
       "      <td>100.0</td>\n",
       "      <td>5.0</td>\n",
       "      <td>8.0</td>\n",
       "    </tr>\n",
       "    <tr>\n",
       "      <th>11</th>\n",
       "      <td>102.0</td>\n",
       "      <td>6.5</td>\n",
       "      <td>11.0</td>\n",
       "    </tr>\n",
       "    <tr>\n",
       "      <th>12</th>\n",
       "      <td>163.0</td>\n",
       "      <td>6.0</td>\n",
       "      <td>8.0</td>\n",
       "    </tr>\n",
       "  </tbody>\n",
       "</table>\n",
       "</div>"
      ],
      "text/plain": [
       "       DISTANCE  TAXI_IN  TAXI_OUT\n",
       "MONTH                             \n",
       "1         163.0      6.0      12.0\n",
       "2         189.5      7.5      11.5\n",
       "3         163.0      5.0      11.0\n",
       "4         216.0      7.0      10.0\n",
       "5         189.5      6.5      10.0\n",
       "6         216.0      6.0      11.0\n",
       "7         121.0      6.0       9.0\n",
       "8        2338.0      6.0      15.0\n",
       "9         216.0      6.0      13.0\n",
       "10        100.0      5.0       8.0\n",
       "11        102.0      6.5      11.0\n",
       "12        163.0      6.0       8.0"
      ]
     },
     "execution_count": 11,
     "metadata": {},
     "output_type": "execute_result"
    }
   ],
   "source": [
    "summary_by_airline_month.loc['HA']"
   ]
  },
  {
   "cell_type": "markdown",
   "metadata": {},
   "source": [
    "## Activity: \n",
    "\n",
    "We will work again on the `college-loan-default-rates.csv` and `college-scorecard-data-scrubbed.csv` datasets. \n",
    "\n",
    "Use `aggregate()` method to produce\n",
    "\n",
    "1. The average, minimum and maximum `full_time_retention_rate_4_year` per state using `college-scorecard-data-scrubbed.csv` dataset. \n",
    "    * After producing the above summary statistics, make sure you rename your columns for average, minimum and maximum as `Avg. Retention`, `Low Retention`, and `High Retention` respectively. \n",
    "2. Produce per state and city, minimum and maximum for the `sat_average` column and average for the `full_time_retention_rate_4_year` column. "
   ]
  },
  {
   "cell_type": "code",
   "execution_count": 12,
   "metadata": {
    "collapsed": true
   },
   "outputs": [],
   "source": [
    "college_scorecard = pd.read_csv(\n",
    "    './data/college-scorecard-data-scrubbed.csv', \n",
    "    encoding='latin-1')"
   ]
  },
  {
   "cell_type": "code",
   "execution_count": 9,
   "metadata": {},
   "outputs": [
    {
     "data": {
      "text/html": [
       "<div>\n",
       "<style>\n",
       "    .dataframe thead tr:only-child th {\n",
       "        text-align: right;\n",
       "    }\n",
       "\n",
       "    .dataframe thead th {\n",
       "        text-align: left;\n",
       "    }\n",
       "\n",
       "    .dataframe tbody tr th {\n",
       "        vertical-align: top;\n",
       "    }\n",
       "</style>\n",
       "<table border=\"1\" class=\"dataframe\">\n",
       "  <thead>\n",
       "    <tr style=\"text-align: right;\">\n",
       "      <th></th>\n",
       "      <th>Avg. Retention</th>\n",
       "      <th>High Retention</th>\n",
       "      <th>Low Retention</th>\n",
       "    </tr>\n",
       "    <tr>\n",
       "      <th>state</th>\n",
       "      <th></th>\n",
       "      <th></th>\n",
       "      <th></th>\n",
       "    </tr>\n",
       "  </thead>\n",
       "  <tbody>\n",
       "    <tr>\n",
       "      <th>AK</th>\n",
       "      <td>0.663240</td>\n",
       "      <td>0.7756</td>\n",
       "      <td>0.3333</td>\n",
       "    </tr>\n",
       "    <tr>\n",
       "      <th>AL</th>\n",
       "      <td>0.615436</td>\n",
       "      <td>1.0000</td>\n",
       "      <td>0.0000</td>\n",
       "    </tr>\n",
       "    <tr>\n",
       "      <th>AR</th>\n",
       "      <td>0.650996</td>\n",
       "      <td>0.8667</td>\n",
       "      <td>0.2564</td>\n",
       "    </tr>\n",
       "    <tr>\n",
       "      <th>AS</th>\n",
       "      <td>1.000000</td>\n",
       "      <td>1.0000</td>\n",
       "      <td>1.0000</td>\n",
       "    </tr>\n",
       "    <tr>\n",
       "      <th>AZ</th>\n",
       "      <td>0.679600</td>\n",
       "      <td>1.0000</td>\n",
       "      <td>0.2000</td>\n",
       "    </tr>\n",
       "    <tr>\n",
       "      <th>CA</th>\n",
       "      <td>0.760156</td>\n",
       "      <td>1.0000</td>\n",
       "      <td>0.0000</td>\n",
       "    </tr>\n",
       "    <tr>\n",
       "      <th>CO</th>\n",
       "      <td>0.578742</td>\n",
       "      <td>0.9406</td>\n",
       "      <td>0.0000</td>\n",
       "    </tr>\n",
       "    <tr>\n",
       "      <th>CT</th>\n",
       "      <td>0.790324</td>\n",
       "      <td>0.9838</td>\n",
       "      <td>0.3846</td>\n",
       "    </tr>\n",
       "    <tr>\n",
       "      <th>DC</th>\n",
       "      <td>0.707667</td>\n",
       "      <td>0.9630</td>\n",
       "      <td>0.3333</td>\n",
       "    </tr>\n",
       "    <tr>\n",
       "      <th>DE</th>\n",
       "      <td>0.644657</td>\n",
       "      <td>1.0000</td>\n",
       "      <td>0.0000</td>\n",
       "    </tr>\n",
       "    <tr>\n",
       "      <th>FL</th>\n",
       "      <td>0.652971</td>\n",
       "      <td>1.0000</td>\n",
       "      <td>0.0000</td>\n",
       "    </tr>\n",
       "    <tr>\n",
       "      <th>FM</th>\n",
       "      <td>NaN</td>\n",
       "      <td>NaN</td>\n",
       "      <td>NaN</td>\n",
       "    </tr>\n",
       "    <tr>\n",
       "      <th>GA</th>\n",
       "      <td>0.651319</td>\n",
       "      <td>1.0000</td>\n",
       "      <td>0.0000</td>\n",
       "    </tr>\n",
       "    <tr>\n",
       "      <th>GU</th>\n",
       "      <td>0.630100</td>\n",
       "      <td>0.7602</td>\n",
       "      <td>0.5000</td>\n",
       "    </tr>\n",
       "    <tr>\n",
       "      <th>HI</th>\n",
       "      <td>0.698980</td>\n",
       "      <td>0.7895</td>\n",
       "      <td>0.6000</td>\n",
       "    </tr>\n",
       "    <tr>\n",
       "      <th>IA</th>\n",
       "      <td>0.690230</td>\n",
       "      <td>1.0000</td>\n",
       "      <td>0.0000</td>\n",
       "    </tr>\n",
       "    <tr>\n",
       "      <th>ID</th>\n",
       "      <td>0.614592</td>\n",
       "      <td>0.8591</td>\n",
       "      <td>0.1250</td>\n",
       "    </tr>\n",
       "    <tr>\n",
       "      <th>IL</th>\n",
       "      <td>0.688471</td>\n",
       "      <td>1.0000</td>\n",
       "      <td>0.1250</td>\n",
       "    </tr>\n",
       "    <tr>\n",
       "      <th>IN</th>\n",
       "      <td>0.704418</td>\n",
       "      <td>1.0000</td>\n",
       "      <td>0.0000</td>\n",
       "    </tr>\n",
       "    <tr>\n",
       "      <th>KS</th>\n",
       "      <td>0.614648</td>\n",
       "      <td>0.8324</td>\n",
       "      <td>0.0000</td>\n",
       "    </tr>\n",
       "    <tr>\n",
       "      <th>KY</th>\n",
       "      <td>0.705435</td>\n",
       "      <td>1.0000</td>\n",
       "      <td>0.4372</td>\n",
       "    </tr>\n",
       "    <tr>\n",
       "      <th>LA</th>\n",
       "      <td>0.730011</td>\n",
       "      <td>1.0000</td>\n",
       "      <td>0.4565</td>\n",
       "    </tr>\n",
       "    <tr>\n",
       "      <th>MA</th>\n",
       "      <td>0.810674</td>\n",
       "      <td>1.0000</td>\n",
       "      <td>0.0000</td>\n",
       "    </tr>\n",
       "    <tr>\n",
       "      <th>MD</th>\n",
       "      <td>0.725240</td>\n",
       "      <td>1.0000</td>\n",
       "      <td>0.0000</td>\n",
       "    </tr>\n",
       "    <tr>\n",
       "      <th>ME</th>\n",
       "      <td>0.714033</td>\n",
       "      <td>0.9779</td>\n",
       "      <td>0.3077</td>\n",
       "    </tr>\n",
       "    <tr>\n",
       "      <th>MH</th>\n",
       "      <td>NaN</td>\n",
       "      <td>NaN</td>\n",
       "      <td>NaN</td>\n",
       "    </tr>\n",
       "    <tr>\n",
       "      <th>MI</th>\n",
       "      <td>0.704515</td>\n",
       "      <td>1.0000</td>\n",
       "      <td>0.3333</td>\n",
       "    </tr>\n",
       "    <tr>\n",
       "      <th>MN</th>\n",
       "      <td>0.679961</td>\n",
       "      <td>1.0000</td>\n",
       "      <td>0.0000</td>\n",
       "    </tr>\n",
       "    <tr>\n",
       "      <th>MO</th>\n",
       "      <td>0.721803</td>\n",
       "      <td>1.0000</td>\n",
       "      <td>0.2857</td>\n",
       "    </tr>\n",
       "    <tr>\n",
       "      <th>MP</th>\n",
       "      <td>0.583300</td>\n",
       "      <td>0.5833</td>\n",
       "      <td>0.5833</td>\n",
       "    </tr>\n",
       "    <tr>\n",
       "      <th>MS</th>\n",
       "      <td>0.666544</td>\n",
       "      <td>1.0000</td>\n",
       "      <td>0.0000</td>\n",
       "    </tr>\n",
       "    <tr>\n",
       "      <th>MT</th>\n",
       "      <td>0.644550</td>\n",
       "      <td>0.8032</td>\n",
       "      <td>0.3750</td>\n",
       "    </tr>\n",
       "    <tr>\n",
       "      <th>NC</th>\n",
       "      <td>0.684869</td>\n",
       "      <td>1.0000</td>\n",
       "      <td>0.0000</td>\n",
       "    </tr>\n",
       "    <tr>\n",
       "      <th>ND</th>\n",
       "      <td>0.691892</td>\n",
       "      <td>1.0000</td>\n",
       "      <td>0.3333</td>\n",
       "    </tr>\n",
       "    <tr>\n",
       "      <th>NE</th>\n",
       "      <td>0.673739</td>\n",
       "      <td>0.9137</td>\n",
       "      <td>0.0000</td>\n",
       "    </tr>\n",
       "    <tr>\n",
       "      <th>NH</th>\n",
       "      <td>0.751906</td>\n",
       "      <td>0.9766</td>\n",
       "      <td>0.5217</td>\n",
       "    </tr>\n",
       "    <tr>\n",
       "      <th>NJ</th>\n",
       "      <td>0.784363</td>\n",
       "      <td>1.0000</td>\n",
       "      <td>0.1429</td>\n",
       "    </tr>\n",
       "    <tr>\n",
       "      <th>NM</th>\n",
       "      <td>0.646431</td>\n",
       "      <td>0.9231</td>\n",
       "      <td>0.4842</td>\n",
       "    </tr>\n",
       "    <tr>\n",
       "      <th>NV</th>\n",
       "      <td>0.597550</td>\n",
       "      <td>0.8201</td>\n",
       "      <td>0.3846</td>\n",
       "    </tr>\n",
       "    <tr>\n",
       "      <th>NY</th>\n",
       "      <td>0.794553</td>\n",
       "      <td>1.0000</td>\n",
       "      <td>0.0000</td>\n",
       "    </tr>\n",
       "    <tr>\n",
       "      <th>OH</th>\n",
       "      <td>0.693880</td>\n",
       "      <td>1.0000</td>\n",
       "      <td>0.0000</td>\n",
       "    </tr>\n",
       "    <tr>\n",
       "      <th>OK</th>\n",
       "      <td>0.648187</td>\n",
       "      <td>0.8765</td>\n",
       "      <td>0.2105</td>\n",
       "    </tr>\n",
       "    <tr>\n",
       "      <th>OR</th>\n",
       "      <td>0.738593</td>\n",
       "      <td>1.0000</td>\n",
       "      <td>0.3636</td>\n",
       "    </tr>\n",
       "    <tr>\n",
       "      <th>PA</th>\n",
       "      <td>0.778736</td>\n",
       "      <td>1.0000</td>\n",
       "      <td>0.0000</td>\n",
       "    </tr>\n",
       "    <tr>\n",
       "      <th>PR</th>\n",
       "      <td>0.707416</td>\n",
       "      <td>1.0000</td>\n",
       "      <td>0.0000</td>\n",
       "    </tr>\n",
       "    <tr>\n",
       "      <th>PW</th>\n",
       "      <td>NaN</td>\n",
       "      <td>NaN</td>\n",
       "      <td>NaN</td>\n",
       "    </tr>\n",
       "    <tr>\n",
       "      <th>RI</th>\n",
       "      <td>0.860811</td>\n",
       "      <td>0.9754</td>\n",
       "      <td>0.7863</td>\n",
       "    </tr>\n",
       "    <tr>\n",
       "      <th>SC</th>\n",
       "      <td>0.676719</td>\n",
       "      <td>0.9227</td>\n",
       "      <td>0.3636</td>\n",
       "    </tr>\n",
       "    <tr>\n",
       "      <th>SD</th>\n",
       "      <td>0.583219</td>\n",
       "      <td>0.8038</td>\n",
       "      <td>0.0000</td>\n",
       "    </tr>\n",
       "    <tr>\n",
       "      <th>TN</th>\n",
       "      <td>0.678105</td>\n",
       "      <td>1.0000</td>\n",
       "      <td>0.0000</td>\n",
       "    </tr>\n",
       "    <tr>\n",
       "      <th>TX</th>\n",
       "      <td>0.628802</td>\n",
       "      <td>1.0000</td>\n",
       "      <td>0.0000</td>\n",
       "    </tr>\n",
       "    <tr>\n",
       "      <th>UT</th>\n",
       "      <td>0.634473</td>\n",
       "      <td>0.9091</td>\n",
       "      <td>0.1964</td>\n",
       "    </tr>\n",
       "    <tr>\n",
       "      <th>VA</th>\n",
       "      <td>0.719297</td>\n",
       "      <td>1.0000</td>\n",
       "      <td>0.0000</td>\n",
       "    </tr>\n",
       "    <tr>\n",
       "      <th>VI</th>\n",
       "      <td>0.751800</td>\n",
       "      <td>0.7518</td>\n",
       "      <td>0.7518</td>\n",
       "    </tr>\n",
       "    <tr>\n",
       "      <th>VT</th>\n",
       "      <td>0.734389</td>\n",
       "      <td>0.9568</td>\n",
       "      <td>0.4688</td>\n",
       "    </tr>\n",
       "    <tr>\n",
       "      <th>WA</th>\n",
       "      <td>0.720747</td>\n",
       "      <td>0.9414</td>\n",
       "      <td>0.4792</td>\n",
       "    </tr>\n",
       "    <tr>\n",
       "      <th>WI</th>\n",
       "      <td>0.688084</td>\n",
       "      <td>1.0000</td>\n",
       "      <td>0.0000</td>\n",
       "    </tr>\n",
       "    <tr>\n",
       "      <th>WV</th>\n",
       "      <td>0.631127</td>\n",
       "      <td>0.7688</td>\n",
       "      <td>0.3790</td>\n",
       "    </tr>\n",
       "    <tr>\n",
       "      <th>WY</th>\n",
       "      <td>0.627900</td>\n",
       "      <td>0.7558</td>\n",
       "      <td>0.5000</td>\n",
       "    </tr>\n",
       "  </tbody>\n",
       "</table>\n",
       "</div>"
      ],
      "text/plain": [
       "       Avg. Retention  High Retention  Low Retention\n",
       "state                                               \n",
       "AK           0.663240          0.7756         0.3333\n",
       "AL           0.615436          1.0000         0.0000\n",
       "AR           0.650996          0.8667         0.2564\n",
       "AS           1.000000          1.0000         1.0000\n",
       "AZ           0.679600          1.0000         0.2000\n",
       "CA           0.760156          1.0000         0.0000\n",
       "CO           0.578742          0.9406         0.0000\n",
       "CT           0.790324          0.9838         0.3846\n",
       "DC           0.707667          0.9630         0.3333\n",
       "DE           0.644657          1.0000         0.0000\n",
       "FL           0.652971          1.0000         0.0000\n",
       "FM                NaN             NaN            NaN\n",
       "GA           0.651319          1.0000         0.0000\n",
       "GU           0.630100          0.7602         0.5000\n",
       "HI           0.698980          0.7895         0.6000\n",
       "IA           0.690230          1.0000         0.0000\n",
       "ID           0.614592          0.8591         0.1250\n",
       "IL           0.688471          1.0000         0.1250\n",
       "IN           0.704418          1.0000         0.0000\n",
       "KS           0.614648          0.8324         0.0000\n",
       "KY           0.705435          1.0000         0.4372\n",
       "LA           0.730011          1.0000         0.4565\n",
       "MA           0.810674          1.0000         0.0000\n",
       "MD           0.725240          1.0000         0.0000\n",
       "ME           0.714033          0.9779         0.3077\n",
       "MH                NaN             NaN            NaN\n",
       "MI           0.704515          1.0000         0.3333\n",
       "MN           0.679961          1.0000         0.0000\n",
       "MO           0.721803          1.0000         0.2857\n",
       "MP           0.583300          0.5833         0.5833\n",
       "MS           0.666544          1.0000         0.0000\n",
       "MT           0.644550          0.8032         0.3750\n",
       "NC           0.684869          1.0000         0.0000\n",
       "ND           0.691892          1.0000         0.3333\n",
       "NE           0.673739          0.9137         0.0000\n",
       "NH           0.751906          0.9766         0.5217\n",
       "NJ           0.784363          1.0000         0.1429\n",
       "NM           0.646431          0.9231         0.4842\n",
       "NV           0.597550          0.8201         0.3846\n",
       "NY           0.794553          1.0000         0.0000\n",
       "OH           0.693880          1.0000         0.0000\n",
       "OK           0.648187          0.8765         0.2105\n",
       "OR           0.738593          1.0000         0.3636\n",
       "PA           0.778736          1.0000         0.0000\n",
       "PR           0.707416          1.0000         0.0000\n",
       "PW                NaN             NaN            NaN\n",
       "RI           0.860811          0.9754         0.7863\n",
       "SC           0.676719          0.9227         0.3636\n",
       "SD           0.583219          0.8038         0.0000\n",
       "TN           0.678105          1.0000         0.0000\n",
       "TX           0.628802          1.0000         0.0000\n",
       "UT           0.634473          0.9091         0.1964\n",
       "VA           0.719297          1.0000         0.0000\n",
       "VI           0.751800          0.7518         0.7518\n",
       "VT           0.734389          0.9568         0.4688\n",
       "WA           0.720747          0.9414         0.4792\n",
       "WI           0.688084          1.0000         0.0000\n",
       "WV           0.631127          0.7688         0.3790\n",
       "WY           0.627900          0.7558         0.5000"
      ]
     },
     "execution_count": 9,
     "metadata": {},
     "output_type": "execute_result"
    }
   ],
   "source": [
    "# Solution for number 1\n",
    "college_by_state = college_scorecard.groupby(['state'])\n",
    "college_by_state['full_time_retention_rate_4_year'].aggregate(\n",
    "    [np.mean, np.max, np.min]).rename(columns = {'mean':'Avg. Retention',\n",
    "                                                'amax': 'High Retention',\n",
    "                                                'amin':'Low Retention'})"
   ]
  },
  {
   "cell_type": "code",
   "execution_count": 11,
   "metadata": {
    "collapsed": true
   },
   "outputs": [],
   "source": [
    "# Solution for number 2\n",
    "college_scorecard_by_state_city = college_scorecard.groupby(['state','city'])\n",
    "\n",
    "summary_state_city = college_scorecard_by_state_city.aggregate(\n",
    "        {'sat_average': [np.min, np.max, np.median], \n",
    "         'full_time_retention_rate_4_year': np.mean})"
   ]
  },
  {
   "cell_type": "code",
   "execution_count": 15,
   "metadata": {},
   "outputs": [
    {
     "data": {
      "text/html": [
       "<div>\n",
       "<style>\n",
       "    .dataframe thead tr:only-child th {\n",
       "        text-align: right;\n",
       "    }\n",
       "\n",
       "    .dataframe thead th {\n",
       "        text-align: left;\n",
       "    }\n",
       "\n",
       "    .dataframe tbody tr th {\n",
       "        vertical-align: top;\n",
       "    }\n",
       "</style>\n",
       "<table border=\"1\" class=\"dataframe\">\n",
       "  <thead>\n",
       "    <tr>\n",
       "      <th></th>\n",
       "      <th colspan=\"3\" halign=\"left\">sat_average</th>\n",
       "      <th>full_time_retention_rate_4_year</th>\n",
       "    </tr>\n",
       "    <tr>\n",
       "      <th></th>\n",
       "      <th>amin</th>\n",
       "      <th>amax</th>\n",
       "      <th>median</th>\n",
       "      <th>mean</th>\n",
       "    </tr>\n",
       "    <tr>\n",
       "      <th>city</th>\n",
       "      <th></th>\n",
       "      <th></th>\n",
       "      <th></th>\n",
       "      <th></th>\n",
       "    </tr>\n",
       "  </thead>\n",
       "  <tbody>\n",
       "    <tr>\n",
       "      <th>Anderson</th>\n",
       "      <td>1048.0</td>\n",
       "      <td>1048.0</td>\n",
       "      <td>1048.0</td>\n",
       "      <td>0.746500</td>\n",
       "    </tr>\n",
       "    <tr>\n",
       "      <th>Angola</th>\n",
       "      <td>1078.0</td>\n",
       "      <td>1078.0</td>\n",
       "      <td>1078.0</td>\n",
       "      <td>0.723100</td>\n",
       "    </tr>\n",
       "    <tr>\n",
       "      <th>Bloomington</th>\n",
       "      <td>1198.0</td>\n",
       "      <td>1198.0</td>\n",
       "      <td>1198.0</td>\n",
       "      <td>0.890400</td>\n",
       "    </tr>\n",
       "    <tr>\n",
       "      <th>Crawfordsville</th>\n",
       "      <td>1128.0</td>\n",
       "      <td>1128.0</td>\n",
       "      <td>1128.0</td>\n",
       "      <td>0.892100</td>\n",
       "    </tr>\n",
       "    <tr>\n",
       "      <th>Evansville</th>\n",
       "      <td>1001.0</td>\n",
       "      <td>1144.0</td>\n",
       "      <td>1072.5</td>\n",
       "      <td>0.784750</td>\n",
       "    </tr>\n",
       "    <tr>\n",
       "      <th>Fort Wayne</th>\n",
       "      <td>965.0</td>\n",
       "      <td>1002.0</td>\n",
       "      <td>981.0</td>\n",
       "      <td>0.567140</td>\n",
       "    </tr>\n",
       "    <tr>\n",
       "      <th>Franklin</th>\n",
       "      <td>1031.0</td>\n",
       "      <td>1031.0</td>\n",
       "      <td>1031.0</td>\n",
       "      <td>0.794100</td>\n",
       "    </tr>\n",
       "    <tr>\n",
       "      <th>Gary</th>\n",
       "      <td>916.0</td>\n",
       "      <td>916.0</td>\n",
       "      <td>916.0</td>\n",
       "      <td>0.665700</td>\n",
       "    </tr>\n",
       "    <tr>\n",
       "      <th>Goshen</th>\n",
       "      <td>1109.0</td>\n",
       "      <td>1109.0</td>\n",
       "      <td>1109.0</td>\n",
       "      <td>0.772500</td>\n",
       "    </tr>\n",
       "    <tr>\n",
       "      <th>Greencastle</th>\n",
       "      <td>1213.0</td>\n",
       "      <td>1213.0</td>\n",
       "      <td>1213.0</td>\n",
       "      <td>0.926700</td>\n",
       "    </tr>\n",
       "    <tr>\n",
       "      <th>Hammond</th>\n",
       "      <td>965.0</td>\n",
       "      <td>965.0</td>\n",
       "      <td>965.0</td>\n",
       "      <td>0.735400</td>\n",
       "    </tr>\n",
       "    <tr>\n",
       "      <th>Hanover</th>\n",
       "      <td>1101.0</td>\n",
       "      <td>1101.0</td>\n",
       "      <td>1101.0</td>\n",
       "      <td>0.817400</td>\n",
       "    </tr>\n",
       "    <tr>\n",
       "      <th>Huntington</th>\n",
       "      <td>1034.0</td>\n",
       "      <td>1034.0</td>\n",
       "      <td>1034.0</td>\n",
       "      <td>0.862200</td>\n",
       "    </tr>\n",
       "    <tr>\n",
       "      <th>Indianapolis</th>\n",
       "      <td>1010.0</td>\n",
       "      <td>1205.0</td>\n",
       "      <td>1027.0</td>\n",
       "      <td>0.615517</td>\n",
       "    </tr>\n",
       "    <tr>\n",
       "      <th>Kokomo</th>\n",
       "      <td>934.0</td>\n",
       "      <td>934.0</td>\n",
       "      <td>934.0</td>\n",
       "      <td>0.637000</td>\n",
       "    </tr>\n",
       "    <tr>\n",
       "      <th>Marion</th>\n",
       "      <td>1081.0</td>\n",
       "      <td>1081.0</td>\n",
       "      <td>1081.0</td>\n",
       "      <td>0.841200</td>\n",
       "    </tr>\n",
       "    <tr>\n",
       "      <th>Mishawaka</th>\n",
       "      <td>1040.0</td>\n",
       "      <td>1040.0</td>\n",
       "      <td>1040.0</td>\n",
       "      <td>0.812200</td>\n",
       "    </tr>\n",
       "    <tr>\n",
       "      <th>Muncie</th>\n",
       "      <td>1066.0</td>\n",
       "      <td>1066.0</td>\n",
       "      <td>1066.0</td>\n",
       "      <td>0.814100</td>\n",
       "    </tr>\n",
       "    <tr>\n",
       "      <th>New Albany</th>\n",
       "      <td>959.0</td>\n",
       "      <td>959.0</td>\n",
       "      <td>959.0</td>\n",
       "      <td>0.616400</td>\n",
       "    </tr>\n",
       "    <tr>\n",
       "      <th>North Manchester</th>\n",
       "      <td>1000.0</td>\n",
       "      <td>1000.0</td>\n",
       "      <td>1000.0</td>\n",
       "      <td>0.692100</td>\n",
       "    </tr>\n",
       "    <tr>\n",
       "      <th>Notre Dame</th>\n",
       "      <td>969.0</td>\n",
       "      <td>1450.0</td>\n",
       "      <td>1144.0</td>\n",
       "      <td>0.830967</td>\n",
       "    </tr>\n",
       "    <tr>\n",
       "      <th>Oakland City</th>\n",
       "      <td>960.0</td>\n",
       "      <td>960.0</td>\n",
       "      <td>960.0</td>\n",
       "      <td>0.698900</td>\n",
       "    </tr>\n",
       "    <tr>\n",
       "      <th>Rensselaer</th>\n",
       "      <td>996.0</td>\n",
       "      <td>996.0</td>\n",
       "      <td>996.0</td>\n",
       "      <td>0.739900</td>\n",
       "    </tr>\n",
       "    <tr>\n",
       "      <th>Richmond</th>\n",
       "      <td>943.0</td>\n",
       "      <td>943.0</td>\n",
       "      <td>943.0</td>\n",
       "      <td>0.736550</td>\n",
       "    </tr>\n",
       "    <tr>\n",
       "      <th>Saint Mary of the Woods</th>\n",
       "      <td>943.0</td>\n",
       "      <td>943.0</td>\n",
       "      <td>943.0</td>\n",
       "      <td>0.819700</td>\n",
       "    </tr>\n",
       "    <tr>\n",
       "      <th>South Bend</th>\n",
       "      <td>942.0</td>\n",
       "      <td>942.0</td>\n",
       "      <td>942.0</td>\n",
       "      <td>0.658500</td>\n",
       "    </tr>\n",
       "    <tr>\n",
       "      <th>Terre Haute</th>\n",
       "      <td>913.0</td>\n",
       "      <td>1308.0</td>\n",
       "      <td>1110.5</td>\n",
       "      <td>0.792000</td>\n",
       "    </tr>\n",
       "    <tr>\n",
       "      <th>Upland</th>\n",
       "      <td>1184.0</td>\n",
       "      <td>1184.0</td>\n",
       "      <td>1184.0</td>\n",
       "      <td>0.882400</td>\n",
       "    </tr>\n",
       "    <tr>\n",
       "      <th>Valparaiso</th>\n",
       "      <td>1155.0</td>\n",
       "      <td>1155.0</td>\n",
       "      <td>1155.0</td>\n",
       "      <td>0.842500</td>\n",
       "    </tr>\n",
       "    <tr>\n",
       "      <th>West Lafayette</th>\n",
       "      <td>1213.0</td>\n",
       "      <td>1213.0</td>\n",
       "      <td>1213.0</td>\n",
       "      <td>0.924600</td>\n",
       "    </tr>\n",
       "    <tr>\n",
       "      <th>Westville</th>\n",
       "      <td>959.0</td>\n",
       "      <td>959.0</td>\n",
       "      <td>959.0</td>\n",
       "      <td>0.574500</td>\n",
       "    </tr>\n",
       "    <tr>\n",
       "      <th>Winona Lake</th>\n",
       "      <td>1110.0</td>\n",
       "      <td>1110.0</td>\n",
       "      <td>1110.0</td>\n",
       "      <td>0.812100</td>\n",
       "    </tr>\n",
       "  </tbody>\n",
       "</table>\n",
       "</div>"
      ],
      "text/plain": [
       "                        sat_average                  \\\n",
       "                               amin    amax  median   \n",
       "city                                                  \n",
       "Anderson                     1048.0  1048.0  1048.0   \n",
       "Angola                       1078.0  1078.0  1078.0   \n",
       "Bloomington                  1198.0  1198.0  1198.0   \n",
       "Crawfordsville               1128.0  1128.0  1128.0   \n",
       "Evansville                   1001.0  1144.0  1072.5   \n",
       "Fort Wayne                    965.0  1002.0   981.0   \n",
       "Franklin                     1031.0  1031.0  1031.0   \n",
       "Gary                          916.0   916.0   916.0   \n",
       "Goshen                       1109.0  1109.0  1109.0   \n",
       "Greencastle                  1213.0  1213.0  1213.0   \n",
       "Hammond                       965.0   965.0   965.0   \n",
       "Hanover                      1101.0  1101.0  1101.0   \n",
       "Huntington                   1034.0  1034.0  1034.0   \n",
       "Indianapolis                 1010.0  1205.0  1027.0   \n",
       "Kokomo                        934.0   934.0   934.0   \n",
       "Marion                       1081.0  1081.0  1081.0   \n",
       "Mishawaka                    1040.0  1040.0  1040.0   \n",
       "Muncie                       1066.0  1066.0  1066.0   \n",
       "New Albany                    959.0   959.0   959.0   \n",
       "North Manchester             1000.0  1000.0  1000.0   \n",
       "Notre Dame                    969.0  1450.0  1144.0   \n",
       "Oakland City                  960.0   960.0   960.0   \n",
       "Rensselaer                    996.0   996.0   996.0   \n",
       "Richmond                      943.0   943.0   943.0   \n",
       "Saint Mary of the Woods       943.0   943.0   943.0   \n",
       "South Bend                    942.0   942.0   942.0   \n",
       "Terre Haute                   913.0  1308.0  1110.5   \n",
       "Upland                       1184.0  1184.0  1184.0   \n",
       "Valparaiso                   1155.0  1155.0  1155.0   \n",
       "West Lafayette               1213.0  1213.0  1213.0   \n",
       "Westville                     959.0   959.0   959.0   \n",
       "Winona Lake                  1110.0  1110.0  1110.0   \n",
       "\n",
       "                        full_time_retention_rate_4_year  \n",
       "                                                   mean  \n",
       "city                                                     \n",
       "Anderson                                       0.746500  \n",
       "Angola                                         0.723100  \n",
       "Bloomington                                    0.890400  \n",
       "Crawfordsville                                 0.892100  \n",
       "Evansville                                     0.784750  \n",
       "Fort Wayne                                     0.567140  \n",
       "Franklin                                       0.794100  \n",
       "Gary                                           0.665700  \n",
       "Goshen                                         0.772500  \n",
       "Greencastle                                    0.926700  \n",
       "Hammond                                        0.735400  \n",
       "Hanover                                        0.817400  \n",
       "Huntington                                     0.862200  \n",
       "Indianapolis                                   0.615517  \n",
       "Kokomo                                         0.637000  \n",
       "Marion                                         0.841200  \n",
       "Mishawaka                                      0.812200  \n",
       "Muncie                                         0.814100  \n",
       "New Albany                                     0.616400  \n",
       "North Manchester                               0.692100  \n",
       "Notre Dame                                     0.830967  \n",
       "Oakland City                                   0.698900  \n",
       "Rensselaer                                     0.739900  \n",
       "Richmond                                       0.736550  \n",
       "Saint Mary of the Woods                        0.819700  \n",
       "South Bend                                     0.658500  \n",
       "Terre Haute                                    0.792000  \n",
       "Upland                                         0.882400  \n",
       "Valparaiso                                     0.842500  \n",
       "West Lafayette                                 0.924600  \n",
       "Westville                                      0.574500  \n",
       "Winona Lake                                    0.812100  "
      ]
     },
     "execution_count": 15,
     "metadata": {},
     "output_type": "execute_result"
    }
   ],
   "source": [
    "summary_state_city.loc['IN'].dropna()"
   ]
  },
  {
   "cell_type": "markdown",
   "metadata": {},
   "source": [
    "# Using apply() and groupby() to create your own groups\n",
    "\n",
    "Here we will show a simple use of apply() method and groupby() method that can be very useful. Note, that this *far more simple* use of the apply() method than the one shown in the advanced topics in Lecture 18 notebook. \n",
    "\n",
    "Let us say you want to group the 'AIRLINE' but not necessarily the same airline but according to the their alliance. How can you achieve this? THe following are the groups of airlines that are in each of the alliances\n",
    "\n",
    "Star Alliance:\n",
    "* UA - United Airlines\n",
    "* OO - Skywest Airlines\n",
    "\n",
    "Oneworld Alliance:\n",
    "* AA - American Airlines\n",
    "* US - US Airlines\n",
    "* MQ - American Eagle Airlines Inc. \n",
    "\n",
    "SkyTeam Alliance:\n",
    "* DL - Delta Airlines\n",
    "* EV - Atlantic Sotheast Airlines\n",
    "* VX - Virgin America\n",
    "\n",
    "NoAlliance; Not in any alliance:\n",
    "\n",
    "* F9 - Forntier\n",
    "* B6 - Jetblue\n",
    "* NK - Spirit\n",
    "* WN - Southwest\n",
    "* HA - Hawaiian\n",
    "* AS - Alaskan \n"
   ]
  },
  {
   "cell_type": "code",
   "execution_count": 20,
   "metadata": {
    "collapsed": true
   },
   "outputs": [],
   "source": [
    "def get_alliance(airline):\n",
    "    if airline in ['UA','OO']:\n",
    "        return 'Star'\n",
    "    elif airline in ['AA', 'US', 'MQ']:\n",
    "        return 'Oneworld'\n",
    "    elif airline in ['DL','EV', 'VX']:\n",
    "        return 'SkyTeam'\n",
    "    elif airline in ['AS', 'F9', 'B6', 'NK', 'WN', 'HA']:\n",
    "        return 'NoAlliance'"
   ]
  },
  {
   "cell_type": "code",
   "execution_count": 22,
   "metadata": {},
   "outputs": [
    {
     "data": {
      "text/plain": [
       "'Star'"
      ]
     },
     "execution_count": 22,
     "metadata": {},
     "output_type": "execute_result"
    }
   ],
   "source": [
    "get_alliance('UA')"
   ]
  },
  {
   "cell_type": "code",
   "execution_count": 23,
   "metadata": {
    "collapsed": true
   },
   "outputs": [],
   "source": [
    "# CREATING a new column called 'Alliance' and assigning the alliance based on the function\n",
    "flights['Alliance'] = flights['AIRLINE'].apply(get_alliance)"
   ]
  },
  {
   "cell_type": "code",
   "execution_count": 24,
   "metadata": {},
   "outputs": [
    {
     "data": {
      "text/html": [
       "<div>\n",
       "<style>\n",
       "    .dataframe thead tr:only-child th {\n",
       "        text-align: right;\n",
       "    }\n",
       "\n",
       "    .dataframe thead th {\n",
       "        text-align: left;\n",
       "    }\n",
       "\n",
       "    .dataframe tbody tr th {\n",
       "        vertical-align: top;\n",
       "    }\n",
       "</style>\n",
       "<table border=\"1\" class=\"dataframe\">\n",
       "  <thead>\n",
       "    <tr style=\"text-align: right;\">\n",
       "      <th></th>\n",
       "      <th>YEAR</th>\n",
       "      <th>MONTH</th>\n",
       "      <th>DAY</th>\n",
       "      <th>DAY_OF_WEEK</th>\n",
       "      <th>AIRLINE</th>\n",
       "      <th>FLIGHT_NUMBER</th>\n",
       "      <th>TAXI_IN</th>\n",
       "      <th>TAXI_OUT</th>\n",
       "      <th>DISTANCE</th>\n",
       "      <th>Alliance</th>\n",
       "    </tr>\n",
       "  </thead>\n",
       "  <tbody>\n",
       "    <tr>\n",
       "      <th>5601</th>\n",
       "      <td>2015</td>\n",
       "      <td>2</td>\n",
       "      <td>25</td>\n",
       "      <td>3</td>\n",
       "      <td>WN</td>\n",
       "      <td>1781</td>\n",
       "      <td>6.0</td>\n",
       "      <td>12.0</td>\n",
       "      <td>861</td>\n",
       "      <td>NoAlliance</td>\n",
       "    </tr>\n",
       "    <tr>\n",
       "      <th>4989</th>\n",
       "      <td>2015</td>\n",
       "      <td>1</td>\n",
       "      <td>16</td>\n",
       "      <td>5</td>\n",
       "      <td>B6</td>\n",
       "      <td>1184</td>\n",
       "      <td>7.0</td>\n",
       "      <td>19.0</td>\n",
       "      <td>944</td>\n",
       "      <td>NoAlliance</td>\n",
       "    </tr>\n",
       "    <tr>\n",
       "      <th>6996</th>\n",
       "      <td>2015</td>\n",
       "      <td>1</td>\n",
       "      <td>1</td>\n",
       "      <td>4</td>\n",
       "      <td>WN</td>\n",
       "      <td>4096</td>\n",
       "      <td>4.0</td>\n",
       "      <td>12.0</td>\n",
       "      <td>879</td>\n",
       "      <td>NoAlliance</td>\n",
       "    </tr>\n",
       "    <tr>\n",
       "      <th>4537</th>\n",
       "      <td>2015</td>\n",
       "      <td>1</td>\n",
       "      <td>4</td>\n",
       "      <td>7</td>\n",
       "      <td>DL</td>\n",
       "      <td>1287</td>\n",
       "      <td>7.0</td>\n",
       "      <td>14.0</td>\n",
       "      <td>1086</td>\n",
       "      <td>SkyTeam</td>\n",
       "    </tr>\n",
       "    <tr>\n",
       "      <th>5625</th>\n",
       "      <td>2015</td>\n",
       "      <td>11</td>\n",
       "      <td>5</td>\n",
       "      <td>4</td>\n",
       "      <td>AA</td>\n",
       "      <td>2154</td>\n",
       "      <td>16.0</td>\n",
       "      <td>22.0</td>\n",
       "      <td>214</td>\n",
       "      <td>Oneworld</td>\n",
       "    </tr>\n",
       "  </tbody>\n",
       "</table>\n",
       "</div>"
      ],
      "text/plain": [
       "      YEAR  MONTH  DAY  DAY_OF_WEEK AIRLINE  FLIGHT_NUMBER  TAXI_IN  TAXI_OUT  \\\n",
       "5601  2015      2   25            3      WN           1781      6.0      12.0   \n",
       "4989  2015      1   16            5      B6           1184      7.0      19.0   \n",
       "6996  2015      1    1            4      WN           4096      4.0      12.0   \n",
       "4537  2015      1    4            7      DL           1287      7.0      14.0   \n",
       "5625  2015     11    5            4      AA           2154     16.0      22.0   \n",
       "\n",
       "      DISTANCE    Alliance  \n",
       "5601       861  NoAlliance  \n",
       "4989       944  NoAlliance  \n",
       "6996       879  NoAlliance  \n",
       "4537      1086     SkyTeam  \n",
       "5625       214    Oneworld  "
      ]
     },
     "execution_count": 24,
     "metadata": {},
     "output_type": "execute_result"
    }
   ],
   "source": [
    "flights.sample(5)"
   ]
  },
  {
   "cell_type": "code",
   "execution_count": 25,
   "metadata": {
    "collapsed": true
   },
   "outputs": [],
   "source": [
    "flights_by_alliance = flights.groupby(['Alliance'])"
   ]
  },
  {
   "cell_type": "code",
   "execution_count": 26,
   "metadata": {},
   "outputs": [
    {
     "data": {
      "text/html": [
       "<div>\n",
       "<style>\n",
       "    .dataframe thead tr:only-child th {\n",
       "        text-align: right;\n",
       "    }\n",
       "\n",
       "    .dataframe thead th {\n",
       "        text-align: left;\n",
       "    }\n",
       "\n",
       "    .dataframe tbody tr th {\n",
       "        vertical-align: top;\n",
       "    }\n",
       "</style>\n",
       "<table border=\"1\" class=\"dataframe\">\n",
       "  <thead>\n",
       "    <tr style=\"text-align: right;\">\n",
       "      <th></th>\n",
       "      <th>DISTANCE</th>\n",
       "      <th>TAXI_IN</th>\n",
       "    </tr>\n",
       "    <tr>\n",
       "      <th>Alliance</th>\n",
       "      <th></th>\n",
       "      <th></th>\n",
       "    </tr>\n",
       "  </thead>\n",
       "  <tbody>\n",
       "    <tr>\n",
       "      <th>NoAlliance</th>\n",
       "      <td>843.074474</td>\n",
       "      <td>6.593195</td>\n",
       "    </tr>\n",
       "    <tr>\n",
       "      <th>Oneworld</th>\n",
       "      <td>882.712241</td>\n",
       "      <td>8.769113</td>\n",
       "    </tr>\n",
       "    <tr>\n",
       "      <th>SkyTeam</th>\n",
       "      <td>734.778623</td>\n",
       "      <td>7.450596</td>\n",
       "    </tr>\n",
       "    <tr>\n",
       "      <th>Star</th>\n",
       "      <td>854.930765</td>\n",
       "      <td>7.617179</td>\n",
       "    </tr>\n",
       "  </tbody>\n",
       "</table>\n",
       "</div>"
      ],
      "text/plain": [
       "              DISTANCE   TAXI_IN\n",
       "Alliance                        \n",
       "NoAlliance  843.074474  6.593195\n",
       "Oneworld    882.712241  8.769113\n",
       "SkyTeam     734.778623  7.450596\n",
       "Star        854.930765  7.617179"
      ]
     },
     "execution_count": 26,
     "metadata": {},
     "output_type": "execute_result"
    }
   ],
   "source": [
    "flights_by_alliance['DISTANCE','TAXI_IN'].mean()"
   ]
  },
  {
   "cell_type": "markdown",
   "metadata": {},
   "source": [
    "# Matplotlib Line Plots"
   ]
  },
  {
   "cell_type": "markdown",
   "metadata": {},
   "source": [
    "## Introduction\n",
    "In this section we are going to learn how to create simple line plots with Matplotlib.\n",
    "\n",
    "Before we dive in, let's cover a few introductory matters."
   ]
  },
  {
   "cell_type": "markdown",
   "metadata": {},
   "source": [
    "### Importing Matplotlib\n",
    "\n",
    "Just as we use the ``np`` shorthand for NumPy, we will use some standard shorthands for Matplotlib imports. Same disclaimer goes for these aliases as the others."
   ]
  },
  {
   "cell_type": "code",
   "execution_count": 27,
   "metadata": {
    "collapsed": true
   },
   "outputs": [],
   "source": [
    "import matplotlib as mpl\n",
    "import matplotlib.pyplot as plt"
   ]
  },
  {
   "cell_type": "markdown",
   "metadata": {},
   "source": [
    "### Setting Styles\n",
    "While we will get into adjusting individual pieces of our plots appearances, you can change many of the properties at once by selecting a style."
   ]
  },
  {
   "cell_type": "code",
   "execution_count": 28,
   "metadata": {},
   "outputs": [
    {
     "data": {
      "text/plain": [
       "['bmh',\n",
       " 'classic',\n",
       " 'dark_background',\n",
       " 'fivethirtyeight',\n",
       " 'ggplot',\n",
       " 'grayscale',\n",
       " 'seaborn-bright',\n",
       " 'seaborn-colorblind',\n",
       " 'seaborn-dark-palette',\n",
       " 'seaborn-dark',\n",
       " 'seaborn-darkgrid',\n",
       " 'seaborn-deep',\n",
       " 'seaborn-muted',\n",
       " 'seaborn-notebook',\n",
       " 'seaborn-paper',\n",
       " 'seaborn-pastel',\n",
       " 'seaborn-poster',\n",
       " 'seaborn-talk',\n",
       " 'seaborn-ticks',\n",
       " 'seaborn-white',\n",
       " 'seaborn-whitegrid',\n",
       " 'seaborn',\n",
       " '_classic_test']"
      ]
     },
     "execution_count": 28,
     "metadata": {},
     "output_type": "execute_result"
    }
   ],
   "source": [
    "# You can see the available styles like so\n",
    "# See what they look like here (warning, bad HTML design): \n",
    "# https://matplotlib.org/examples/style_sheets/style_sheets_reference.html?highlight=style%20sheets%20reference\n",
    "plt.style.available"
   ]
  },
  {
   "cell_type": "code",
   "execution_count": 29,
   "metadata": {
    "collapsed": true
   },
   "outputs": [],
   "source": [
    "# Select a style, it will affect all subsequent plots.\n",
    "plt.style.use('seaborn')"
   ]
  },
  {
   "cell_type": "markdown",
   "metadata": {},
   "source": [
    "### How to Display Your Plots in Jupyter Notebooks\n",
    "\n",
    "Your textbook has information about how to display plots in a variety of environments, but we are only interested in how to display them in your Jupyter notebooks."
   ]
  },
  {
   "cell_type": "code",
   "execution_count": 32,
   "metadata": {
    "collapsed": true
   },
   "outputs": [],
   "source": [
    "# Add this after your imports to configure Jupyter to \n",
    "# display your plots.\n",
    "%matplotlib inline"
   ]
  },
  {
   "cell_type": "markdown",
   "metadata": {},
   "source": [
    "### MATLAB-Style vs. Object Oriented Interface\n",
    "One of the reason that Matplotlib can be confusing to beginners (or anyone who isn't constantly using it) is that it presents to different interfaces. Your textbook opts for relying on the MATLAB style interface, but we will not do so.\n",
    "\n",
    "We will stick with the object-oriented approach, which is more consistent with the language as a whole and gives you more control over your plots."
   ]
  },
  {
   "cell_type": "markdown",
   "metadata": {},
   "source": [
    "### The Anatomy of a Plot\n",
    "Before we go any farther, let's define some terms Matplotlib terms:\n",
    "* Every plot/chart is made of one **`figure`** object and 1 or more **`axes`** objects\n",
    "* The **`figure`** object is more or less just a container\n",
    "* Each **`axes`** object is a graphical representation of data that exists inside the figure.\n",
    "    * Most often, a *`figure`* will contain only one *`axes`* but that is not always the case as we will learn in later."
   ]
  },
  {
   "cell_type": "markdown",
   "metadata": {},
   "source": [
    "## Simple Line Plots"
   ]
  },
  {
   "cell_type": "code",
   "execution_count": 30,
   "metadata": {},
   "outputs": [
    {
     "data": {
      "text/html": [
       "<div>\n",
       "<style>\n",
       "    .dataframe thead tr:only-child th {\n",
       "        text-align: right;\n",
       "    }\n",
       "\n",
       "    .dataframe thead th {\n",
       "        text-align: left;\n",
       "    }\n",
       "\n",
       "    .dataframe tbody tr th {\n",
       "        vertical-align: top;\n",
       "    }\n",
       "</style>\n",
       "<table border=\"1\" class=\"dataframe\">\n",
       "  <thead>\n",
       "    <tr style=\"text-align: right;\">\n",
       "      <th></th>\n",
       "      <th>Name</th>\n",
       "      <th>Position</th>\n",
       "      <th>Height</th>\n",
       "      <th>Weight</th>\n",
       "      <th>Class</th>\n",
       "      <th>Hometown</th>\n",
       "    </tr>\n",
       "    <tr>\n",
       "      <th>Number</th>\n",
       "      <th></th>\n",
       "      <th></th>\n",
       "      <th></th>\n",
       "      <th></th>\n",
       "      <th></th>\n",
       "      <th></th>\n",
       "    </tr>\n",
       "  </thead>\n",
       "  <tbody>\n",
       "    <tr>\n",
       "      <th>2</th>\n",
       "      <td>Dexter Williams</td>\n",
       "      <td>RB</td>\n",
       "      <td>71</td>\n",
       "      <td>202</td>\n",
       "      <td>JR</td>\n",
       "      <td>Winter Garden, FL</td>\n",
       "    </tr>\n",
       "    <tr>\n",
       "      <th>3</th>\n",
       "      <td>C.J. Sanders</td>\n",
       "      <td>WR</td>\n",
       "      <td>68</td>\n",
       "      <td>185</td>\n",
       "      <td>JR</td>\n",
       "      <td>Granada Hills, CA</td>\n",
       "    </tr>\n",
       "    <tr>\n",
       "      <th>4</th>\n",
       "      <td>Te'von Coney</td>\n",
       "      <td>LB</td>\n",
       "      <td>73</td>\n",
       "      <td>235</td>\n",
       "      <td>JR</td>\n",
       "      <td>Palm Beach Gardens, FL</td>\n",
       "    </tr>\n",
       "    <tr>\n",
       "      <th>4</th>\n",
       "      <td>Montgomery VanGorder</td>\n",
       "      <td>QB</td>\n",
       "      <td>73</td>\n",
       "      <td>217</td>\n",
       "      <td>SR</td>\n",
       "      <td>Buford, GA</td>\n",
       "    </tr>\n",
       "    <tr>\n",
       "      <th>5</th>\n",
       "      <td>Nyles Morgan</td>\n",
       "      <td>LB</td>\n",
       "      <td>73</td>\n",
       "      <td>238</td>\n",
       "      <td>SR</td>\n",
       "      <td>Crete, IL</td>\n",
       "    </tr>\n",
       "  </tbody>\n",
       "</table>\n",
       "</div>"
      ],
      "text/plain": [
       "                        Name Position  Height  Weight Class  \\\n",
       "Number                                                        \n",
       "2            Dexter Williams       RB      71     202    JR   \n",
       "3               C.J. Sanders       WR      68     185    JR   \n",
       "4               Te'von Coney       LB      73     235    JR   \n",
       "4       Montgomery VanGorder       QB      73     217    SR   \n",
       "5               Nyles Morgan       LB      73     238    SR   \n",
       "\n",
       "                      Hometown  \n",
       "Number                          \n",
       "2            Winter Garden, FL  \n",
       "3            Granada Hills, CA  \n",
       "4       Palm Beach Gardens, FL  \n",
       "4                   Buford, GA  \n",
       "5                    Crete, IL  "
      ]
     },
     "execution_count": 30,
     "metadata": {},
     "output_type": "execute_result"
    }
   ],
   "source": [
    "# Load and set the index column to be the player's jersey number.\n",
    "nd_football_roster = pd.read_csv('./data/nd-football-2017-roster.csv', index_col='Number')\n",
    "nd_football_roster.head()"
   ]
  },
  {
   "cell_type": "markdown",
   "metadata": {},
   "source": [
    "In order to create a plot, we have to have the two essential components mentioned above - a **`figure`** object and a **`axes`** object."
   ]
  },
  {
   "cell_type": "code",
   "execution_count": 33,
   "metadata": {},
   "outputs": [
    {
     "data": {
      "image/png": "[encoded data removed]",
      "text/plain": [
       "<matplotlib.figure.Figure at 0x21917cd90f0>"
      ]
     },
     "metadata": {},
     "output_type": "display_data"
    }
   ],
   "source": [
    "# You can get them like this\n",
    "figure = plt.figure()\n",
    "axes = plt.axes()"
   ]
  },
  {
   "cell_type": "code",
   "execution_count": 34,
   "metadata": {},
   "outputs": [
    {
     "data": {
      "image/png": "[encoded data removed]",
      "text/plain": [
       "<matplotlib.figure.Figure at 0x21917c05780>"
      ]
     },
     "metadata": {},
     "output_type": "display_data"
    }
   ],
   "source": [
    "# Or you can use the `plt.subplots()` method \n",
    "# as a shortcut. You'll come back to using this\n",
    "# later when you have multiple axes in a\n",
    "# single figure.\n",
    "\n",
    "# This is the style I'll generally use.\n",
    "figure, axes = plt.subplots()"
   ]
  },
  {
   "cell_type": "markdown",
   "metadata": {},
   "source": [
    "**Congratulations!** You've made your first plots. Aren't they beautiful?\n",
    "\n",
    "Well, maybe that is a bit of a stretch. After all, the don't actually have anything on them.\n",
    "Let's fix that."
   ]
  },
  {
   "cell_type": "markdown",
   "metadata": {},
   "source": [
    "### Plotting Your First Data\n",
    "Let's plot the heights of the players."
   ]
  },
  {
   "cell_type": "code",
   "execution_count": 35,
   "metadata": {},
   "outputs": [
    {
     "data": {
      "text/plain": [
       "[<matplotlib.lines.Line2D at 0x219144dcc88>]"
      ]
     },
     "execution_count": 35,
     "metadata": {},
     "output_type": "execute_result"
    },
    {
     "data": {
      "image/png": "[encoded data removed]",
      "text/plain": [
       "<matplotlib.figure.Figure at 0x21917f61e10>"
      ]
     },
     "metadata": {},
     "output_type": "display_data"
    }
   ],
   "source": [
    "# Get the objects\n",
    "figure, axes = plt.subplots()\n",
    "\n",
    "# Use the `plot()` method to \"write\" data on your axes.\n",
    "# The first argument is used as the x-axis\n",
    "# The second is used for the y-axis\n",
    "axes.plot(nd_football_roster.index, nd_football_roster['Height'])"
   ]
  },
  {
   "cell_type": "markdown",
   "metadata": {},
   "source": [
    "You can display multiple datasets on a single **`axes`** object. Let's divide the *`nd_football_roster['Height']`* series into two parts and display them as separate lines."
   ]
  },
  {
   "cell_type": "code",
   "execution_count": 38,
   "metadata": {},
   "outputs": [
    {
     "data": {
      "text/plain": [
       "[<matplotlib.lines.Line2D at 0x21918499b00>]"
      ]
     },
     "execution_count": 38,
     "metadata": {},
     "output_type": "execute_result"
    },
    {
     "data": {
      "image/png": "[encoded data removed]",
      "text/plain": [
       "<matplotlib.figure.Figure at 0x21918406630>"
      ]
     },
     "metadata": {},
     "output_type": "display_data"
    }
   ],
   "source": [
    "figure, axes = plt.subplots()\n",
    "\n",
    "# The dataset has 90 players, so we display 45 of them\n",
    "# on each call to the `plot()` method.\n",
    "axes.plot(nd_football_roster.index[:45], nd_football_roster['Height'][:45])\n",
    "axes.plot(nd_football_roster.index[45:], nd_football_roster['Height'][45:])"
   ]
  },
  {
   "cell_type": "markdown",
   "metadata": {},
   "source": [
    "### Adjusting Line Properties\n",
    "There are a number of line properties that you can adjust via keyword parameters to the *`plot()`*. \n",
    "\n",
    "Let's explore a few of them here: `alpha`, `color`, `linestyle`, `linewidth`, `marker` and `markersize`."
   ]
  },
  {
   "cell_type": "code",
   "execution_count": 39,
   "metadata": {},
   "outputs": [
    {
     "data": {
      "text/plain": [
       "[<matplotlib.lines.Line2D at 0x21919775fd0>]"
      ]
     },
     "execution_count": 39,
     "metadata": {},
     "output_type": "execute_result"
    },
    {
     "data": {
      "image/png": "[encoded data removed]",
      "text/plain": [
       "<matplotlib.figure.Figure at 0x219196f8da0>"
      ]
     },
     "metadata": {},
     "output_type": "display_data"
    }
   ],
   "source": [
    "figure, axes = plt.subplots()\n",
    "\n",
    "# The alpha parameter determines how transparent a line will be.\n",
    "axes.plot(np.arange(0,45), nd_football_roster['Height'][:45], alpha=.25)\n",
    "axes.plot(np.arange(0,45), nd_football_roster['Height'][45:], alpha=.75)"
   ]
  },
  {
   "cell_type": "markdown",
   "metadata": {},
   "source": [
    "Matplotlib allows you to specify color choices in a very wide variety of ways. In the following example, I'll divide up our players into groups of ten to show some of the various ways to specify line color."
   ]
  },
  {
   "cell_type": "code",
   "execution_count": 43,
   "metadata": {},
   "outputs": [
    {
     "data": {
      "text/plain": [
       "[<matplotlib.lines.Line2D at 0x219199d1550>]"
      ]
     },
     "execution_count": 43,
     "metadata": {},
     "output_type": "execute_result"
    },
    {
     "data": {
      "image/png": "[encoded data removed]",
      "text/plain": [
       "<matplotlib.figure.Figure at 0x219199036a0>"
      ]
     },
     "metadata": {},
     "output_type": "display_data"
    }
   ],
   "source": [
    "figure, axes = plt.subplots()\n",
    "\n",
    "# SURPRISE... the color parameter controls the color of your line.\n",
    "\n",
    "# You can specify any HTML color. \n",
    "# https://www.w3schools.com/colors/colors_names.asp\n",
    "axes.plot(np.arange(0,10), nd_football_roster['Height'][:10], \n",
    "          color='blue')\n",
    "axes.plot(np.arange(0,10), nd_football_roster['Height'][10:20],\n",
    "          color='OliveDrab')\n"
   ]
  },
  {
   "cell_type": "code",
   "execution_count": 44,
   "metadata": {},
   "outputs": [
    {
     "data": {
      "text/plain": [
       "[<matplotlib.lines.Line2D at 0x21917ba70f0>]"
      ]
     },
     "execution_count": 44,
     "metadata": {},
     "output_type": "execute_result"
    },
    {
     "data": {
      "image/png": "[encoded data removed]",
      "text/plain": [
       "<matplotlib.figure.Figure at 0x219199834a8>"
      ]
     },
     "metadata": {},
     "output_type": "display_data"
    }
   ],
   "source": [
    "figure, axes = plt.subplots()\n",
    "\n",
    "# Floats between 0 and 1 specify grayscale values\n",
    "# But notice they have to be passed as strings\n",
    "axes.plot(np.arange(0,10), nd_football_roster['Height'][20:30], \n",
    "          color='.1')\n",
    "axes.plot(np.arange(0,10), nd_football_roster['Height'][30:40], \n",
    "          color='.8')"
   ]
  },
  {
   "cell_type": "code",
   "execution_count": 45,
   "metadata": {},
   "outputs": [
    {
     "data": {
      "text/plain": [
       "[<matplotlib.lines.Line2D at 0x21917dab908>]"
      ]
     },
     "execution_count": 45,
     "metadata": {},
     "output_type": "execute_result"
    },
    {
     "data": {
      "image/png": "[encoded data removed]",
      "text/plain": [
       "<matplotlib.figure.Figure at 0x21917c05b38>"
      ]
     },
     "metadata": {},
     "output_type": "display_data"
    }
   ],
   "source": [
    "figure, axes = plt.subplots()\n",
    "\n",
    "# Hex Codes are acceptable (#RRGGBB)\n",
    "# Google for: hex color picker\n",
    "axes.plot(np.arange(0,10), nd_football_roster['Height'][40:50], \n",
    "          color='#f4429e')\n",
    "axes.plot(np.arange(0,10), nd_football_roster['Height'][50:60], \n",
    "          color='#af7313')\n"
   ]
  },
  {
   "cell_type": "code",
   "execution_count": 46,
   "metadata": {},
   "outputs": [
    {
     "data": {
      "text/plain": [
       "[<matplotlib.lines.Line2D at 0x21917ceff28>]"
      ]
     },
     "execution_count": 46,
     "metadata": {},
     "output_type": "execute_result"
    },
    {
     "data": {
      "image/png": "[encoded data removed]",
      "text/plain": [
       "<matplotlib.figure.Figure at 0x21917de1898>"
      ]
     },
     "metadata": {},
     "output_type": "display_data"
    }
   ],
   "source": [
    "figure, axes = plt.subplots()\n",
    "\n",
    "# You can even specify RGB tuples\n",
    "# Each component of the tuple is a float between 0 and 1\n",
    "axes.plot(np.arange(0,10), nd_football_roster['Height'][60:70], \n",
    "          color=(1.0, 0, 0)) # Total Red\n",
    "axes.plot(np.arange(0,10), nd_football_roster['Height'][70:80], \n",
    "          color=(1.0, 0, 1.0)) # Pure Purple\n",
    "axes.plot(np.arange(0,10), nd_football_roster['Height'][80:90], \n",
    "          color=(0.0, 1.0, 0.0)) # Gorgeous Green"
   ]
  },
  {
   "cell_type": "markdown",
   "metadata": {},
   "source": [
    "#### Line Style\n",
    "The *`linestyle`* parameter can take any of the options in the following table. You can specify either the or the symbol of the option:\n",
    "\n",
    "| Name | Symbol|\n",
    "|--------|-------|\n",
    "| solid  | -     |\n",
    "| dashed | --    |\n",
    "| dashdot  | -.     |\n",
    "| dotted  | :     |\n",
    "|--------|-------|"
   ]
  },
  {
   "cell_type": "code",
   "execution_count": 47,
   "metadata": {},
   "outputs": [
    {
     "data": {
      "text/plain": [
       "[<matplotlib.lines.Line2D at 0x21919ae3908>]"
      ]
     },
     "execution_count": 47,
     "metadata": {},
     "output_type": "execute_result"
    },
    {
     "data": {
      "image/png": "[encoded data removed]",
      "text/plain": [
       "<matplotlib.figure.Figure at 0x21919a44320>"
      ]
     },
     "metadata": {},
     "output_type": "display_data"
    }
   ],
   "source": [
    "figure, axes = plt.subplots()\n",
    "\n",
    "# Specifying with name\n",
    "axes.plot(np.arange(0,10), nd_football_roster['Height'][:10], \n",
    "          color='CadetBlue', linestyle='dashed')\n",
    "axes.plot(np.arange(0,10), nd_football_roster['Height'][10:20], \n",
    "          linestyle='dotted')\n",
    "\n",
    "# Specifying with symbol\n",
    "axes.plot(np.arange(0,10), nd_football_roster['Height'][20:30], \n",
    "          linestyle='-.')\n",
    "axes.plot(np.arange(0,10), nd_football_roster['Height'][30:40], \n",
    "          linestyle='-', alpha=.6)"
   ]
  },
  {
   "cell_type": "markdown",
   "metadata": {},
   "source": [
    "#### Line Width"
   ]
  },
  {
   "cell_type": "code",
   "execution_count": 48,
   "metadata": {},
   "outputs": [
    {
     "data": {
      "text/plain": [
       "[<matplotlib.lines.Line2D at 0x21919b74da0>]"
      ]
     },
     "execution_count": 48,
     "metadata": {},
     "output_type": "execute_result"
    },
    {
     "data": {
      "image/png": "[encoded data removed]",
      "text/plain": [
       "<matplotlib.figure.Figure at 0x219198c7198>"
      ]
     },
     "metadata": {},
     "output_type": "display_data"
    }
   ],
   "source": [
    "# Control Line Width with the `linewidth` parameter\n",
    "figure, axes = plt.subplots()\n",
    "\n",
    "axes.plot(np.arange(0,10), nd_football_roster['Height'][:10], \n",
    "          color='CadetBlue', linestyle='dashed', linewidth=4.5)\n",
    "\n",
    "axes.plot(np.arange(0,10), nd_football_roster['Height'][10:20], \n",
    "          linestyle='dotted', linewidth=8)\n",
    "\n",
    "axes.plot(np.arange(0,10), nd_football_roster['Height'][20:30], \n",
    "          linestyle='-.', linewidth=2.8)"
   ]
  },
  {
   "cell_type": "markdown",
   "metadata": {},
   "source": [
    "#### Markers\n",
    "If you so desire, you can add a \"mark\" at each data point in your plots through a combination of the *`marker`* and *`markersize`* parameters. \n",
    "\n",
    "All of the available marker styles are <a href='https://matplotlib.org/api/markers_api.html#module-matplotlib.markers' target='_blank'>detailed in Matplotlib's online documentation.</a>\n",
    "\n",
    "Here are some examples of how to use these two parameters."
   ]
  },
  {
   "cell_type": "code",
   "execution_count": 49,
   "metadata": {},
   "outputs": [
    {
     "data": {
      "text/plain": [
       "[<matplotlib.lines.Line2D at 0x21919c0f9e8>]"
      ]
     },
     "execution_count": 49,
     "metadata": {},
     "output_type": "execute_result"
    },
    {
     "data": {
      "image/png": "[encoded data removed]",
      "text/plain": [
       "<matplotlib.figure.Figure at 0x21919b8d128>"
      ]
     },
     "metadata": {},
     "output_type": "display_data"
    }
   ],
   "source": [
    "figure, axes = plt.subplots()\n",
    "\n",
    "# Use diamond markers\n",
    "axes.plot(np.arange(0,10), nd_football_roster['Height'][:10], \n",
    "          marker='D', markersize=5)\n",
    "\n",
    "# You can combine linestyle and markers\n",
    "# Here we will use a star marker\n",
    "axes.plot(np.arange(0,10), nd_football_roster['Height'][10:20], \n",
    "          linestyle='dotted', marker='*', markersize=20)\n",
    "\n",
    "# Circle Markers\n",
    "axes.plot(np.arange(0,10), nd_football_roster['Height'][20:30],\n",
    "          marker='o', markersize=5)"
   ]
  },
  {
   "cell_type": "markdown",
   "metadata": {},
   "source": [
    "### Adjusting Axes Limits\n",
    "If we go back to our original plot, we can see that Matplotlib automatically sets the limits of the x-axis and y-axis values based on the data that we give it."
   ]
  },
  {
   "cell_type": "code",
   "execution_count": 50,
   "metadata": {},
   "outputs": [
    {
     "data": {
      "text/plain": [
       "[<matplotlib.lines.Line2D at 0x219199e9160>]"
      ]
     },
     "execution_count": 50,
     "metadata": {},
     "output_type": "execute_result"
    },
    {
     "data": {
      "image/png": "[encoded data removed]",
      "text/plain": [
       "<matplotlib.figure.Figure at 0x219199e9d30>"
      ]
     },
     "metadata": {},
     "output_type": "display_data"
    }
   ],
   "source": [
    "figure, axes = plt.subplots()\n",
    "axes.plot(np.arange(0, 90), nd_football_roster['Height'])"
   ]
  },
  {
   "cell_type": "markdown",
   "metadata": {},
   "source": [
    "You do not have to accept these default values however. Using the *`set_xlim`* and *`set_ylim`* methods of the **`axes`** object, we can visually focus on a subset of the data."
   ]
  },
  {
   "cell_type": "code",
   "execution_count": 51,
   "metadata": {},
   "outputs": [
    {
     "data": {
      "text/plain": [
       "[<matplotlib.lines.Line2D at 0x21919cce128>]"
      ]
     },
     "execution_count": 51,
     "metadata": {},
     "output_type": "execute_result"
    },
    {
     "data": {
      "image/png": "[encoded data removed]",
      "text/plain": [
       "<matplotlib.figure.Figure at 0x21919cce160>"
      ]
     },
     "metadata": {},
     "output_type": "display_data"
    }
   ],
   "source": [
    "figure, axes = plt.subplots()\n",
    "\n",
    "# Let's display the sorted the weights of the players on the team.\n",
    "axes.plot(np.arange(0, 90), \n",
    "          nd_football_roster['Weight'].sort_values())"
   ]
  },
  {
   "cell_type": "code",
   "execution_count": 52,
   "metadata": {},
   "outputs": [
    {
     "data": {
      "text/plain": [
       "(70, 90)"
      ]
     },
     "execution_count": 52,
     "metadata": {},
     "output_type": "execute_result"
    },
    {
     "data": {
      "image/png": "[encoded data removed]",
      "text/plain": [
       "<matplotlib.figure.Figure at 0x21919bb5e10>"
      ]
     },
     "metadata": {},
     "output_type": "display_data"
    }
   ],
   "source": [
    "figure, axes = plt.subplots()\n",
    "\n",
    "# And then use the `set_ylim` method to focus in on the players \n",
    "# who weigh between 280 and 340 lbs and whose x-axis values\n",
    "# are between 70 and 90\n",
    "axes.plot(np.arange(0, 90), \n",
    "          nd_football_roster['Weight'].sort_values(), \n",
    "          marker='o')\n",
    "\n",
    "axes.set_ylim(280, 340)\n",
    "axes.set_xlim(70, 90)"
   ]
  },
  {
   "cell_type": "markdown",
   "metadata": {},
   "source": [
    "<div class=\"alert alert-block alert-warning\">\n",
    "<h5>Misleading Graph: Setting limits to x-axis and y-axis</h5>\n",
    "<p> </p> \n",
    "<p>\n",
    "It is very easy to mislead with data visualizations by setting (or not setting) the limits to the axes. Look at the following example. I recommend to use the scale that makes sense in the current context \n",
    "</p>\n",
    "</div> "
   ]
  },
  {
   "cell_type": "code",
   "execution_count": 57,
   "metadata": {},
   "outputs": [
    {
     "data": {
      "text/plain": [
       "(0, 100)"
      ]
     },
     "execution_count": 57,
     "metadata": {},
     "output_type": "execute_result"
    },
    {
     "data": {
      "image/png": "[encoded data removed]",
      "text/plain": [
       "<matplotlib.figure.Figure at 0x21919e66080>"
      ]
     },
     "metadata": {},
     "output_type": "display_data"
    }
   ],
   "source": [
    "months = np.arange(1,10)\n",
    "profits = 2*months\n",
    "\n",
    "figure, axes = plt.subplots()\n",
    "axes.plot(months, profits)\n",
    "axes.set_ylim(0, 100)"
   ]
  },
  {
   "cell_type": "code",
   "execution_count": 56,
   "metadata": {},
   "outputs": [
    {
     "data": {
      "text/plain": [
       "[<matplotlib.lines.Line2D at 0x21919dc20f0>]"
      ]
     },
     "execution_count": 56,
     "metadata": {},
     "output_type": "execute_result"
    },
    {
     "data": {
      "image/png": "[encoded data removed]",
      "text/plain": [
       "<matplotlib.figure.Figure at 0x21919dc29b0>"
      ]
     },
     "metadata": {},
     "output_type": "display_data"
    }
   ],
   "source": [
    "months = np.arange(1,10)\n",
    "profits = 2*months\n",
    "\n",
    "figure, axes = plt.subplots()\n",
    "axes.plot(months, profits)"
   ]
  },
  {
   "cell_type": "markdown",
   "metadata": {},
   "source": [
    "### Adding Plot Metadata (Labels)\n",
    "Now that we've covered the basics of plotting lines, let's turn our attention to adding plot metadata."
   ]
  },
  {
   "cell_type": "markdown",
   "metadata": {},
   "source": [
    "#### Plot Titles"
   ]
  },
  {
   "cell_type": "code",
   "execution_count": 58,
   "metadata": {},
   "outputs": [
    {
     "data": {
      "text/plain": [
       "<matplotlib.text.Text at 0x2191a054dd8>"
      ]
     },
     "execution_count": 58,
     "metadata": {},
     "output_type": "execute_result"
    },
    {
     "data": {
      "image/png": "[encoded data removed]",
      "text/plain": [
       "<matplotlib.figure.Figure at 0x21919ff9f28>"
      ]
     },
     "metadata": {},
     "output_type": "display_data"
    }
   ],
   "source": [
    "# Add plot title with axes.set_title() method.\n",
    "figure, axes = plt.subplots()\n",
    "axes.plot(nd_football_roster.index, nd_football_roster['Height'])\n",
    "axes.set_title(label='2017 ND Football Player Heights')"
   ]
  },
  {
   "cell_type": "code",
   "execution_count": 59,
   "metadata": {},
   "outputs": [
    {
     "data": {
      "text/plain": [
       "<matplotlib.text.Text at 0x2191a0eecf8>"
      ]
     },
     "execution_count": 59,
     "metadata": {},
     "output_type": "execute_result"
    },
    {
     "data": {
      "image/png": "[encoded data removed]",
      "text/plain": [
       "<matplotlib.figure.Figure at 0x2191a0b6160>"
      ]
     },
     "metadata": {},
     "output_type": "display_data"
    }
   ],
   "source": [
    "# You can adjust the horizontal alignment \n",
    "# of the title with the `loc` parameter.\n",
    "# The value must be one of the following: left, center, right\n",
    "figure, axes = plt.subplots()\n",
    "axes.plot(nd_football_roster.index, nd_football_roster['Height'])\n",
    "\n",
    "# Notice that if you specify location, \n",
    "# you can have multiple titles.\n",
    "axes.set_title(label='2017 ND Football', loc='left')\n",
    "axes.set_title(label='Player Heights', loc='right')"
   ]
  },
  {
   "cell_type": "code",
   "execution_count": 60,
   "metadata": {},
   "outputs": [
    {
     "data": {
      "text/plain": [
       "<matplotlib.text.Text at 0x2191a18f208>"
      ]
     },
     "execution_count": 60,
     "metadata": {},
     "output_type": "execute_result"
    },
    {
     "data": {
      "image/png": "[encoded data removed]",
      "text/plain": [
       "<matplotlib.figure.Figure at 0x2191a149240>"
      ]
     },
     "metadata": {},
     "output_type": "display_data"
    }
   ],
   "source": [
    "figure, axes = plt.subplots()\n",
    "axes.plot(nd_football_roster.index, nd_football_roster['Height'])\n",
    "\n",
    "# Here we will adjust the color and alpha properties\n",
    "axes.set_title(label='2017 ND Football', loc='left', color='gold')\n",
    "axes.set_title(label='Player Heights', loc='right', \n",
    "               color='darkblue', alpha=.4)"
   ]
  },
  {
   "cell_type": "markdown",
   "metadata": {},
   "source": [
    "#### Axis Labels\n",
    "Are plot is starting to look pretty cool, but we don't really know what the units of measurement are. We can fix that with the *`set_ylabal()`* and *`set_xlabel`* methods."
   ]
  },
  {
   "cell_type": "code",
   "execution_count": 61,
   "metadata": {},
   "outputs": [
    {
     "data": {
      "text/plain": [
       "<matplotlib.text.Text at 0x2191a02f8d0>"
      ]
     },
     "execution_count": 61,
     "metadata": {},
     "output_type": "execute_result"
    },
    {
     "data": {
      "image/png": "[encoded data removed]",
      "text/plain": [
       "<matplotlib.figure.Figure at 0x2191a1de240>"
      ]
     },
     "metadata": {},
     "output_type": "display_data"
    }
   ],
   "source": [
    "figure, axes = plt.subplots()\n",
    "axes.plot(nd_football_roster.index, nd_football_roster['Height'])\n",
    "\n",
    "axes.set_title(label='2017 ND Football', loc='left')\n",
    "axes.set_title(label='Player Heights', loc='right')\n",
    "\n",
    "axes.set_ylabel('Height(in)')\n",
    "axes.set_xlabel('Jersey #')"
   ]
  },
  {
   "cell_type": "markdown",
   "metadata": {},
   "source": [
    "With that additional information, our plot can be understood by other users. You can also control the color and opacity of these labels just as you can with the plot titles:"
   ]
  },
  {
   "cell_type": "code",
   "execution_count": 62,
   "metadata": {},
   "outputs": [
    {
     "data": {
      "text/plain": [
       "<matplotlib.text.Text at 0x2191a21e198>"
      ]
     },
     "execution_count": 62,
     "metadata": {},
     "output_type": "execute_result"
    },
    {
     "data": {
      "image/png": "[encoded data removed]",
      "text/plain": [
       "<matplotlib.figure.Figure at 0x2191b25bb00>"
      ]
     },
     "metadata": {},
     "output_type": "display_data"
    }
   ],
   "source": [
    "figure, axes = plt.subplots()\n",
    "axes.plot(nd_football_roster.index, nd_football_roster['Height'])\n",
    "\n",
    "axes.set_title(label='2017 ND Football', loc='left')\n",
    "axes.set_title(label='Player Heights', loc='right')\n",
    "\n",
    "axes.set_ylabel('Height(in)', color='red')\n",
    "axes.set_xlabel('Jersey #', alpha=.7)"
   ]
  },
  {
   "cell_type": "markdown",
   "metadata": {},
   "source": [
    "#### Plot Legends\n",
    "In order to complete our plot, we need one more thing: a legend.\n",
    "Like most things in Matplotlib, adding a basic one is simple - but with many customization options."
   ]
  },
  {
   "cell_type": "code",
   "execution_count": null,
   "metadata": {},
   "outputs": [],
   "source": [
    "figure, axes = plt.subplots()\n",
    "\n",
    "# We will divide our team into two squads for\n",
    "# illustrative purposes.\n",
    "axes.plot(np.arange(0,45), nd_football_roster['Height'][:45], \n",
    "          linestyle='--')\n",
    "axes.plot(np.arange(0,45), nd_football_roster['Height'][45:])\n",
    "\n",
    "axes.set_title(label='2017 ND Football', loc='left')\n",
    "axes.set_title(label='Player Heights', loc='right')\n",
    "\n",
    "axes.set_ylabel('Height(in)')\n",
    "axes.set_xlabel('Jersey #')\n",
    "\n",
    "# Initialize the plot legend \n",
    "axes.legend()"
   ]
  },
  {
   "cell_type": "markdown",
   "metadata": {},
   "source": [
    "Let's take note of a few things that Matplotlib does for the default legend:\n",
    "1. It generates a legend item from each plotted line.\n",
    "2. It matches the style of the line with the style in the legend.\n",
    "3. It derives the name of each legend from the data being plotted if\n",
    "possible."
   ]
  },
  {
   "cell_type": "markdown",
   "metadata": {},
   "source": [
    "As you can see, having both lines labels as 'Height' isn't the most ideal. Let's manually set a label for each of our lines so that the **`legend()`** method can pick them up."
   ]
  },
  {
   "cell_type": "code",
   "execution_count": null,
   "metadata": {
    "collapsed": true
   },
   "outputs": [],
   "source": [
    "figure, axes = plt.subplots()\n",
    "\n",
    "# We set the labels for each line.\n",
    "axes.plot(np.arange(0,45), nd_football_roster['Height'][:45], \n",
    "          linestyle='--', label='Squad A')\n",
    "axes.plot(np.arange(0,45), nd_football_roster['Height'][45:], \n",
    "          label='Squad B')\n",
    "\n",
    "axes.set_title(label='2017 ND Football', loc='left')\n",
    "axes.set_title(label='Player Heights', loc='right')\n",
    "\n",
    "axes.set_ylabel('Height(in)')\n",
    "axes.set_xlabel('Jersey #')\n",
    "\n",
    "# Initialize the plot legend \n",
    "axes.legend()"
   ]
  },
  {
   "cell_type": "markdown",
   "metadata": {},
   "source": [
    "There are a number of other arguments/parameters that you can specify to further customize plot legends. Let's go over a few of them:"
   ]
  },
  {
   "cell_type": "code",
   "execution_count": null,
   "metadata": {
    "collapsed": true
   },
   "outputs": [],
   "source": [
    "figure, axes = plt.subplots()\n",
    "\n",
    "# We set the labels for each line.\n",
    "axes.plot(np.arange(0,45), nd_football_roster['Height'][:45], \n",
    "          linestyle='--', label='Squad A')\n",
    "axes.plot(np.arange(0,45), nd_football_roster['Height'][45:], \n",
    "          label='Squad B')\n",
    "\n",
    "axes.set_title(label='2017 ND Football', loc='left')\n",
    "axes.set_title(label='Player Heights', loc='right')\n",
    "\n",
    "axes.set_ylabel('Height(in)')\n",
    "axes.set_xlabel('Jersey #')\n",
    "\n",
    "# Use the `loc` argument to control where the\n",
    "# legend appears in your plot. Valid options:\n",
    "# upper left, upper center, upper right\n",
    "# center left, center, center right\n",
    "# lower left, lower center, lower right\n",
    "axes.legend(loc='lower right')"
   ]
  },
  {
   "cell_type": "markdown",
   "metadata": {},
   "source": [
    "You can set a title for the legend itself:"
   ]
  },
  {
   "cell_type": "code",
   "execution_count": null,
   "metadata": {
    "collapsed": true
   },
   "outputs": [],
   "source": [
    "figure, axes = plt.subplots()\n",
    "axes.plot(np.arange(0,45), nd_football_roster['Height'][:45], \n",
    "          linestyle='--', label='Squad A')\n",
    "axes.plot(np.arange(0,45), nd_football_roster['Height'][45:], \n",
    "          label='Squad B')\n",
    "\n",
    "axes.set_title(label='2017 ND Football', loc='left')\n",
    "axes.set_title(label='Player Heights', loc='right')\n",
    "\n",
    "axes.set_ylabel('Height(in)')\n",
    "axes.set_xlabel('Jersey #')\n",
    "\n",
    "axes.legend(title='Legend')"
   ]
  },
  {
   "cell_type": "markdown",
   "metadata": {},
   "source": [
    "You can add edges and background colors to a legend:"
   ]
  },
  {
   "cell_type": "code",
   "execution_count": null,
   "metadata": {
    "collapsed": true
   },
   "outputs": [],
   "source": [
    "figure, axes = plt.subplots()\n",
    "axes.plot(np.arange(0,45), nd_football_roster['Height'][:45], \n",
    "          linestyle='--', label='Squad A')\n",
    "axes.plot(np.arange(0,45), nd_football_roster['Height'][45:], \n",
    "          label='Squad B')\n",
    "\n",
    "axes.set_title(label='2017 ND Football', loc='left')\n",
    "axes.set_title(label='Player Heights', loc='right')\n",
    "\n",
    "axes.set_ylabel('Height(in)')\n",
    "axes.set_xlabel('Jersey #')\n",
    "\n",
    "# You can specify background and edge colors for the \n",
    "# legend if you also specify `frameon=True`\n",
    "axes.legend(title='Legend', frameon=True, \n",
    "            edgecolor='black', facecolor='gold')"
   ]
  },
  {
   "cell_type": "markdown",
   "metadata": {},
   "source": [
    "You can adjust the number of columns in a legend. This is handy if you want the legend to take up less vertical space."
   ]
  },
  {
   "cell_type": "code",
   "execution_count": null,
   "metadata": {
    "collapsed": true
   },
   "outputs": [],
   "source": [
    "figure, axes = plt.subplots()\n",
    "axes.plot(np.arange(0,45), nd_football_roster['Height'][:45], \n",
    "          linestyle='--', label='Squad A')\n",
    "axes.plot(np.arange(0,45), nd_football_roster['Height'][45:], \n",
    "          label='Squad B')\n",
    "\n",
    "axes.set_title(label='2017 ND Football', loc='left')\n",
    "axes.set_title(label='Player Heights', loc='right')\n",
    "\n",
    "axes.set_ylabel('Height(in)')\n",
    "axes.set_xlabel('Jersey #')\n",
    "\n",
    "# Use the `ncol` argument to specify the\n",
    "# number of columns.\n",
    "axes.legend(ncol=2, loc='lower right')"
   ]
  },
  {
   "cell_type": "markdown",
   "metadata": {},
   "source": [
    "And finally, you can adjust the size of the font used in the legend:"
   ]
  },
  {
   "cell_type": "code",
   "execution_count": null,
   "metadata": {
    "collapsed": true
   },
   "outputs": [],
   "source": [
    "figure, axes = plt.subplots()\n",
    "axes.plot(np.arange(0,45), nd_football_roster['Height'][:45], \n",
    "          linestyle='--', label='Squad A')\n",
    "axes.plot(np.arange(0,45), nd_football_roster['Height'][45:], \n",
    "          label='Squad B')\n",
    "\n",
    "axes.set_title(label='2017 ND Football', loc='left')\n",
    "axes.set_title(label='Player Heights', loc='right')\n",
    "\n",
    "axes.set_ylabel('Height(in)')\n",
    "axes.set_xlabel('Jersey #')\n",
    "\n",
    "# Use `fontsize` to adjust the legend font size.\n",
    "axes.legend(ncol=2, loc='lower right', fontsize=14)"
   ]
  },
  {
   "cell_type": "markdown",
   "metadata": {},
   "source": [
    "<div class=\"alert alert-block alert-warning\">\n",
    "## Important things to keep in mind while plotting simple line plots\n",
    "</div>\n",
    "1. Make sure your data appears appropriately with xlim and ylim\n",
    "2. Line properties\n",
    "    * color\n",
    "    * linestyle\n",
    "    * linewidth\n",
    "    * marker\n",
    "3. Plot Metadata\n",
    "    * set_title\n",
    "    * set_xlabel, set_ylabel\n",
    "    * legend"
   ]
  },
  {
   "cell_type": "markdown",
   "metadata": {},
   "source": [
    "# Activity\n",
    "\n",
    "In this activity we will use the flight_sample.csv dataset. We will learn both the group by and plotting the data. \n",
    "\n",
    "### GroupBy 'MONTH' and Plotting\n",
    "\n",
    "We want to see if the day of the week has any effect on average distance traveled by airline customers\n",
    "\n",
    "1. Compute the average DISTANCE per 'MONTH'\n",
    "    * This part was already done for you!\n",
    "2. Visualize the average distance travelled and the day of the week\n",
    "    * Plot with x-axis as the day of the week and y-axis as the average distance traveled\n",
    "    * Make sure you set the title, xlabel, ylabel. "
   ]
  },
  {
   "cell_type": "code",
   "execution_count": null,
   "metadata": {
    "collapsed": true
   },
   "outputs": [],
   "source": [
    "flights_by_month = flights.groupby(['MONTH'])\n",
    "distance_avg = flights_by_month[['DISTANCE']].mean()\n",
    "distance_avg"
   ]
  },
  {
   "cell_type": "code",
   "execution_count": null,
   "metadata": {
    "collapsed": true
   },
   "outputs": [],
   "source": []
  },
  {
   "cell_type": "markdown",
   "metadata": {},
   "source": [
    "\n",
    "### GroupBy 'MONTH' and Plotting\n",
    "\n",
    "We will do the similar analysis as above, but separately for two airlines, United Airlines (UA) and Hawaiin Airlines (HA)\n",
    "\n",
    "1. Compute the median DISTANCE per 'MONTH' for United Airlines and Hawaiin Airlines separately \n",
    "    * This part was already done for you!\n",
    "2. Visualize the average distance travelled and the day of the week by United Airlines and Hawaiin Airlines \n",
    "    * Plot with x-axis as the day of the week and y-axis as the average distance traveled\n",
    "    * Plot metadata\n",
    "        * Set the title\n",
    "        * xlabel and ylabel\n",
    "        * Give United Airlines a green color and Hawaiin Airlines a red color\n",
    "        * Give appropriate legend indicating the lines for United and Hawaiin Airlines"
   ]
  },
  {
   "cell_type": "code",
   "execution_count": null,
   "metadata": {
    "collapsed": true
   },
   "outputs": [],
   "source": [
    "flights_by_airline_month = flights.groupby(['AIRLINE', 'MONTH'])\n",
    "distance_avg_airline = flights_by_airline_month[['DISTANCE']].median()\n",
    "\n",
    "ua_distance_avg = distance_avg_airline.loc['UA']\n",
    "ha_distance_avg = distance_avg_airline.loc['HA']"
   ]
  }
 ],
 "metadata": {
  "kernelspec": {
   "display_name": "Python 3",
   "language": "python",
   "name": "python3"
  },
  "language_info": {
   "codemirror_mode": {
    "name": "ipython",
    "version": 3
   },
   "file_extension": ".py",
   "mimetype": "text/x-python",
   "name": "python",
   "nbconvert_exporter": "python",
   "pygments_lexer": "ipython3",
   "version": "3.6.1"
  }
 },
 "nbformat": 4,
 "nbformat_minor": 2
}
