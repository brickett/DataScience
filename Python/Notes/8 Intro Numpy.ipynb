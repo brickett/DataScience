{
 "cells": [
  {
   "cell_type": "markdown",
   "metadata": {},
   "source": [
    "## List comprehension\n",
    "\n",
    "Just think of it as a one-line way to create a list from another list.\n",
    "\n",
    "Here it is adding a one to each number of `my_list` and storing the results in `compre_list`"
   ]
  },
  {
   "cell_type": "code",
   "execution_count": null,
   "metadata": {
    "collapsed": true
   },
   "outputs": [],
   "source": [
    "my_list = [1,2,3,4,5]\n",
    "\n",
    "compre_list = [x+1 for x in my_list]\n",
    "\n",
    "print(compre_list)"
   ]
  },
  {
   "cell_type": "code",
   "execution_count": 1,
   "metadata": {},
   "outputs": [
    {
     "name": "stdout",
     "output_type": "stream",
     "text": [
      "['mendoza', 'tepper', 'mendoza', 'tepper', 'tepper', 'tepper', 'mendoza']\n",
      "[1, 0, 1, 0, 0, 0, 1]\n"
     ]
    }
   ],
   "source": [
    "my_list = ['mendoza', 'tepper', 'mendoza','tepper','tepper','tepper','mendoza']\n",
    "\n",
    "mendoza_indicator = [1 if x=='mendoza' else 0 for x in my_list]\n",
    "\n",
    "print(my_list)\n",
    "print(mendoza_indicator)"
   ]
  },
  {
   "cell_type": "markdown",
   "metadata": {},
   "source": [
    "## Fixed Type Arrays in Python (Available since Python 3.3)"
   ]
  },
  {
   "cell_type": "code",
   "execution_count": 2,
   "metadata": {},
   "outputs": [
    {
     "data": {
      "text/plain": [
       "array('i', [0, 1, 2, 3, 4, 5, 6, 7, 8, 9])"
      ]
     },
     "execution_count": 2,
     "metadata": {},
     "output_type": "execute_result"
    }
   ],
   "source": [
    "import array\n",
    "L = list(range(10))\n",
    "A = array.array('i',L)\n",
    "A"
   ]
  },
  {
   "cell_type": "code",
   "execution_count": null,
   "metadata": {
    "collapsed": true
   },
   "outputs": [],
   "source": [
    "L = list(range(10))\n",
    "A = array.array('f',L)\n",
    "A"
   ]
  },
  {
   "cell_type": "markdown",
   "metadata": {},
   "source": [
    "## Built-in Functions\n",
    "\n",
    "* len()\n",
    "* sum()\n",
    "* min()\n",
    "* max()\n",
    "* [click here for more](https://docs.python.org/3/library/functions.html)"
   ]
  },
  {
   "cell_type": "markdown",
   "metadata": {},
   "source": [
    "<div class=\"alert alert-block alert-info\">\n",
    "<h5>The `len()` function</h5>\n",
    "<p>If you want to know the number of elements inside of a Python list, dict, array, etc. the `len()` function is your friend. Just pass in the container object you want to inspect and it will tell you how many items it has inside.</p>\n",
    "</div> "
   ]
  },
  {
   "cell_type": "code",
   "execution_count": 3,
   "metadata": {},
   "outputs": [
    {
     "name": "stdout",
     "output_type": "stream",
     "text": [
      "5\n",
      "15\n"
     ]
    }
   ],
   "source": [
    "my_list = [1,2,3,4,5]\n",
    "\n",
    "print(len(my_list))\n",
    "print(sum(my_list))"
   ]
  },
  {
   "cell_type": "code",
   "execution_count": 5,
   "metadata": {},
   "outputs": [
    {
     "name": "stdout",
     "output_type": "stream",
     "text": [
      "8\n",
      "-5\n",
      "54\n"
     ]
    }
   ],
   "source": [
    "A = array.array('i', [-1,2,5,1,54,4,-5,2])\n",
    "\n",
    "print(len(A))\n",
    "print(min(A))\n",
    "print(max(A))"
   ]
  },
  {
   "cell_type": "markdown",
   "metadata": {},
   "source": [
    "# NumPy - Numerical Python "
   ]
  },
  {
   "cell_type": "markdown",
   "metadata": {},
   "source": [
    "## Importing numpy array"
   ]
  },
  {
   "cell_type": "code",
   "execution_count": 7,
   "metadata": {},
   "outputs": [
    {
     "data": {
      "text/plain": [
       "'1.12.1'"
      ]
     },
     "execution_count": 7,
     "metadata": {},
     "output_type": "execute_result"
    }
   ],
   "source": [
    "import numpy as np\n",
    "np.__version__"
   ]
  },
  {
   "cell_type": "markdown",
   "metadata": {},
   "source": [
    "Note: Some of the examples and content are from our text book PDSH Ch. 2"
   ]
  },
  {
   "cell_type": "markdown",
   "metadata": {},
   "source": [
    "## Fundamentals of NumPy Arrays\n"
   ]
  },
  {
   "cell_type": "markdown",
   "metadata": {},
   "source": [
    "### Creating NumPy array from a list"
   ]
  },
  {
   "cell_type": "code",
   "execution_count": 8,
   "metadata": {},
   "outputs": [
    {
     "data": {
      "text/plain": [
       "array([0, 1, 2, 3, 4, 5])"
      ]
     },
     "execution_count": 8,
     "metadata": {},
     "output_type": "execute_result"
    }
   ],
   "source": [
    "list_of_ints = [0, 1, 2, 3, 4, 5]\n",
    "np.array(list_of_ints)"
   ]
  },
  {
   "cell_type": "markdown",
   "metadata": {},
   "source": [
    "### Creating NumPy array from scratch"
   ]
  },
  {
   "cell_type": "code",
   "execution_count": 9,
   "metadata": {},
   "outputs": [
    {
     "data": {
      "text/plain": [
       "array([ 0.,  0.,  0.,  0.,  0.,  0.,  0.,  0.,  0.,  0.])"
      ]
     },
     "execution_count": 9,
     "metadata": {},
     "output_type": "execute_result"
    }
   ],
   "source": [
    "np.zeros(10)"
   ]
  },
  {
   "cell_type": "code",
   "execution_count": 10,
   "metadata": {},
   "outputs": [
    {
     "data": {
      "text/plain": [
       "array([ 3.14,  3.14,  3.14,  3.14,  3.14,  3.14,  3.14,  3.14,  3.14,  3.14])"
      ]
     },
     "execution_count": 10,
     "metadata": {},
     "output_type": "execute_result"
    }
   ],
   "source": [
    "np.full(10, 3.14)"
   ]
  },
  {
   "cell_type": "code",
   "execution_count": 11,
   "metadata": {},
   "outputs": [
    {
     "data": {
      "text/plain": [
       "array([ 5, 10, 15, 20])"
      ]
     },
     "execution_count": 11,
     "metadata": {},
     "output_type": "execute_result"
    }
   ],
   "source": [
    "np.arange(5,25, 5)"
   ]
  },
  {
   "cell_type": "code",
   "execution_count": 13,
   "metadata": {
    "collapsed": true
   },
   "outputs": [],
   "source": [
    "np.arange?"
   ]
  },
  {
   "cell_type": "markdown",
   "metadata": {},
   "source": [
    "## Accessing NumPy Array\n",
    "\n",
    "In the last two classes we have used Python's built-in `list` and now we are using array type provided by the NumPy package. \n",
    "\n",
    "<div class=\"alert alert-block alert-info\">\n",
    "The actual name of the NumPy array type is `ndarray`. So, when we refer to a Numpy Array or an `ndarray` we are talking about the same thing.</div> \n",
    "\n",
    "Another similiarity between the two types is how you can retrieve the data elements they contain.\n",
    "\n",
    "For either type, you can access an element by simple adding brackets to the end of the object name with the index of the element you want inside the bracket.\n",
    "\n",
    "<div class=\"alert alert-block alert-warning\">\n",
    "Just remember the first element if `0`, not `1`. Forget this and you'll have all sorts of problems.\n",
    "</div> \n"
   ]
  },
  {
   "cell_type": "code",
   "execution_count": 14,
   "metadata": {
    "collapsed": true
   },
   "outputs": [],
   "source": [
    "numeric_array = np.array(range(1, 11))"
   ]
  },
  {
   "cell_type": "code",
   "execution_count": 15,
   "metadata": {},
   "outputs": [
    {
     "data": {
      "text/plain": [
       "array([ 1,  2,  3,  4,  5,  6,  7,  8,  9, 10])"
      ]
     },
     "execution_count": 15,
     "metadata": {},
     "output_type": "execute_result"
    }
   ],
   "source": [
    "numeric_array"
   ]
  },
  {
   "cell_type": "markdown",
   "metadata": {
    "collapsed": true
   },
   "source": [
    "### Similar to lists you can also access them from the end using negative indexing"
   ]
  },
  {
   "cell_type": "code",
   "execution_count": 16,
   "metadata": {},
   "outputs": [
    {
     "data": {
      "text/plain": [
       "10"
      ]
     },
     "execution_count": 16,
     "metadata": {},
     "output_type": "execute_result"
    }
   ],
   "source": [
    "numeric_array[-1]"
   ]
  },
  {
   "cell_type": "markdown",
   "metadata": {},
   "source": [
    "## Array Slicing: Accessing Subarrays <a name=\"slicing\"></a>"
   ]
  },
  {
   "cell_type": "markdown",
   "metadata": {},
   "source": [
    "Just as we can use square brackets to access individual array elements, we can also use them to access subarrays with the *slice* notation. \n",
    "\n",
    "The NumPy slicing syntax follows that of the standard Python `list`; to access a slice of an array `x`, use the `start:stop:step` notation inside of brackets:\n",
    "``` python\n",
    "x[start:stop:step]\n",
    "```\n",
    "\n",
    "If any of these are unspecified, they default to the values: \n",
    "* `start=0`\n",
    "* `stop=`*`size of dimension`*\n",
    "* `step=1`.\n",
    "\n",
    "#### Sample Slice Notations\n",
    "Here are some sample slice notations and their meanings.\n",
    "* `1:5:1`: Return elements 2 through 5 in normal order. (Remember that with 0-based indexing, 1 is the second element.\n",
    "* `:8:1`: Return elements 0 through 8 in normal order. Since the `start` parameter is left out, it assumes it's default value.\n",
    "* `::-1`: Return all elements (first two parameters are default values) in reserve order.\n",
    "\n",
    "Let's try slice notations"
   ]
  },
  {
   "cell_type": "code",
   "execution_count": null,
   "metadata": {
    "collapsed": true
   },
   "outputs": [],
   "source": [
    "numeric_array = np.array(range(1, 11))"
   ]
  },
  {
   "cell_type": "code",
   "execution_count": null,
   "metadata": {
    "collapsed": true
   },
   "outputs": [],
   "source": [
    "# Return everything up to the 4th element\n",
    "numeric_array[:4]"
   ]
  },
  {
   "cell_type": "markdown",
   "metadata": {},
   "source": [
    "## `ndarray` Slices are Segments, not Copies <a name=\"subcopy\"></a>\n",
    "\n",
    "This is the last topic for this tutorial.\n",
    "\n",
    "When we use slice notation on an `ndarray`, it returns a segment of the original - as opposed to a copy. This means that if you can the elements of a slice, you will also change them in the original array.\n",
    "\n",
    "<div class=\"alert alert-block alert-danger\">\n",
    "It is very important for experienced Python programmers to note since this is the opposite of what happens when you slice a `list` object.\n",
    "</div> \n",
    "\n",
    "While this may seem like a bad thing at first, particular for those of use who are used to slicing `list` objects, this can actually help us when we want to process little chuncks of data at a time.\n",
    "\n",
    "Let's demonstrate:"
   ]
  },
  {
   "cell_type": "code",
   "execution_count": 17,
   "metadata": {},
   "outputs": [
    {
     "data": {
      "text/plain": [
       "array([8, 4, 5, 3, 2, 0, 1, 2, 5, 5])"
      ]
     },
     "execution_count": 17,
     "metadata": {},
     "output_type": "execute_result"
    }
   ],
   "source": [
    "numeric_array = np.random.randint(10, size=10)  \n",
    "numeric_array"
   ]
  },
  {
   "cell_type": "code",
   "execution_count": 18,
   "metadata": {
    "scrolled": true
   },
   "outputs": [
    {
     "data": {
      "text/plain": [
       "array([3, 2, 0])"
      ]
     },
     "execution_count": 18,
     "metadata": {},
     "output_type": "execute_result"
    }
   ],
   "source": [
    "part_of_it = numeric_array[3:6]\n",
    "part_of_it"
   ]
  },
  {
   "cell_type": "code",
   "execution_count": 19,
   "metadata": {},
   "outputs": [
    {
     "data": {
      "text/plain": [
       "array([   8,    4,    5, 1000, 2000,    0,    1,    2,    5,    5])"
      ]
     },
     "execution_count": 19,
     "metadata": {},
     "output_type": "execute_result"
    }
   ],
   "source": [
    "part_of_it[0:2] = [1000, 2000]\n",
    "\n",
    "# And re-output `numeric_array`\n",
    "numeric_array"
   ]
  },
  {
   "cell_type": "markdown",
   "metadata": {},
   "source": [
    "### Forcing an Array's Data Type\n",
    "You also have the option of forcing all NumPy array elements to have a specific data type.  Here I'll take a `list` of `float` objects and coerce them into `int` objects by specifying the **`dtype`** parameter on the `np.array` function."
   ]
  },
  {
   "cell_type": "code",
   "execution_count": 20,
   "metadata": {},
   "outputs": [
    {
     "data": {
      "text/plain": [
       "array([11, 57, 95])"
      ]
     },
     "execution_count": 20,
     "metadata": {},
     "output_type": "execute_result"
    }
   ],
   "source": [
    "list_of_floats = [11.2, 57.6, 95.1]\n",
    "np.array(list_of_floats, dtype=int)"
   ]
  },
  {
   "cell_type": "markdown",
   "metadata": {},
   "source": [
    "<div class=\"alert alert-block alert-info\">\n",
    "<p>The <code>dtype</code> parameter can take many different values in additional these standard Python types: <code>int, float, bool, complex</code>.</p>\n",
    "\n",
    "<p>For a complete list, you can visit <a href=\"https://docs.scipy.org/doc/numpy/user/basics.types.html\" target=\"_blank\">NumPy website.</a>\n",
    "</div>"
   ]
  },
  {
   "cell_type": "markdown",
   "metadata": {},
   "source": [
    "### Arrays can be Multi-Dimensional\n",
    "NumPy arrays can be multi-dimensional. We'll start with a two dimensional array, which can be thought of a grid with x and y coordinates."
   ]
  },
  {
   "cell_type": "code",
   "execution_count": 21,
   "metadata": {},
   "outputs": [
    {
     "data": {
      "text/plain": [
       "array([[2, 3, 4],\n",
       "       [4, 5, 6],\n",
       "       [6, 7, 8]])"
      ]
     },
     "execution_count": 21,
     "metadata": {},
     "output_type": "execute_result"
    }
   ],
   "source": [
    "# Don't focus on how this is being created. Just focus on the output.\n",
    "two_dimensional_array = np.array([range(i, i + 3) for i in [2, 4, 6]])\n",
    "two_dimensional_array"
   ]
  },
  {
   "cell_type": "markdown",
   "metadata": {},
   "source": [
    "#### Accessing Multi-Dimensional Arrays"
   ]
  },
  {
   "cell_type": "code",
   "execution_count": 23,
   "metadata": {},
   "outputs": [
    {
     "name": "stdout",
     "output_type": "stream",
     "text": [
      "[2 3 4]\n",
      "[6 7 8]\n",
      "4\n"
     ]
    }
   ],
   "source": [
    "# Get the first row (only specify an \"x\" coordinate)\n",
    "print(two_dimensional_array[0])\n",
    "\n",
    "# Get the last row\n",
    "print(two_dimensional_array[2])\n",
    "\n",
    "# Get the 1st column of the 2nd row.\n",
    "print(two_dimensional_array[1][0])\n"
   ]
  },
  {
   "cell_type": "markdown",
   "metadata": {},
   "source": [
    "#### Slicing with Multi-Dimentional Arrays"
   ]
  },
  {
   "cell_type": "code",
   "execution_count": 24,
   "metadata": {},
   "outputs": [
    {
     "data": {
      "text/plain": [
       "array([[4, 5, 9],\n",
       "       [6, 9, 6],\n",
       "       [8, 4, 6],\n",
       "       [8, 6, 7],\n",
       "       [0, 9, 6]])"
      ]
     },
     "execution_count": 24,
     "metadata": {},
     "output_type": "execute_result"
    }
   ],
   "source": [
    "two_dim_array = np.random.randint(10, size=(5, 3))  \n",
    "two_dim_array"
   ]
  },
  {
   "cell_type": "code",
   "execution_count": 25,
   "metadata": {},
   "outputs": [
    {
     "data": {
      "text/plain": [
       "array([[4],\n",
       "       [6],\n",
       "       [8],\n",
       "       [8]])"
      ]
     },
     "execution_count": 25,
     "metadata": {},
     "output_type": "execute_result"
    }
   ],
   "source": [
    "# Slice the first 4 rows and 1st column of each row\n",
    "two_dim_array[:4, :1]"
   ]
  },
  {
   "cell_type": "markdown",
   "metadata": {},
   "source": [
    "<div class=\"alert alert-block alert-danger\">\n",
    "<h5>Warning</h5>\n",
    "<p>When we were selecting individual elements of arrays, we demonstrated that there were two ways of getting to a specific element of a multi-dimensional array.\n",
    "</p>\n",
    "<ul>\n",
    "    <li><code>two_dim_array[1, 1]</code></li>\n",
    "    <li><code>two_dim_array[1][1]</code></li>\n",
    "</ul>\n",
    "\n",
    "You can <strong>not</strong> use the second form when slicing an array.\n",
    "<code>two_dim_array[:4, :1]</code> will give very different results than <code>two_dim_array[:4][:1]</code>\n",
    "\n",
    "</div> "
   ]
  },
  {
   "cell_type": "code",
   "execution_count": null,
   "metadata": {
    "collapsed": true
   },
   "outputs": [],
   "source": []
  },
  {
   "cell_type": "markdown",
   "metadata": {
    "collapsed": true
   },
   "source": [
    "## NumPy Array Attributes\n",
    "Like all objects, NumPy Arrays have a set of attributes. Let's take moment to discuss some that you may find particularly helpful:\n",
    "\n",
    "1. `ndim`\n",
    "1. `shape`\n",
    "1. `size`\n",
    "1. `dtype`\n",
    "\n",
    "To get started, let's create 3 arrays."
   ]
  },
  {
   "cell_type": "code",
   "execution_count": 26,
   "metadata": {},
   "outputs": [
    {
     "name": "stdout",
     "output_type": "stream",
     "text": [
      "One Dimensional Array\n",
      "[2 3 4 2 5 9]\n",
      "Two Dimensional Array\n",
      "[[7 5 4 9]\n",
      " [3 9 1 2]\n",
      " [8 2 9 7]]\n",
      "Three Dimensional Array\n",
      "[[[1 2 4 6 6]\n",
      "  [8 5 7 6 9]\n",
      "  [4 4 9 7 5]\n",
      "  [0 1 2 5 0]]\n",
      "\n",
      " [[9 3 8 1 0]\n",
      "  [3 3 0 9 9]\n",
      "  [6 6 8 1 1]\n",
      "  [4 1 3 2 8]]\n",
      "\n",
      " [[4 9 1 3 7]\n",
      "  [0 2 6 6 6]\n",
      "  [0 4 4 3 9]\n",
      "  [9 1 3 5 5]]]\n"
     ]
    }
   ],
   "source": [
    "x1 = np.random.randint(10, size=6)  # One-dimensional array\n",
    "x2 = np.random.randint(10, size=(3, 4))  # Two-dimensional array\n",
    "x3 = np.random.randint(10, size=(3, 4, 5))  # Three-dimensional array\n",
    "\n",
    "print(\"One Dimensional Array\", x1, sep='\\n')\n",
    "print(\"Two Dimensional Array\", x2, sep='\\n')\n",
    "print(\"Three Dimensional Array\", x3, sep='\\n')"
   ]
  },
  {
   "cell_type": "markdown",
   "metadata": {},
   "source": [
    "### `ndim` Attribute\n",
    "Returns the number of dimensions a given array has."
   ]
  },
  {
   "cell_type": "code",
   "execution_count": 27,
   "metadata": {},
   "outputs": [
    {
     "name": "stdout",
     "output_type": "stream",
     "text": [
      "1 2 3\n"
     ]
    }
   ],
   "source": [
    "print(x1.ndim, x2.ndim, x3.ndim)"
   ]
  },
  {
   "cell_type": "markdown",
   "metadata": {},
   "source": [
    "### `shape` Attribute\n",
    "Returns the number of elements a given dimension has. For our `x2` array we'd get this output:\n",
    "\n",
    "```python\n",
    "x2.shape\n",
    "(3, 4)\n",
    "```\n",
    "\n",
    "If you look above, you'll see that the full represenation of our `x2` array was like this:\n",
    "\n",
    "```\n",
    "[[6 7 9 1]\n",
    " [3 4 1 2]\n",
    " [6 7 0 7]]\n",
    "```\n",
    "\n",
    "The `(3, 4)` returned by `x2.shape` is referring to the fact that our array had three \"rows\" and four \"columns\" in each row."
   ]
  },
  {
   "cell_type": "code",
   "execution_count": null,
   "metadata": {
    "collapsed": true
   },
   "outputs": [],
   "source": [
    "print(x2)\n",
    "print(x2.shape)"
   ]
  },
  {
   "cell_type": "markdown",
   "metadata": {},
   "source": [
    "### `size` Attribute\n",
    "Returns the total number of elements across all dimensions of an array.\n",
    "\n",
    "So, for our one-dimensional array `size` will be 6.  \n",
    "For our 2 dimensional array had dimensions of 3 & 4 elements, so `size` will be 12.  \n",
    "Our 3 dimensional array had dimensions of 3, 4, and 5. Therefore it will have a total size of 60 elements."
   ]
  },
  {
   "cell_type": "code",
   "execution_count": 28,
   "metadata": {},
   "outputs": [
    {
     "name": "stdout",
     "output_type": "stream",
     "text": [
      "x1 size: 6\n",
      "x2 size: 12\n",
      "x3 size: 60\n"
     ]
    }
   ],
   "source": [
    "print(\"x1 size:\", x1.size)\n",
    "print(\"x2 size:\", x2.size)\n",
    "print(\"x3 size:\", x3.size)"
   ]
  },
  {
   "cell_type": "markdown",
   "metadata": {},
   "source": [
    "### `dtype` Attribute\n",
    "Previously, we passed a `dtype` argument to the `np.array` constructor function to coerce the data type of the array's elements.\n",
    "\n",
    "It comes about again here, but this time as an attribute of all NumPy array's. Unsurprisingly, it tells you the data type of the objects held inside the array."
   ]
  },
  {
   "cell_type": "code",
   "execution_count": null,
   "metadata": {
    "collapsed": true
   },
   "outputs": [],
   "source": [
    "float_array = np.array([1, 2, 3.1])\n",
    "float_array.dtype"
   ]
  },
  {
   "cell_type": "markdown",
   "metadata": {},
   "source": [
    "### `itemsize` and `nbytes` Attributes\n",
    "Other attributes include ``itemsize``, which lists the size (in bytes) of each array element, and ``nbytes``, which lists the total size (in bytes) of the array:"
   ]
  },
  {
   "cell_type": "code",
   "execution_count": 29,
   "metadata": {},
   "outputs": [
    {
     "name": "stdout",
     "output_type": "stream",
     "text": [
      "itemsize: 4 bytes\n",
      "nbytes: 240 bytes\n"
     ]
    }
   ],
   "source": [
    "print(\"itemsize:\", x3.itemsize, \"bytes\")\n",
    "print(\"nbytes:\", x3.nbytes, \"bytes\")"
   ]
  },
  {
   "cell_type": "markdown",
   "metadata": {},
   "source": [
    "In general, we expect that ``nbytes`` is equal to ``itemsize`` times ``size``."
   ]
  },
  {
   "cell_type": "markdown",
   "metadata": {},
   "source": [
    "# NumPy Array Sorting, Merging, Reshaping and Splitting"
   ]
  },
  {
   "cell_type": "markdown",
   "metadata": {},
   "source": [
    "## ND Football roster data\n",
    "\n",
    "The Notre Dame football athletes information is a publicly accessible data that provides information about the athletes, their jersey number, name, position, height, weight, class and hometown. \n",
    "\n",
    "To get start, we will work with an array of football player weights from your tutorial dataset."
   ]
  },
  {
   "cell_type": "code",
   "execution_count": 42,
   "metadata": {
    "collapsed": true
   },
   "outputs": [],
   "source": [
    "# We will understand each of the packages in the course as we move along, for now let us import them\n",
    "import numpy as np\n",
    "import pandas as pd\n",
    "import matplotlib.pyplot as plt\n",
    "plt.style.use('seaborn')\n",
    "%matplotlib inline"
   ]
  },
  {
   "cell_type": "code",
   "execution_count": 44,
   "metadata": {},
   "outputs": [],
   "source": [
    "# At this point you don't have to know the details of following data loading. \n",
    "# However, understand that it is loading the weights of all the athletes\n",
    "nd_player_weights = np.array(pd.read_csv('./data/nd-football-2017-roster.csv')['Weight'])"
   ]
  },
  {
   "cell_type": "markdown",
   "metadata": {},
   "source": [
    "## Activity:\n",
    "\n",
    "Compute the following details\n",
    "\n",
    "* Number of players in the dataset\n",
    "* The average weight of the players\n",
    "* The weight of the lightest player\n",
    "* The weight of the heaviest player"
   ]
  },
  {
   "cell_type": "code",
   "execution_count": 52,
   "metadata": {},
   "outputs": [
    {
     "name": "stdout",
     "output_type": "stream",
     "text": [
      "90\n",
      "237.133333333\n"
     ]
    }
   ],
   "source": [
    "nd_player_weights = np.array(pd.read_csv('./data/nd-football-2017-roster.csv')['Weight'])\n",
    "\n",
    "print(len(nd_player_weights))\n",
    "\n",
    "print(sum(nd_player_weights)/len(nd_player_weights))"
   ]
  },
  {
   "cell_type": "markdown",
   "metadata": {},
   "source": [
    "## Array Sorting\n",
    "A very common use case for real world datasets is that they aren't going to be sorted in the ways we want. This is the case with our football player weights array.  Take a look at the messy order it is in right now."
   ]
  },
  {
   "cell_type": "code",
   "execution_count": null,
   "metadata": {
    "collapsed": true
   },
   "outputs": [],
   "source": [
    "nd_player_weights"
   ]
  },
  {
   "cell_type": "code",
   "execution_count": 55,
   "metadata": {},
   "outputs": [
    {
     "data": {
      "text/plain": [
       "[<matplotlib.lines.Line2D at 0x13a2f453ac8>]"
      ]
     },
     "execution_count": 55,
     "metadata": {},
     "output_type": "execute_result"
    },
    {
     "data": {
      "image/png": "[encoded data removed]",
      "text/plain": [
       "<matplotlib.figure.Figure at 0x13a2bceaf28>"
      ]
     },
     "metadata": {},
     "output_type": "display_data"
    }
   ],
   "source": [
    "# And look how that would be visualized...You don't have to know the details!\n",
    "axes = plt.axes()\n",
    "plt.axes().plot(nd_player_weights)"
   ]
  },
  {
   "cell_type": "markdown",
   "metadata": {},
   "source": [
    "### np.sort\n",
    "The `np.sort` function returns a sorted copy of an array. Let's go ahead and use that to get a sorted version of our player's weights."
   ]
  },
  {
   "cell_type": "code",
   "execution_count": 56,
   "metadata": {},
   "outputs": [
    {
     "name": "stdout",
     "output_type": "stream",
     "text": [
      "[175 177 179 180 180 180 181 183 183 185 187 189 190 190 190 190 191 193\n",
      " 195 195 197 198 201 202 202 203 203 204 205 206 207 208 208 208 209 216\n",
      " 217 217 220 220 224 224 225 225 226 227 227 229 230 231 235 235 235 237\n",
      " 238 240 242 242 243 245 251 252 252 255 256 260 267 280 281 284 289 292\n",
      " 294 294 299 302 303 304 304 305 308 310 312 313 318 320 326 329 329 329]\n"
     ]
    }
   ],
   "source": [
    "sorted_player_weights = np.sort(nd_player_weights)\n",
    "print(sorted_player_weights)"
   ]
  },
  {
   "cell_type": "code",
   "execution_count": 57,
   "metadata": {},
   "outputs": [
    {
     "data": {
      "text/plain": [
       "[<matplotlib.lines.Line2D at 0x13a2f699f98>]"
      ]
     },
     "execution_count": 57,
     "metadata": {},
     "output_type": "execute_result"
    },
    {
     "data": {
      "image/png": "[encoded data removed]",
      "text/plain": [
       "<matplotlib.figure.Figure at 0x13a2f60b978>"
      ]
     },
     "metadata": {},
     "output_type": "display_data"
    }
   ],
   "source": [
    "axes = plt.axes()\n",
    "axes.plot(sorted_player_weights)"
   ]
  },
  {
   "cell_type": "code",
   "execution_count": 58,
   "metadata": {},
   "outputs": [
    {
     "data": {
      "text/plain": [
       "[<matplotlib.lines.Line2D at 0x13a2f73e9b0>]"
      ]
     },
     "execution_count": 58,
     "metadata": {},
     "output_type": "execute_result"
    },
    {
     "data": {
      "image/png": "[encoded data removed]",
      "text/plain": [
       "<matplotlib.figure.Figure at 0x13a2f64c0f0>"
      ]
     },
     "metadata": {},
     "output_type": "display_data"
    }
   ],
   "source": [
    "axes = plt.axes()\n",
    "axes.annotate('Offensive/Defensive Lineman Start Here', \n",
    "              xy=(66, 280), xytext=(0, 300), \n",
    "              arrowprops=dict(\n",
    "                  facecolor='gray', \n",
    "                  connectionstyle=\"angle3,angleA=0,angleB=-90\"))\n",
    "axes.plot(sorted_player_weights)"
   ]
  },
  {
   "cell_type": "markdown",
   "metadata": {},
   "source": [
    "<div class=\"alert alert-block alert-info\">\n",
    "<p>You can also sort an array by calling the `sort` method on the array itself. For example, `nd_player_weights.sort()` would also get you a sorted list.</p>\n",
    "<p>There is one important difference however. If you call `sort` on the array itself like this, it sorts the array \"in-place\". This means that the original array elements are rearranged. Using `np.sort` on the other hand returns a new sorted copy of the original array.\n",
    "</p>\n",
    "</div> "
   ]
  },
  {
   "cell_type": "code",
   "execution_count": 61,
   "metadata": {},
   "outputs": [
    {
     "data": {
      "text/plain": [
       "array([175, 177, 179, 180, 180, 180, 181, 183, 183, 185, 187, 189, 190,\n",
       "       190, 190, 190, 191, 193, 195, 195, 197, 198, 201, 202, 202, 203,\n",
       "       203, 204, 205, 206, 207, 208, 208, 208, 209, 216, 217, 217, 220,\n",
       "       220, 224, 224, 225, 225, 226, 227, 227, 229, 230, 231, 235, 235,\n",
       "       235, 237, 238, 240, 242, 242, 243, 245, 251, 252, 252, 255, 256,\n",
       "       260, 267, 280, 281, 284, 289, 292, 294, 294, 299, 302, 303, 304,\n",
       "       304, 305, 308, 310, 312, 313, 318, 320, 326, 329, 329, 329], dtype=int64)"
      ]
     },
     "execution_count": 61,
     "metadata": {},
     "output_type": "execute_result"
    }
   ],
   "source": [
    "nd_player_weights.sort()\n",
    "nd_player_weights"
   ]
  },
  {
   "cell_type": "markdown",
   "metadata": {},
   "source": [
    "## Activity: \n",
    "\n",
    "Print the weights of five lowest weights and five highest weights"
   ]
  },
  {
   "cell_type": "code",
   "execution_count": 65,
   "metadata": {},
   "outputs": [
    {
     "data": {
      "text/plain": [
       "array([329, 329, 329, 326, 320], dtype=int64)"
      ]
     },
     "execution_count": 65,
     "metadata": {},
     "output_type": "execute_result"
    }
   ],
   "source": [
    "nd_player_weights[:5]\n",
    "nd_player_weights[:-6:-1]"
   ]
  },
  {
   "cell_type": "markdown",
   "metadata": {},
   "source": [
    "## Array Merging\n",
    "Now that we've discussed how to split arrays apart, let's explore how we can piece multiple arrays together with the `np.concatenate`, `np.hstack`, and `np.vstack` functions."
   ]
  },
  {
   "cell_type": "markdown",
   "metadata": {},
   "source": [
    "### `np.concatenate`\n"
   ]
  },
  {
   "cell_type": "markdown",
   "metadata": {},
   "source": [
    "For some reason, the weight information for the football team has been send to you in two different emails. Now, you've got 2 separate arrays that you need to put together in order to generate the correct statistics for the team."
   ]
  },
  {
   "cell_type": "code",
   "execution_count": null,
   "metadata": {
    "collapsed": true
   },
   "outputs": [],
   "source": [
    "# Here are your two arrays\n",
    "# One has 25 data points and the other has the remaining 65\n",
    "nd_player_weights_1 = nd_player_weights[:25]\n",
    "nd_player_weights_2 = nd_player_weights[25:]\n",
    "print(len(nd_player_weights_1), len(nd_player_weights_2))"
   ]
  },
  {
   "cell_type": "code",
   "execution_count": null,
   "metadata": {
    "collapsed": true
   },
   "outputs": [],
   "source": [
    "# It is super easy to concatenate them together with `np.concatenate`\n",
    "merged_array = np.concatenate([nd_player_weights_1, nd_player_weights_2])\n",
    "print(len(merged_array))"
   ]
  },
  {
   "cell_type": "markdown",
   "metadata": {},
   "source": [
    "## Array Reshaping\n",
    "\n",
    "If you recall, every array has a `shape` attribute which conveys the dimensions of the array."
   ]
  },
  {
   "cell_type": "code",
   "execution_count": null,
   "metadata": {
    "collapsed": true
   },
   "outputs": [],
   "source": [
    "# Reshape our 90 records into 9 rows with 10 columns\n",
    "nd_player_weights_grid = nd_player_weights.reshape(9, 10)\n",
    "nd_player_weights_grid"
   ]
  },
  {
   "cell_type": "code",
   "execution_count": null,
   "metadata": {
    "collapsed": true
   },
   "outputs": [],
   "source": [
    "# Let's reshape into a 10x9 grid\n",
    "nd_player_weights_grid.reshape([10, 9])"
   ]
  },
  {
   "cell_type": "code",
   "execution_count": null,
   "metadata": {
    "collapsed": true
   },
   "outputs": [],
   "source": [
    "# Or into a single row of 90 elements\n",
    "nd_player_weights_grid.reshape(90)"
   ]
  },
  {
   "cell_type": "markdown",
   "metadata": {},
   "source": [
    "## Array Splitting\n",
    "\n",
    "Now let's turn our attention to how we can split arrays into smaller chuncks using the `np.split`, `np.array_split`, `np.hsplit`, and `np.vsplit` functions."
   ]
  },
  {
   "cell_type": "markdown",
   "metadata": {},
   "source": [
    "### `np.split`"
   ]
  },
  {
   "cell_type": "code",
   "execution_count": null,
   "metadata": {
    "collapsed": true
   },
   "outputs": [],
   "source": [
    "# You can split a single dimensional array with `np.split` \n",
    "# by specifying the index values on which to split the array.\n",
    "\n",
    "# Here we will use it to split the array into 5 arrays. \n",
    "np.split(nd_player_weights, indices_or_sections=[10, 30, 60, 70, 80])"
   ]
  },
  {
   "cell_type": "markdown",
   "metadata": {},
   "source": [
    "<div class=\"alert alert-block alert-info\">\n",
    "<p>It is important to note that the index values you provide will become the first element of the new arrays rather than the last element of the previous split.</p> \n",
    "<p>So, in this case, the elements at indexes 10, 30, 60, 70, 80 become the first elements of the new arrays.</p>\n",
    "</div> "
   ]
  },
  {
   "cell_type": "markdown",
   "metadata": {},
   "source": [
    "### `np.array_split`"
   ]
  },
  {
   "cell_type": "code",
   "execution_count": null,
   "metadata": {
    "collapsed": true
   },
   "outputs": [],
   "source": [
    "# If you want to split an array into equal parts \n",
    "# (or a close to equal as possible), use `np.array_split`\n",
    "\n",
    "# Here we will divided our team into 6 parts.\n",
    "np.array_split(nd_player_weights, 6)"
   ]
  }
 ],
 "metadata": {
  "kernelspec": {
   "display_name": "Python 3",
   "language": "python",
   "name": "python3"
  },
  "language_info": {
   "codemirror_mode": {
    "name": "ipython",
    "version": 3
   },
   "file_extension": ".py",
   "mimetype": "text/x-python",
   "name": "python",
   "nbconvert_exporter": "python",
   "pygments_lexer": "ipython3",
   "version": "3.6.1"
  }
 },
 "nbformat": 4,
 "nbformat_minor": 2
}
