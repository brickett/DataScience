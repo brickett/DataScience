{
 "cells": [
  {
   "cell_type": "markdown",
   "metadata": {},
   "source": [
    "# NumPy: Broadcasting"
   ]
  },
  {
   "cell_type": "code",
   "execution_count": 2,
   "metadata": {
    "collapsed": true
   },
   "outputs": [],
   "source": [
    "import numpy as np"
   ]
  },
  {
   "cell_type": "markdown",
   "metadata": {},
   "source": [
    "## Case 1"
   ]
  },
  {
   "cell_type": "code",
   "execution_count": 3,
   "metadata": {},
   "outputs": [
    {
     "name": "stdout",
     "output_type": "stream",
     "text": [
      "[0 1 2]\n",
      "(3,)\n",
      "[5 6 7]\n"
     ]
    }
   ],
   "source": [
    "x = np.arange(3)\n",
    "y = 5\n",
    "print(x)\n",
    "print(x.shape)\n",
    "print(x+y)"
   ]
  },
  {
   "cell_type": "markdown",
   "metadata": {},
   "source": [
    "## Case2"
   ]
  },
  {
   "cell_type": "code",
   "execution_count": 4,
   "metadata": {},
   "outputs": [
    {
     "name": "stdout",
     "output_type": "stream",
     "text": [
      "x array\n",
      "[[9 4 0]\n",
      " [8 6 1]\n",
      " [8 9 5]]\n",
      "y array\n",
      "[9 9 8]\n",
      "Their shapes are respectively\n",
      "(3, 3)\n",
      "(3,)\n"
     ]
    }
   ],
   "source": [
    "x = np.random.randint(10, size =((3,3)))\n",
    "y = np.random.randint(10, size = 3)\n",
    "print(\"x array\")\n",
    "print(x)\n",
    "print(\"y array\")\n",
    "print(y)\n",
    "\n",
    "print(\"Their shapes are respectively\")\n",
    "print(x.shape)\n",
    "print(y.shape)"
   ]
  },
  {
   "cell_type": "code",
   "execution_count": 5,
   "metadata": {},
   "outputs": [
    {
     "data": {
      "text/plain": [
       "array([[ 0, -5, -8],\n",
       "       [-1, -3, -7],\n",
       "       [-1,  0, -3]])"
      ]
     },
     "execution_count": 5,
     "metadata": {},
     "output_type": "execute_result"
    }
   ],
   "source": [
    "x - y"
   ]
  },
  {
   "cell_type": "markdown",
   "metadata": {},
   "source": [
    "## Case 3"
   ]
  },
  {
   "cell_type": "code",
   "execution_count": 6,
   "metadata": {},
   "outputs": [
    {
     "name": "stdout",
     "output_type": "stream",
     "text": [
      "x  array\n",
      "[[3]\n",
      " [2]\n",
      " [9]]\n",
      "y array\n",
      "[2 0 8]\n",
      "Their shapes are respectively\n",
      "(3, 1)\n",
      "(3,)\n"
     ]
    }
   ],
   "source": [
    "x = np.random.randint(10, size=(3,1))\n",
    "y = np.random.randint(10, size = 3)\n",
    "print(\"x  array\")\n",
    "print(x)\n",
    "print(\"y array\")\n",
    "print(y)\n",
    "\n",
    "print(\"Their shapes are respectively\")\n",
    "print(x.shape)\n",
    "print(y.shape)"
   ]
  },
  {
   "cell_type": "code",
   "execution_count": 7,
   "metadata": {},
   "outputs": [
    {
     "data": {
      "text/plain": [
       "array([[ 1,  3, -5],\n",
       "       [ 0,  2, -6],\n",
       "       [ 7,  9,  1]])"
      ]
     },
     "execution_count": 7,
     "metadata": {},
     "output_type": "execute_result"
    }
   ],
   "source": [
    "x - y"
   ]
  },
  {
   "cell_type": "markdown",
   "metadata": {},
   "source": [
    "# NumPy: Fancy Indexing"
   ]
  },
  {
   "cell_type": "code",
   "execution_count": 8,
   "metadata": {},
   "outputs": [
    {
     "data": {
      "text/plain": [
       "array([10, 20, 30, 40, 50, 60])"
      ]
     },
     "execution_count": 8,
     "metadata": {},
     "output_type": "execute_result"
    }
   ],
   "source": [
    "simple_array = np.array([10,20,30,40,50,60])\n",
    "simple_array"
   ]
  },
  {
   "cell_type": "code",
   "execution_count": 9,
   "metadata": {},
   "outputs": [
    {
     "data": {
      "text/plain": [
       "40"
      ]
     },
     "execution_count": 9,
     "metadata": {},
     "output_type": "execute_result"
    }
   ],
   "source": [
    "simple_array[3]"
   ]
  },
  {
   "cell_type": "code",
   "execution_count": 10,
   "metadata": {},
   "outputs": [
    {
     "data": {
      "text/plain": [
       "array([30, 20])"
      ]
     },
     "execution_count": 10,
     "metadata": {},
     "output_type": "execute_result"
    }
   ],
   "source": [
    "simple_array[[2,1]]"
   ]
  },
  {
   "cell_type": "markdown",
   "metadata": {},
   "source": [
    "## Application: np.argsort()\n",
    "\n",
    "Returns the indices that would sort an array. [More Info](https://docs.scipy.org/doc/numpy/reference/generated/numpy.argsort.html)\n",
    "\n"
   ]
  },
  {
   "cell_type": "code",
   "execution_count": 11,
   "metadata": {},
   "outputs": [
    {
     "data": {
      "text/plain": [
       "array([1, 2, 0], dtype=int64)"
      ]
     },
     "execution_count": 11,
     "metadata": {},
     "output_type": "execute_result"
    }
   ],
   "source": [
    "x = np.array(['c', 'a', 'b'])\n",
    "np.argsort(x)"
   ]
  },
  {
   "cell_type": "code",
   "execution_count": 12,
   "metadata": {},
   "outputs": [
    {
     "data": {
      "text/plain": [
       "array(['a', 'b', 'c'], \n",
       "      dtype='<U1')"
      ]
     },
     "execution_count": 12,
     "metadata": {},
     "output_type": "execute_result"
    }
   ],
   "source": [
    "x[np.argsort(x)]"
   ]
  },
  {
   "cell_type": "markdown",
   "metadata": {},
   "source": [
    "# Detour to Dictionary"
   ]
  },
  {
   "cell_type": "code",
   "execution_count": 13,
   "metadata": {},
   "outputs": [
    {
     "name": "stdout",
     "output_type": "stream",
     "text": [
      "{}\n"
     ]
    }
   ],
   "source": [
    "my_dict = dict()\n",
    "print(my_dict)"
   ]
  },
  {
   "cell_type": "code",
   "execution_count": 14,
   "metadata": {},
   "outputs": [
    {
     "data": {
      "text/plain": [
       "{'Feb': 2, 'Jan': 1, 'Mar': 3}"
      ]
     },
     "execution_count": 14,
     "metadata": {},
     "output_type": "execute_result"
    }
   ],
   "source": [
    "my_dict['Jan'] = 1\n",
    "my_dict['Feb'] = 2\n",
    "my_dict['Mar'] = 3\n",
    "\n",
    "my_dict"
   ]
  },
  {
   "cell_type": "markdown",
   "metadata": {},
   "source": [
    "<div class=\"alert alert-block alert-warning\">\n",
    "<h5>Important Note!</h5>\n",
    "\n",
    "<p>Due to the nature of the **dictionary** data structure, we can not make any assumptions about the order in which items appear in the dictionary.</p>\n",
    "\n",
    "</div>"
   ]
  },
  {
   "cell_type": "code",
   "execution_count": 15,
   "metadata": {},
   "outputs": [
    {
     "data": {
      "text/plain": [
       "1"
      ]
     },
     "execution_count": 15,
     "metadata": {},
     "output_type": "execute_result"
    }
   ],
   "source": [
    "my_dict['Jan']"
   ]
  },
  {
   "cell_type": "code",
   "execution_count": 19,
   "metadata": {
    "collapsed": true
   },
   "outputs": [],
   "source": [
    "# You can update the dictionary through the key\n",
    "my_dict['Jan'] = my_dict['Jan'] + 4"
   ]
  },
  {
   "cell_type": "code",
   "execution_count": 20,
   "metadata": {},
   "outputs": [
    {
     "data": {
      "text/plain": [
       "{'Feb': 2, 'Jan': 5, 'Mar': 3}"
      ]
     },
     "execution_count": 20,
     "metadata": {},
     "output_type": "execute_result"
    }
   ],
   "source": [
    "my_dict"
   ]
  },
  {
   "cell_type": "code",
   "execution_count": 21,
   "metadata": {},
   "outputs": [
    {
     "ename": "KeyError",
     "evalue": "'Dec'",
     "output_type": "error",
     "traceback": [
      "\u001b[1;31m---------------------------------------------------------------------------\u001b[0m",
      "\u001b[1;31mKeyError\u001b[0m                                  Traceback (most recent call last)",
      "\u001b[1;32m<ipython-input-21-f7802983835e>\u001b[0m in \u001b[0;36m<module>\u001b[1;34m()\u001b[0m\n\u001b[0;32m      1\u001b[0m \u001b[1;31m# Accessing elements not in the dict\u001b[0m\u001b[1;33m\u001b[0m\u001b[1;33m\u001b[0m\u001b[0m\n\u001b[1;32m----> 2\u001b[1;33m \u001b[0mmy_dict\u001b[0m\u001b[1;33m[\u001b[0m\u001b[1;34m'Dec'\u001b[0m\u001b[1;33m]\u001b[0m\u001b[1;33m\u001b[0m\u001b[0m\n\u001b[0m",
      "\u001b[1;31mKeyError\u001b[0m: 'Dec'"
     ]
    }
   ],
   "source": [
    "# Accessing elements not in the dict\n",
    "my_dict['Dec']"
   ]
  },
  {
   "cell_type": "code",
   "execution_count": 22,
   "metadata": {},
   "outputs": [
    {
     "data": {
      "text/plain": [
       "False"
      ]
     },
     "execution_count": 22,
     "metadata": {},
     "output_type": "execute_result"
    }
   ],
   "source": [
    "# To check if a key is in the list\n",
    "'Dec' in my_dict"
   ]
  },
  {
   "cell_type": "code",
   "execution_count": 23,
   "metadata": {},
   "outputs": [
    {
     "data": {
      "text/plain": [
       "True"
      ]
     },
     "execution_count": 23,
     "metadata": {},
     "output_type": "execute_result"
    }
   ],
   "source": [
    "'Mar' in my_dict"
   ]
  },
  {
   "cell_type": "markdown",
   "metadata": {},
   "source": [
    "## Activity\n",
    "\n",
    "1. Accept a string as an input from the user\n",
    "2. Create a dictionary that contains the frequency of each word in the string.\n",
    "3. Print the dictionary\n",
    "\n",
    "Below is the sample interaction"
   ]
  },
  {
   "cell_type": "raw",
   "metadata": {},
   "source": [
    "Enter a sentence: My name is My name is My name is Sriram\n",
    "\n",
    "{'My': 3, 'name': 3, 'is': 3, 'Sriram': 1}"
   ]
  },
  {
   "cell_type": "code",
   "execution_count": 26,
   "metadata": {},
   "outputs": [
    {
     "name": "stdout",
     "output_type": "stream",
     "text": [
      "Enter a sentence my name is my name is my name is sean\n"
     ]
    },
    {
     "ename": "KeyError",
     "evalue": "'my'",
     "output_type": "error",
     "traceback": [
      "\u001b[1;31m---------------------------------------------------------------------------\u001b[0m",
      "\u001b[1;31mKeyError\u001b[0m                                  Traceback (most recent call last)",
      "\u001b[1;32m<ipython-input-26-e7365cb526d7>\u001b[0m in \u001b[0;36m<module>\u001b[1;34m()\u001b[0m\n\u001b[0;32m     12\u001b[0m     \u001b[1;31m###\u001b[0m\u001b[1;33m\u001b[0m\u001b[1;33m\u001b[0m\u001b[0m\n\u001b[0;32m     13\u001b[0m     \u001b[1;32mif\u001b[0m \u001b[0mword\u001b[0m \u001b[1;32min\u001b[0m \u001b[0mmy_dict\u001b[0m\u001b[1;33m:\u001b[0m\u001b[1;33m\u001b[0m\u001b[0m\n\u001b[1;32m---> 14\u001b[1;33m         \u001b[0mword_freq_dict\u001b[0m\u001b[1;33m[\u001b[0m\u001b[0mword\u001b[0m\u001b[1;33m]\u001b[0m\u001b[1;33m=\u001b[0m\u001b[0mword_freq_dict\u001b[0m\u001b[1;33m[\u001b[0m\u001b[0mword\u001b[0m\u001b[1;33m]\u001b[0m\u001b[1;33m+\u001b[0m\u001b[1;36m1\u001b[0m\u001b[1;33m\u001b[0m\u001b[0m\n\u001b[0m\u001b[0;32m     15\u001b[0m     \u001b[1;32melse\u001b[0m\u001b[1;33m:\u001b[0m\u001b[1;33m\u001b[0m\u001b[0m\n\u001b[0;32m     16\u001b[0m         \u001b[0mword_freq_dict\u001b[0m\u001b[1;33m[\u001b[0m\u001b[0mword\u001b[0m\u001b[1;33m]\u001b[0m\u001b[1;33m=\u001b[0m\u001b[1;36m1\u001b[0m\u001b[1;33m\u001b[0m\u001b[0m\n",
      "\u001b[1;31mKeyError\u001b[0m: 'my'"
     ]
    }
   ],
   "source": [
    "# Accept a setence\n",
    "sent = input(\"Enter a sentence \")\n",
    "\n",
    "# Convert the sentence to a list of words\n",
    "words_list = sent.split()\n",
    "\n",
    "# Create an empty dictionary that contains words and frequencies\n",
    "word_freq_dict = dict()\n",
    "\n",
    "# Iterate through every word in the list\n",
    "for word in words_list:\n",
    "    ###\n",
    "    if word in my_dict:\n",
    "        word_freq_dict[word]=word_freq_dict[word]+1\n",
    "    else:\n",
    "        word_freq_dict[word]=1\n",
    "    ###DID NOT FINISH THIS PROBLEM!!!!!!!!!!!!!!!!!!!!!!!!!!!!!!!!!!!!!!!!!!!!!!!!!!\n",
    "\n",
    "print(word_freq_dict)"
   ]
  },
  {
   "cell_type": "markdown",
   "metadata": {},
   "source": [
    "## You can access the keys and values seperately"
   ]
  },
  {
   "cell_type": "code",
   "execution_count": 27,
   "metadata": {},
   "outputs": [
    {
     "name": "stdout",
     "output_type": "stream",
     "text": [
      "dict_keys(['Jan', 'Feb', 'Mar', 'my', 'name', 'is', 'sean'])\n",
      "dict_values([5, 2, 3, 3, 3, 3, 1])\n"
     ]
    },
    {
     "data": {
      "text/plain": [
       "['Jan', 'Feb', 'Mar', 'my', 'name', 'is', 'sean']"
      ]
     },
     "execution_count": 27,
     "metadata": {},
     "output_type": "execute_result"
    }
   ],
   "source": [
    "print(my_dict.keys())\n",
    "print(my_dict.values())\n",
    "\n",
    "list(my_dict.keys())"
   ]
  },
  {
   "cell_type": "code",
   "execution_count": 28,
   "metadata": {},
   "outputs": [
    {
     "data": {
      "text/plain": [
       "array(['Jan', 'Feb', 'Mar', 'my', 'name', 'is', 'sean'], \n",
       "      dtype='<U4')"
      ]
     },
     "execution_count": 28,
     "metadata": {},
     "output_type": "execute_result"
    }
   ],
   "source": [
    "np.array(list(my_dict.keys()))"
   ]
  },
  {
   "cell_type": "markdown",
   "metadata": {},
   "source": [
    "# Introduction to Pandas"
   ]
  },
  {
   "cell_type": "markdown",
   "metadata": {},
   "source": [
    "<div class=\"alert alert-block alert-info\">\n",
    "<p> Source: Example datasets and discussion in this Jupyter Notebook was partly sourced from `Mike Dunn`, University of Notre Dame.  </p>\n",
    "</div>"
   ]
  },
  {
   "cell_type": "code",
   "execution_count": 29,
   "metadata": {},
   "outputs": [
    {
     "data": {
      "text/plain": [
       "'0.20.1'"
      ]
     },
     "execution_count": 29,
     "metadata": {},
     "output_type": "execute_result"
    }
   ],
   "source": [
    "import pandas as pd\n",
    "pd.__version__"
   ]
  },
  {
   "cell_type": "markdown",
   "metadata": {},
   "source": [
    "## `DataFrame` & `Series` Basics"
   ]
  },
  {
   "cell_type": "markdown",
   "metadata": {},
   "source": [
    "### Basics on data loading"
   ]
  },
  {
   "cell_type": "markdown",
   "metadata": {},
   "source": [
    "<div class=\"alert alert-block alert-info\">\n",
    "<h5>Know your current working directory</h5>\n",
    "\n",
    "<p>`import os`</p>\n",
    "<p>`os.getcwd()`</p>\n",
    "\n",
    "</div>"
   ]
  },
  {
   "cell_type": "code",
   "execution_count": 30,
   "metadata": {},
   "outputs": [
    {
     "name": "stdout",
     "output_type": "stream",
     "text": [
      "C:\\Users\\smcmaho3\n"
     ]
    }
   ],
   "source": [
    "import os\n",
    "print(os.getcwd())"
   ]
  },
  {
   "cell_type": "markdown",
   "metadata": {},
   "source": [
    "<div class=\"alert alert-block alert-danger\">\n",
    "<h5>Make sure the data is in the right place. </h5>\n",
    "<p> </p>\n",
    "<li> Open the above folder location, that was printed as an output of `os.getcwd()` command, using Windows (or Finder on Mac) file system</li>\n",
    "<li> Make sure there is a folder named 'data' in the location you opened. If not create a folder</li>\n",
    "<li> Copy the dowloaded data into the newly created 'data' folder </li>\n",
    "\n",
    "</div>"
   ]
  },
  {
   "cell_type": "code",
   "execution_count": 32,
   "metadata": {},
   "outputs": [
    {
     "name": "stdout",
     "output_type": "stream",
     "text": [
      "['nd-football-2017-roster.csv']\n"
     ]
    }
   ],
   "source": [
    "print(os.listdir('./data/'))"
   ]
  },
  {
   "cell_type": "markdown",
   "metadata": {},
   "source": [
    "When you specify './data/' in the above and below Python command, '.' means the current directory. \n",
    "\n",
    "In the following statement, the interpretation is that in the current directory as this Jupyter file, open the 'data' folder and look for 'nd-football-2017-roster.csv' file. "
   ]
  },
  {
   "cell_type": "code",
   "execution_count": 33,
   "metadata": {},
   "outputs": [
    {
     "data": {
      "text/plain": [
       "pandas.core.frame.DataFrame"
      ]
     },
     "execution_count": 33,
     "metadata": {},
     "output_type": "execute_result"
    }
   ],
   "source": [
    "athletes_data = pd.read_csv('./data/nd-football-2017-roster.csv')\n",
    "type(athletes_data)"
   ]
  },
  {
   "cell_type": "markdown",
   "metadata": {},
   "source": [
    "<div class=\"alert alert-block alert-info\">\n",
    "The `type` function return the type of the object passed to it. Very handy.\n",
    "</div> "
   ]
  },
  {
   "cell_type": "markdown",
   "metadata": {},
   "source": [
    "### `DataFrames` are made up of an `index` and one or more `Series`\n",
    "Inside of every frame is an **`index`** and one or more **`Series`** objects.\n",
    "Let's demonstrate this by looking at the first few elements of our `athletes_data` object."
   ]
  },
  {
   "cell_type": "code",
   "execution_count": 34,
   "metadata": {},
   "outputs": [
    {
     "data": {
      "text/html": [
       "<div>\n",
       "<style>\n",
       "    .dataframe thead tr:only-child th {\n",
       "        text-align: right;\n",
       "    }\n",
       "\n",
       "    .dataframe thead th {\n",
       "        text-align: left;\n",
       "    }\n",
       "\n",
       "    .dataframe tbody tr th {\n",
       "        vertical-align: top;\n",
       "    }\n",
       "</style>\n",
       "<table border=\"1\" class=\"dataframe\">\n",
       "  <thead>\n",
       "    <tr style=\"text-align: right;\">\n",
       "      <th></th>\n",
       "      <th>Number</th>\n",
       "      <th>Name</th>\n",
       "      <th>Position</th>\n",
       "      <th>Height</th>\n",
       "      <th>Weight</th>\n",
       "      <th>Class</th>\n",
       "      <th>Hometown</th>\n",
       "    </tr>\n",
       "  </thead>\n",
       "  <tbody>\n",
       "    <tr>\n",
       "      <th>0</th>\n",
       "      <td>2</td>\n",
       "      <td>Dexter Williams</td>\n",
       "      <td>RB</td>\n",
       "      <td>71</td>\n",
       "      <td>202</td>\n",
       "      <td>JR</td>\n",
       "      <td>Winter Garden, FL</td>\n",
       "    </tr>\n",
       "    <tr>\n",
       "      <th>1</th>\n",
       "      <td>3</td>\n",
       "      <td>C.J. Sanders</td>\n",
       "      <td>WR</td>\n",
       "      <td>68</td>\n",
       "      <td>185</td>\n",
       "      <td>JR</td>\n",
       "      <td>Granada Hills, CA</td>\n",
       "    </tr>\n",
       "    <tr>\n",
       "      <th>2</th>\n",
       "      <td>4</td>\n",
       "      <td>Te'von Coney</td>\n",
       "      <td>LB</td>\n",
       "      <td>73</td>\n",
       "      <td>235</td>\n",
       "      <td>JR</td>\n",
       "      <td>Palm Beach Gardens, FL</td>\n",
       "    </tr>\n",
       "    <tr>\n",
       "      <th>3</th>\n",
       "      <td>4</td>\n",
       "      <td>Montgomery VanGorder</td>\n",
       "      <td>QB</td>\n",
       "      <td>73</td>\n",
       "      <td>217</td>\n",
       "      <td>SR</td>\n",
       "      <td>Buford, GA</td>\n",
       "    </tr>\n",
       "    <tr>\n",
       "      <th>4</th>\n",
       "      <td>5</td>\n",
       "      <td>Nyles Morgan</td>\n",
       "      <td>LB</td>\n",
       "      <td>73</td>\n",
       "      <td>238</td>\n",
       "      <td>SR</td>\n",
       "      <td>Crete, IL</td>\n",
       "    </tr>\n",
       "  </tbody>\n",
       "</table>\n",
       "</div>"
      ],
      "text/plain": [
       "   Number                  Name Position  Height  Weight Class  \\\n",
       "0       2       Dexter Williams       RB      71     202    JR   \n",
       "1       3          C.J. Sanders       WR      68     185    JR   \n",
       "2       4          Te'von Coney       LB      73     235    JR   \n",
       "3       4  Montgomery VanGorder       QB      73     217    SR   \n",
       "4       5          Nyles Morgan       LB      73     238    SR   \n",
       "\n",
       "                 Hometown  \n",
       "0       Winter Garden, FL  \n",
       "1       Granada Hills, CA  \n",
       "2  Palm Beach Gardens, FL  \n",
       "3              Buford, GA  \n",
       "4               Crete, IL  "
      ]
     },
     "execution_count": 34,
     "metadata": {},
     "output_type": "execute_result"
    }
   ],
   "source": [
    "#DataFrame athletes_data.head() provides the first few rows of the dataset\n",
    "\n",
    "athletes_data.head()"
   ]
  },
  {
   "cell_type": "markdown",
   "metadata": {},
   "source": [
    "The bold numbers running down the left hand side are the **`index`** of the **`DataFrame`**.  The bold strings running across the top are the names of the nested **`DataSeries`** objects."
   ]
  },
  {
   "cell_type": "code",
   "execution_count": 36,
   "metadata": {},
   "outputs": [
    {
     "name": "stdout",
     "output_type": "stream",
     "text": [
      "0           Dexter Williams\n",
      "1              C.J. Sanders\n",
      "2              Te'von Coney\n",
      "3      Montgomery VanGorder\n",
      "4              Nyles Morgan\n",
      "5     Equanimeous St. Brown\n",
      "6              Nick Watkins\n",
      "7           Brandon Wimbush\n",
      "8              Daelin Hayes\n",
      "9               Chris Finke\n",
      "10                 Ian Book\n",
      "11             Tyler Luatua\n",
      "12          Devin Studstill\n",
      "13              C.J. Holmes\n",
      "14              Nolan Henry\n",
      "15         Isaiah Robertson\n",
      "16           Troy Pride Jr.\n",
      "17              Justin Yoon\n",
      "18           Shaun Crawford\n",
      "19            Jalen Elliott\n",
      "20              Asmar Bilal\n",
      "21           Drue Tranquill\n",
      "22               Mick Assaf\n",
      "23             Nick Coleman\n",
      "24           Brandon Garcia\n",
      "25           Austin Webster\n",
      "26             Ashton White\n",
      "27              Julian Love\n",
      "28           Nicco Fertitta\n",
      "29               Sam Kohler\n",
      "              ...          \n",
      "60            Elijah Taylor\n",
      "61             Logan Plantz\n",
      "62                 Sam Bush\n",
      "63            Ryan Kilander\n",
      "64              Jimmy Byrne\n",
      "65          Mike McGlinchey\n",
      "66              Aaron Banks\n",
      "67             Hunter Bivin\n",
      "68                Alex Bars\n",
      "69           Robert Hainsey\n",
      "70          Liam Eichenberg\n",
      "71              Daniel Cage\n",
      "72          Brandon Tiassum\n",
      "73            Tommy Kraemer\n",
      "74            Durham Smythe\n",
      "75             Miles Boykin\n",
      "76              Nic Weishar\n",
      "77           Chase Claypool\n",
      "78            Tyler Newsome\n",
      "79           Arion Shinaver\n",
      "80               Alize Mack\n",
      "81         Keenan Centlivre\n",
      "82           Javon McKinley\n",
      "83             Brock Wright\n",
      "84      Adetokunbo Ogundeji\n",
      "85                Jay Hayes\n",
      "86             Pete Mokwuah\n",
      "87       Micah Dew-Treadway\n",
      "88         Andrew Trumbetti\n",
      "89            Jerry Tillery\n",
      "Name: Name, Length: 90, dtype: object\n"
     ]
    }
   ],
   "source": [
    "name_series = athletes_data['Name']\n",
    "print(name_series)"
   ]
  },
  {
   "cell_type": "markdown",
   "metadata": {},
   "source": [
    "<div class=\"alert alert-block alert-info\">\n",
    "<h5>Dictionary Like-Retrieval</h5>\n",
    "<p>Did you see how I passed to the name of the **`DataSeries`** object that I wanted to the `athletes_data` frame? It was the same sort of syntax you'd use to retrieve a data element from a **`dict`**.</p>\n",
    "<p>\n",
    "As we continue to move along, we'll discover that **`DataFrame`** and **`dict`** types share many traits.\n",
    "</p>\n",
    "</div> "
   ]
  },
  {
   "cell_type": "markdown",
   "metadata": {},
   "source": [
    "### Every `Series` is made up of an index and a NumPy array\n",
    "Now that we know every **`DataFrame`** is filled with **`Series`** objects, let's inspect `name_series` dig deeper into the data structures."
   ]
  },
  {
   "cell_type": "code",
   "execution_count": 37,
   "metadata": {},
   "outputs": [
    {
     "data": {
      "text/plain": [
       "0          Dexter Williams\n",
       "1             C.J. Sanders\n",
       "2             Te'von Coney\n",
       "3     Montgomery VanGorder\n",
       "4             Nyles Morgan\n",
       "5    Equanimeous St. Brown\n",
       "6             Nick Watkins\n",
       "7          Brandon Wimbush\n",
       "8             Daelin Hayes\n",
       "9              Chris Finke\n",
       "Name: Name, dtype: object"
      ]
     },
     "execution_count": 37,
     "metadata": {},
     "output_type": "execute_result"
    }
   ],
   "source": [
    "# Let's ask for the string representation of the object.\n",
    "# You can ignore the slice notation at the end,\n",
    "# I just don't want to display all the names.\n",
    "name_series[0:10]"
   ]
  },
  {
   "cell_type": "markdown",
   "metadata": {},
   "source": [
    "So, as you can see, we've got two columns here.  \n",
    "* The first column is the **`index`**.\n",
    "* The second column, which holds the values of the series is nothing more than our good friend, the NumPy array.\n",
    "\n",
    "You can retrieve the index and NumPy array separately from a series as follows:"
   ]
  },
  {
   "cell_type": "code",
   "execution_count": 38,
   "metadata": {},
   "outputs": [
    {
     "data": {
      "text/plain": [
       "RangeIndex(start=0, stop=90, step=1)"
      ]
     },
     "execution_count": 38,
     "metadata": {},
     "output_type": "execute_result"
    }
   ],
   "source": [
    "# Get the Series index\n",
    "name_series.index"
   ]
  },
  {
   "cell_type": "code",
   "execution_count": 39,
   "metadata": {},
   "outputs": [
    {
     "data": {
      "text/plain": [
       "array(['Dexter Williams', 'C.J. Sanders', \"Te'von Coney\",\n",
       "       'Montgomery VanGorder', 'Nyles Morgan', 'Equanimeous St. Brown',\n",
       "       'Nick Watkins', 'Brandon Wimbush', 'Daelin Hayes', 'Chris Finke',\n",
       "       'Ian Book', 'Tyler Luatua', 'Devin Studstill', 'C.J. Holmes',\n",
       "       'Nolan Henry', 'Isaiah Robertson', 'Troy Pride Jr.', 'Justin Yoon',\n",
       "       'Shaun Crawford', 'Jalen Elliott', 'Asmar Bilal', 'Drue Tranquill',\n",
       "       'Mick Assaf', 'Nick Coleman', 'Brandon Garcia', 'Austin Webster',\n",
       "       'Ashton White', 'Julian Love', 'Nicco Fertitta', 'Sam Kohler',\n",
       "       'Kevin Stepherson', 'D.J. Morgan', 'Josh Adams', 'Tony Jones Jr.',\n",
       "       'Grant Hammann', 'Donte Vaughn', 'Robert Regan', 'Deon McIntosh',\n",
       "       'Christopher Schilling', 'Kier Murphy', 'Brett Segobiano',\n",
       "       'Temitope Agoro', 'Jimmy Thompson', 'Julian Okwara', 'Jeff Riney',\n",
       "       'Brian Ball', 'Jamir Jones', 'Jonathan Jones', 'Matt Bushland',\n",
       "       'Chris Bury', 'Greer Martini', 'Brandon Hutson', 'Devyn Spruell',\n",
       "       'Khalid Kareem', 'Sam Mustipher', 'Lincoln Feist', 'John Shannon',\n",
       "       'Jonathan Bonner', 'Quenton Nelson', 'Trevor Ruhland',\n",
       "       'Elijah Taylor', 'Logan Plantz', 'Sam Bush', 'Ryan Kilander',\n",
       "       'Jimmy Byrne', 'Mike McGlinchey', 'Aaron Banks', 'Hunter Bivin',\n",
       "       'Alex Bars', 'Robert Hainsey', 'Liam Eichenberg', 'Daniel Cage',\n",
       "       'Brandon Tiassum', 'Tommy Kraemer', 'Durham Smythe', 'Miles Boykin',\n",
       "       'Nic Weishar', 'Chase Claypool', 'Tyler Newsome', 'Arion Shinaver',\n",
       "       'Alize Mack', 'Keenan Centlivre', 'Javon McKinley', 'Brock Wright',\n",
       "       'Adetokunbo Ogundeji', 'Jay Hayes', 'Pete Mokwuah',\n",
       "       'Micah Dew-Treadway', 'Andrew Trumbetti', 'Jerry Tillery'], dtype=object)"
      ]
     },
     "execution_count": 39,
     "metadata": {},
     "output_type": "execute_result"
    }
   ],
   "source": [
    "name_series.values"
   ]
  },
  {
   "cell_type": "markdown",
   "metadata": {},
   "source": [
    "## Going a Bit Deeper\n",
    "The essential difference between an NumPy **`ndarray`** and a Pandas **`Series`** object is their indexes.\n",
    "\n",
    "**NumPy arrays have indexes as well, but they are implicit and always integers**. You can't access an array's **`index`** property directly like you can on a Pandas series object as we did above.\n",
    "\n",
    "Furthermore, series objects are not limited to having integer based indexes. You could have indexes of strings, floats, booleans, dates, etc. "
   ]
  },
  {
   "cell_type": "code",
   "execution_count": 40,
   "metadata": {},
   "outputs": [
    {
     "data": {
      "text/plain": [
       "Index(['C', 'Julia', 'Python', 'R'], dtype='object')"
      ]
     },
     "execution_count": 40,
     "metadata": {},
     "output_type": "execute_result"
    }
   ],
   "source": [
    "# Create a `DataSeries` object from a dictionary\n",
    "# This results in a string based index.\n",
    "\n",
    "sample_dict = {'R':'Not as cool. :(',\n",
    "                'Python': 'Best Language Ever!',\n",
    "                'C': 'Fundamental language',\n",
    "                'Julia': 'A New language for Data Science'}\n",
    "\n",
    "simple_series = pd.Series(sample_dict)\n",
    "simple_series.index"
   ]
  },
  {
   "cell_type": "markdown",
   "metadata": {},
   "source": [
    "<div class=\"alert alert-block alert-warning\">\n",
    "<p>Notice that even though `R` was listed as the first key of my `dict` object, it was put in as fourth element in the index?\n",
    "</p>\n",
    "<p>\n",
    "When a series is first created, it will sort the values of the index. Hence `C` came first then `Julia`, `Python`,  and then `R`. This has implications that need to kept track of. \n",
    "</p>\n",
    "</div> "
   ]
  },
  {
   "cell_type": "code",
   "execution_count": 41,
   "metadata": {},
   "outputs": [
    {
     "data": {
      "text/plain": [
       "C                    Fundamental language\n",
       "Julia     A New language for Data Science\n",
       "Python                Best Language Ever!\n",
       "R                         Not as cool. :(\n",
       "dtype: object"
      ]
     },
     "execution_count": 41,
     "metadata": {},
     "output_type": "execute_result"
    }
   ],
   "source": [
    "simple_series"
   ]
  },
  {
   "cell_type": "code",
   "execution_count": 42,
   "metadata": {},
   "outputs": [
    {
     "data": {
      "text/plain": [
       "'Best Language Ever!'"
      ]
     },
     "execution_count": 42,
     "metadata": {},
     "output_type": "execute_result"
    }
   ],
   "source": [
    "simple_series['Python']"
   ]
  },
  {
   "cell_type": "code",
   "execution_count": 43,
   "metadata": {},
   "outputs": [
    {
     "data": {
      "text/plain": [
       "C                    Fundamental language\n",
       "Julia     A New language for Data Science\n",
       "Python                Best Language Ever!\n",
       "dtype: object"
      ]
     },
     "execution_count": 43,
     "metadata": {},
     "output_type": "execute_result"
    }
   ],
   "source": [
    "simple_series['C':'Python']"
   ]
  },
  {
   "cell_type": "markdown",
   "metadata": {},
   "source": [
    "The same holds true for the index of a **`DataFrame`** object. When we loaded our `college_scorecard` frame from the CSV file, it generated an integer based index, which is the default behavior.\n",
    "\n",
    "But we could change that.  For instance, we could make the institution names the index values:"
   ]
  },
  {
   "cell_type": "code",
   "execution_count": 44,
   "metadata": {},
   "outputs": [
    {
     "data": {
      "text/html": [
       "<div>\n",
       "<style>\n",
       "    .dataframe thead tr:only-child th {\n",
       "        text-align: right;\n",
       "    }\n",
       "\n",
       "    .dataframe thead th {\n",
       "        text-align: left;\n",
       "    }\n",
       "\n",
       "    .dataframe tbody tr th {\n",
       "        vertical-align: top;\n",
       "    }\n",
       "</style>\n",
       "<table border=\"1\" class=\"dataframe\">\n",
       "  <thead>\n",
       "    <tr style=\"text-align: right;\">\n",
       "      <th></th>\n",
       "      <th>Number</th>\n",
       "      <th>Name</th>\n",
       "      <th>Position</th>\n",
       "      <th>Height</th>\n",
       "      <th>Weight</th>\n",
       "      <th>Class</th>\n",
       "      <th>Hometown</th>\n",
       "    </tr>\n",
       "    <tr>\n",
       "      <th>Name</th>\n",
       "      <th></th>\n",
       "      <th></th>\n",
       "      <th></th>\n",
       "      <th></th>\n",
       "      <th></th>\n",
       "      <th></th>\n",
       "      <th></th>\n",
       "    </tr>\n",
       "  </thead>\n",
       "  <tbody>\n",
       "    <tr>\n",
       "      <th>Dexter Williams</th>\n",
       "      <td>2</td>\n",
       "      <td>Dexter Williams</td>\n",
       "      <td>RB</td>\n",
       "      <td>71</td>\n",
       "      <td>202</td>\n",
       "      <td>JR</td>\n",
       "      <td>Winter Garden, FL</td>\n",
       "    </tr>\n",
       "    <tr>\n",
       "      <th>C.J. Sanders</th>\n",
       "      <td>3</td>\n",
       "      <td>C.J. Sanders</td>\n",
       "      <td>WR</td>\n",
       "      <td>68</td>\n",
       "      <td>185</td>\n",
       "      <td>JR</td>\n",
       "      <td>Granada Hills, CA</td>\n",
       "    </tr>\n",
       "    <tr>\n",
       "      <th>Te'von Coney</th>\n",
       "      <td>4</td>\n",
       "      <td>Te'von Coney</td>\n",
       "      <td>LB</td>\n",
       "      <td>73</td>\n",
       "      <td>235</td>\n",
       "      <td>JR</td>\n",
       "      <td>Palm Beach Gardens, FL</td>\n",
       "    </tr>\n",
       "    <tr>\n",
       "      <th>Montgomery VanGorder</th>\n",
       "      <td>4</td>\n",
       "      <td>Montgomery VanGorder</td>\n",
       "      <td>QB</td>\n",
       "      <td>73</td>\n",
       "      <td>217</td>\n",
       "      <td>SR</td>\n",
       "      <td>Buford, GA</td>\n",
       "    </tr>\n",
       "    <tr>\n",
       "      <th>Nyles Morgan</th>\n",
       "      <td>5</td>\n",
       "      <td>Nyles Morgan</td>\n",
       "      <td>LB</td>\n",
       "      <td>73</td>\n",
       "      <td>238</td>\n",
       "      <td>SR</td>\n",
       "      <td>Crete, IL</td>\n",
       "    </tr>\n",
       "  </tbody>\n",
       "</table>\n",
       "</div>"
      ],
      "text/plain": [
       "                      Number                  Name Position  Height  Weight  \\\n",
       "Name                                                                          \n",
       "Dexter Williams            2       Dexter Williams       RB      71     202   \n",
       "C.J. Sanders               3          C.J. Sanders       WR      68     185   \n",
       "Te'von Coney               4          Te'von Coney       LB      73     235   \n",
       "Montgomery VanGorder       4  Montgomery VanGorder       QB      73     217   \n",
       "Nyles Morgan               5          Nyles Morgan       LB      73     238   \n",
       "\n",
       "                     Class                Hometown  \n",
       "Name                                                \n",
       "Dexter Williams         JR       Winter Garden, FL  \n",
       "C.J. Sanders            JR       Granada Hills, CA  \n",
       "Te'von Coney            JR  Palm Beach Gardens, FL  \n",
       "Montgomery VanGorder    SR              Buford, GA  \n",
       "Nyles Morgan            SR               Crete, IL  "
      ]
     },
     "execution_count": 44,
     "metadata": {},
     "output_type": "execute_result"
    }
   ],
   "source": [
    "athletes_data.index = athletes_data['Name']\n",
    "\n",
    "athletes_data.head()"
   ]
  },
  {
   "cell_type": "markdown",
   "metadata": {},
   "source": [
    "# Data Indexing and Selection"
   ]
  },
  {
   "cell_type": "markdown",
   "metadata": {},
   "source": [
    "You'll find that many of the same techniques that we used with NumPy arrays will also be available for these objects. In addition, they add some additional functionality that will be very familiar to anyone who has experience with Python dictionaries."
   ]
  },
  {
   "cell_type": "code",
   "execution_count": 45,
   "metadata": {},
   "outputs": [
    {
     "ename": "UnicodeDecodeError",
     "evalue": "'utf-8' codec can't decode byte 0xcd in position 8: invalid continuation byte",
     "output_type": "error",
     "traceback": [
      "\u001b[1;31m---------------------------------------------------------------------------\u001b[0m",
      "\u001b[1;31mUnicodeDecodeError\u001b[0m                        Traceback (most recent call last)",
      "\u001b[1;32mpandas\\_libs\\parsers.pyx\u001b[0m in \u001b[0;36mpandas._libs.parsers.TextReader._convert_tokens (pandas\\_libs\\parsers.c:14858)\u001b[1;34m()\u001b[0m\n",
      "\u001b[1;32mpandas\\_libs\\parsers.pyx\u001b[0m in \u001b[0;36mpandas._libs.parsers.TextReader._convert_with_dtype (pandas\\_libs\\parsers.c:17119)\u001b[1;34m()\u001b[0m\n",
      "\u001b[1;32mpandas\\_libs\\parsers.pyx\u001b[0m in \u001b[0;36mpandas._libs.parsers.TextReader._string_convert (pandas\\_libs\\parsers.c:17347)\u001b[1;34m()\u001b[0m\n",
      "\u001b[1;32mpandas\\_libs\\parsers.pyx\u001b[0m in \u001b[0;36mpandas._libs.parsers._string_box_utf8 (pandas\\_libs\\parsers.c:23041)\u001b[1;34m()\u001b[0m\n",
      "\u001b[1;31mUnicodeDecodeError\u001b[0m: 'utf-8' codec can't decode byte 0xcd in position 8: invalid continuation byte",
      "\nDuring handling of the above exception, another exception occurred:\n",
      "\u001b[1;31mUnicodeDecodeError\u001b[0m                        Traceback (most recent call last)",
      "\u001b[1;32m<ipython-input-45-53d49c38058b>\u001b[0m in \u001b[0;36m<module>\u001b[1;34m()\u001b[0m\n\u001b[0;32m      1\u001b[0m college_scorecard = pd.read_csv(\n\u001b[1;32m----> 2\u001b[1;33m     './data/college-scorecard-data-scrubbed.csv')\n\u001b[0m\u001b[0;32m      3\u001b[0m \u001b[0mcollege_scorecard\u001b[0m\u001b[1;33m.\u001b[0m\u001b[0mhead\u001b[0m\u001b[1;33m(\u001b[0m\u001b[1;33m)\u001b[0m\u001b[1;33m\u001b[0m\u001b[0m\n",
      "\u001b[1;32mC:\\ProgramData\\Anaconda3\\lib\\site-packages\\pandas\\io\\parsers.py\u001b[0m in \u001b[0;36mparser_f\u001b[1;34m(filepath_or_buffer, sep, delimiter, header, names, index_col, usecols, squeeze, prefix, mangle_dupe_cols, dtype, engine, converters, true_values, false_values, skipinitialspace, skiprows, nrows, na_values, keep_default_na, na_filter, verbose, skip_blank_lines, parse_dates, infer_datetime_format, keep_date_col, date_parser, dayfirst, iterator, chunksize, compression, thousands, decimal, lineterminator, quotechar, quoting, escapechar, comment, encoding, dialect, tupleize_cols, error_bad_lines, warn_bad_lines, skipfooter, skip_footer, doublequote, delim_whitespace, as_recarray, compact_ints, use_unsigned, low_memory, buffer_lines, memory_map, float_precision)\u001b[0m\n\u001b[0;32m    653\u001b[0m                     skip_blank_lines=skip_blank_lines)\n\u001b[0;32m    654\u001b[0m \u001b[1;33m\u001b[0m\u001b[0m\n\u001b[1;32m--> 655\u001b[1;33m         \u001b[1;32mreturn\u001b[0m \u001b[0m_read\u001b[0m\u001b[1;33m(\u001b[0m\u001b[0mfilepath_or_buffer\u001b[0m\u001b[1;33m,\u001b[0m \u001b[0mkwds\u001b[0m\u001b[1;33m)\u001b[0m\u001b[1;33m\u001b[0m\u001b[0m\n\u001b[0m\u001b[0;32m    656\u001b[0m \u001b[1;33m\u001b[0m\u001b[0m\n\u001b[0;32m    657\u001b[0m     \u001b[0mparser_f\u001b[0m\u001b[1;33m.\u001b[0m\u001b[0m__name__\u001b[0m \u001b[1;33m=\u001b[0m \u001b[0mname\u001b[0m\u001b[1;33m\u001b[0m\u001b[0m\n",
      "\u001b[1;32mC:\\ProgramData\\Anaconda3\\lib\\site-packages\\pandas\\io\\parsers.py\u001b[0m in \u001b[0;36m_read\u001b[1;34m(filepath_or_buffer, kwds)\u001b[0m\n\u001b[0;32m    409\u001b[0m \u001b[1;33m\u001b[0m\u001b[0m\n\u001b[0;32m    410\u001b[0m     \u001b[1;32mtry\u001b[0m\u001b[1;33m:\u001b[0m\u001b[1;33m\u001b[0m\u001b[0m\n\u001b[1;32m--> 411\u001b[1;33m         \u001b[0mdata\u001b[0m \u001b[1;33m=\u001b[0m \u001b[0mparser\u001b[0m\u001b[1;33m.\u001b[0m\u001b[0mread\u001b[0m\u001b[1;33m(\u001b[0m\u001b[0mnrows\u001b[0m\u001b[1;33m)\u001b[0m\u001b[1;33m\u001b[0m\u001b[0m\n\u001b[0m\u001b[0;32m    412\u001b[0m     \u001b[1;32mfinally\u001b[0m\u001b[1;33m:\u001b[0m\u001b[1;33m\u001b[0m\u001b[0m\n\u001b[0;32m    413\u001b[0m         \u001b[0mparser\u001b[0m\u001b[1;33m.\u001b[0m\u001b[0mclose\u001b[0m\u001b[1;33m(\u001b[0m\u001b[1;33m)\u001b[0m\u001b[1;33m\u001b[0m\u001b[0m\n",
      "\u001b[1;32mC:\\ProgramData\\Anaconda3\\lib\\site-packages\\pandas\\io\\parsers.py\u001b[0m in \u001b[0;36mread\u001b[1;34m(self, nrows)\u001b[0m\n\u001b[0;32m    980\u001b[0m                 \u001b[1;32mraise\u001b[0m \u001b[0mValueError\u001b[0m\u001b[1;33m(\u001b[0m\u001b[1;34m'skipfooter not supported for iteration'\u001b[0m\u001b[1;33m)\u001b[0m\u001b[1;33m\u001b[0m\u001b[0m\n\u001b[0;32m    981\u001b[0m \u001b[1;33m\u001b[0m\u001b[0m\n\u001b[1;32m--> 982\u001b[1;33m         \u001b[0mret\u001b[0m \u001b[1;33m=\u001b[0m \u001b[0mself\u001b[0m\u001b[1;33m.\u001b[0m\u001b[0m_engine\u001b[0m\u001b[1;33m.\u001b[0m\u001b[0mread\u001b[0m\u001b[1;33m(\u001b[0m\u001b[0mnrows\u001b[0m\u001b[1;33m)\u001b[0m\u001b[1;33m\u001b[0m\u001b[0m\n\u001b[0m\u001b[0;32m    983\u001b[0m \u001b[1;33m\u001b[0m\u001b[0m\n\u001b[0;32m    984\u001b[0m         \u001b[1;32mif\u001b[0m \u001b[0mself\u001b[0m\u001b[1;33m.\u001b[0m\u001b[0moptions\u001b[0m\u001b[1;33m.\u001b[0m\u001b[0mget\u001b[0m\u001b[1;33m(\u001b[0m\u001b[1;34m'as_recarray'\u001b[0m\u001b[1;33m)\u001b[0m\u001b[1;33m:\u001b[0m\u001b[1;33m\u001b[0m\u001b[0m\n",
      "\u001b[1;32mC:\\ProgramData\\Anaconda3\\lib\\site-packages\\pandas\\io\\parsers.py\u001b[0m in \u001b[0;36mread\u001b[1;34m(self, nrows)\u001b[0m\n\u001b[0;32m   1717\u001b[0m     \u001b[1;32mdef\u001b[0m \u001b[0mread\u001b[0m\u001b[1;33m(\u001b[0m\u001b[0mself\u001b[0m\u001b[1;33m,\u001b[0m \u001b[0mnrows\u001b[0m\u001b[1;33m=\u001b[0m\u001b[1;32mNone\u001b[0m\u001b[1;33m)\u001b[0m\u001b[1;33m:\u001b[0m\u001b[1;33m\u001b[0m\u001b[0m\n\u001b[0;32m   1718\u001b[0m         \u001b[1;32mtry\u001b[0m\u001b[1;33m:\u001b[0m\u001b[1;33m\u001b[0m\u001b[0m\n\u001b[1;32m-> 1719\u001b[1;33m             \u001b[0mdata\u001b[0m \u001b[1;33m=\u001b[0m \u001b[0mself\u001b[0m\u001b[1;33m.\u001b[0m\u001b[0m_reader\u001b[0m\u001b[1;33m.\u001b[0m\u001b[0mread\u001b[0m\u001b[1;33m(\u001b[0m\u001b[0mnrows\u001b[0m\u001b[1;33m)\u001b[0m\u001b[1;33m\u001b[0m\u001b[0m\n\u001b[0m\u001b[0;32m   1720\u001b[0m         \u001b[1;32mexcept\u001b[0m \u001b[0mStopIteration\u001b[0m\u001b[1;33m:\u001b[0m\u001b[1;33m\u001b[0m\u001b[0m\n\u001b[0;32m   1721\u001b[0m             \u001b[1;32mif\u001b[0m \u001b[0mself\u001b[0m\u001b[1;33m.\u001b[0m\u001b[0m_first_chunk\u001b[0m\u001b[1;33m:\u001b[0m\u001b[1;33m\u001b[0m\u001b[0m\n",
      "\u001b[1;32mpandas\\_libs\\parsers.pyx\u001b[0m in \u001b[0;36mpandas._libs.parsers.TextReader.read (pandas\\_libs\\parsers.c:10862)\u001b[1;34m()\u001b[0m\n",
      "\u001b[1;32mpandas\\_libs\\parsers.pyx\u001b[0m in \u001b[0;36mpandas._libs.parsers.TextReader._read_low_memory (pandas\\_libs\\parsers.c:11138)\u001b[1;34m()\u001b[0m\n",
      "\u001b[1;32mpandas\\_libs\\parsers.pyx\u001b[0m in \u001b[0;36mpandas._libs.parsers.TextReader._read_rows (pandas\\_libs\\parsers.c:12175)\u001b[1;34m()\u001b[0m\n",
      "\u001b[1;32mpandas\\_libs\\parsers.pyx\u001b[0m in \u001b[0;36mpandas._libs.parsers.TextReader._convert_column_data (pandas\\_libs\\parsers.c:14136)\u001b[1;34m()\u001b[0m\n",
      "\u001b[1;32mpandas\\_libs\\parsers.pyx\u001b[0m in \u001b[0;36mpandas._libs.parsers.TextReader._convert_tokens (pandas\\_libs\\parsers.c:14972)\u001b[1;34m()\u001b[0m\n",
      "\u001b[1;32mpandas\\_libs\\parsers.pyx\u001b[0m in \u001b[0;36mpandas._libs.parsers.TextReader._convert_with_dtype (pandas\\_libs\\parsers.c:17119)\u001b[1;34m()\u001b[0m\n",
      "\u001b[1;32mpandas\\_libs\\parsers.pyx\u001b[0m in \u001b[0;36mpandas._libs.parsers.TextReader._string_convert (pandas\\_libs\\parsers.c:17347)\u001b[1;34m()\u001b[0m\n",
      "\u001b[1;32mpandas\\_libs\\parsers.pyx\u001b[0m in \u001b[0;36mpandas._libs.parsers._string_box_utf8 (pandas\\_libs\\parsers.c:23041)\u001b[1;34m()\u001b[0m\n",
      "\u001b[1;31mUnicodeDecodeError\u001b[0m: 'utf-8' codec can't decode byte 0xcd in position 8: invalid continuation byte"
     ]
    }
   ],
   "source": [
    "college_scorecard = pd.read_csv(\n",
    "    './data/college-scorecard-data-scrubbed.csv')\n",
    "college_scorecard.head()"
   ]
  },
  {
   "cell_type": "markdown",
   "metadata": {},
   "source": [
    "### Encoding"
   ]
  },
  {
   "cell_type": "markdown",
   "metadata": {},
   "source": [
    "Text files are encoded in different formats when they are written. To read them, you must decode them with the same standard or you'll have a problem.\n",
    "\n",
    "For example, our `college-scorecard-data-scrubbed.csv` file was encoded using `latin-1`, but the default setting for Pandas in Python 3 is `utf-8` so we will get an error if we try to read the file without specify the correct encoding like so:"
   ]
  },
  {
   "cell_type": "code",
   "execution_count": 46,
   "metadata": {},
   "outputs": [
    {
     "data": {
      "text/html": [
       "<div>\n",
       "<style>\n",
       "    .dataframe thead tr:only-child th {\n",
       "        text-align: right;\n",
       "    }\n",
       "\n",
       "    .dataframe thead th {\n",
       "        text-align: left;\n",
       "    }\n",
       "\n",
       "    .dataframe tbody tr th {\n",
       "        vertical-align: top;\n",
       "    }\n",
       "</style>\n",
       "<table border=\"1\" class=\"dataframe\">\n",
       "  <thead>\n",
       "    <tr style=\"text-align: right;\">\n",
       "      <th></th>\n",
       "      <th>UNITID</th>\n",
       "      <th>OPEID</th>\n",
       "      <th>OPEID6</th>\n",
       "      <th>institution_name</th>\n",
       "      <th>city</th>\n",
       "      <th>state</th>\n",
       "      <th>url</th>\n",
       "      <th>predominant_degree_code</th>\n",
       "      <th>predominant_degree_desc</th>\n",
       "      <th>institutional_owner_code</th>\n",
       "      <th>...</th>\n",
       "      <th>pell_grant_receipents</th>\n",
       "      <th>full_time_retention_rate_4_year</th>\n",
       "      <th>full_time_retention_rate_less_than_4_year</th>\n",
       "      <th>part_time_rentention_rate_4_year</th>\n",
       "      <th>part_time_rentention_rate_less_than_4_year</th>\n",
       "      <th>students_with_federal_loans</th>\n",
       "      <th>median_student_earnings</th>\n",
       "      <th>median_student_debt</th>\n",
       "      <th>less_than_4_year_school_completion_rate</th>\n",
       "      <th>4_year_school_completion_rate</th>\n",
       "    </tr>\n",
       "  </thead>\n",
       "  <tbody>\n",
       "    <tr>\n",
       "      <th>0</th>\n",
       "      <td>102580</td>\n",
       "      <td>884300</td>\n",
       "      <td>8843</td>\n",
       "      <td>Alaska Bible College</td>\n",
       "      <td>Palmer</td>\n",
       "      <td>AK</td>\n",
       "      <td>www.akbible.edu/</td>\n",
       "      <td>3</td>\n",
       "      <td>Bachelors</td>\n",
       "      <td>2</td>\n",
       "      <td>...</td>\n",
       "      <td>0.3571</td>\n",
       "      <td>0.3333</td>\n",
       "      <td>NaN</td>\n",
       "      <td>NaN</td>\n",
       "      <td>NaN</td>\n",
       "      <td>0.2857</td>\n",
       "      <td>NaN</td>\n",
       "      <td>PrivacySuppressed</td>\n",
       "      <td>NaN</td>\n",
       "      <td>NaN</td>\n",
       "    </tr>\n",
       "    <tr>\n",
       "      <th>1</th>\n",
       "      <td>103501</td>\n",
       "      <td>2541000</td>\n",
       "      <td>25410</td>\n",
       "      <td>Alaska Career College</td>\n",
       "      <td>Anchorage</td>\n",
       "      <td>AK</td>\n",
       "      <td>www.alaskacareercollege.edu</td>\n",
       "      <td>1</td>\n",
       "      <td>Certificate</td>\n",
       "      <td>3</td>\n",
       "      <td>...</td>\n",
       "      <td>0.7078</td>\n",
       "      <td>NaN</td>\n",
       "      <td>0.7941</td>\n",
       "      <td>NaN</td>\n",
       "      <td>NaN</td>\n",
       "      <td>0.7860</td>\n",
       "      <td>28700</td>\n",
       "      <td>8994</td>\n",
       "      <td>0.707589494</td>\n",
       "      <td>NaN</td>\n",
       "    </tr>\n",
       "    <tr>\n",
       "      <th>2</th>\n",
       "      <td>442523</td>\n",
       "      <td>4138600</td>\n",
       "      <td>41386</td>\n",
       "      <td>Alaska Christian College</td>\n",
       "      <td>Soldotna</td>\n",
       "      <td>AK</td>\n",
       "      <td>www.alaskacc.edu</td>\n",
       "      <td>1</td>\n",
       "      <td>Certificate</td>\n",
       "      <td>2</td>\n",
       "      <td>...</td>\n",
       "      <td>0.8868</td>\n",
       "      <td>NaN</td>\n",
       "      <td>0.4737</td>\n",
       "      <td>NaN</td>\n",
       "      <td>1.0</td>\n",
       "      <td>0.6792</td>\n",
       "      <td>NaN</td>\n",
       "      <td>PrivacySuppressed</td>\n",
       "      <td>0</td>\n",
       "      <td>NaN</td>\n",
       "    </tr>\n",
       "    <tr>\n",
       "      <th>3</th>\n",
       "      <td>102669</td>\n",
       "      <td>106100</td>\n",
       "      <td>1061</td>\n",
       "      <td>Alaska Pacific University</td>\n",
       "      <td>Anchorage</td>\n",
       "      <td>AK</td>\n",
       "      <td>www.alaskapacific.edu</td>\n",
       "      <td>3</td>\n",
       "      <td>Bachelors</td>\n",
       "      <td>2</td>\n",
       "      <td>...</td>\n",
       "      <td>0.3152</td>\n",
       "      <td>0.7742</td>\n",
       "      <td>NaN</td>\n",
       "      <td>1.0</td>\n",
       "      <td>NaN</td>\n",
       "      <td>0.5297</td>\n",
       "      <td>47000</td>\n",
       "      <td>23250</td>\n",
       "      <td>NaN</td>\n",
       "      <td>0.514833663</td>\n",
       "    </tr>\n",
       "    <tr>\n",
       "      <th>4</th>\n",
       "      <td>102711</td>\n",
       "      <td>3160300</td>\n",
       "      <td>31603</td>\n",
       "      <td>AVTEC-Alaska's Institute of Technology</td>\n",
       "      <td>Seward</td>\n",
       "      <td>AK</td>\n",
       "      <td>www.avtec.edu/</td>\n",
       "      <td>1</td>\n",
       "      <td>Certificate</td>\n",
       "      <td>1</td>\n",
       "      <td>...</td>\n",
       "      <td>0.0737</td>\n",
       "      <td>NaN</td>\n",
       "      <td>1.0000</td>\n",
       "      <td>NaN</td>\n",
       "      <td>1.0</td>\n",
       "      <td>0.0664</td>\n",
       "      <td>33500</td>\n",
       "      <td>PrivacySuppressed</td>\n",
       "      <td>0.846055789</td>\n",
       "      <td>NaN</td>\n",
       "    </tr>\n",
       "  </tbody>\n",
       "</table>\n",
       "<p>5 rows × 63 columns</p>\n",
       "</div>"
      ],
      "text/plain": [
       "   UNITID    OPEID  OPEID6                        institution_name       city  \\\n",
       "0  102580   884300    8843                    Alaska Bible College     Palmer   \n",
       "1  103501  2541000   25410                   Alaska Career College  Anchorage   \n",
       "2  442523  4138600   41386                Alaska Christian College   Soldotna   \n",
       "3  102669   106100    1061               Alaska Pacific University  Anchorage   \n",
       "4  102711  3160300   31603  AVTEC-Alaska's Institute of Technology     Seward   \n",
       "\n",
       "  state                          url  predominant_degree_code  \\\n",
       "0    AK             www.akbible.edu/                        3   \n",
       "1    AK  www.alaskacareercollege.edu                        1   \n",
       "2    AK             www.alaskacc.edu                        1   \n",
       "3    AK        www.alaskapacific.edu                        3   \n",
       "4    AK               www.avtec.edu/                        1   \n",
       "\n",
       "  predominant_degree_desc  institutional_owner_code  \\\n",
       "0               Bachelors                         2   \n",
       "1             Certificate                         3   \n",
       "2             Certificate                         2   \n",
       "3               Bachelors                         2   \n",
       "4             Certificate                         1   \n",
       "\n",
       "               ...               pell_grant_receipents  \\\n",
       "0              ...                              0.3571   \n",
       "1              ...                              0.7078   \n",
       "2              ...                              0.8868   \n",
       "3              ...                              0.3152   \n",
       "4              ...                              0.0737   \n",
       "\n",
       "   full_time_retention_rate_4_year  full_time_retention_rate_less_than_4_year  \\\n",
       "0                           0.3333                                        NaN   \n",
       "1                              NaN                                     0.7941   \n",
       "2                              NaN                                     0.4737   \n",
       "3                           0.7742                                        NaN   \n",
       "4                              NaN                                     1.0000   \n",
       "\n",
       "   part_time_rentention_rate_4_year  \\\n",
       "0                               NaN   \n",
       "1                               NaN   \n",
       "2                               NaN   \n",
       "3                               1.0   \n",
       "4                               NaN   \n",
       "\n",
       "   part_time_rentention_rate_less_than_4_year students_with_federal_loans  \\\n",
       "0                                         NaN                      0.2857   \n",
       "1                                         NaN                      0.7860   \n",
       "2                                         1.0                      0.6792   \n",
       "3                                         NaN                      0.5297   \n",
       "4                                         1.0                      0.0664   \n",
       "\n",
       "   median_student_earnings  median_student_debt  \\\n",
       "0                      NaN    PrivacySuppressed   \n",
       "1                    28700                 8994   \n",
       "2                      NaN    PrivacySuppressed   \n",
       "3                    47000                23250   \n",
       "4                    33500    PrivacySuppressed   \n",
       "\n",
       "   less_than_4_year_school_completion_rate  4_year_school_completion_rate  \n",
       "0                                      NaN                            NaN  \n",
       "1                              0.707589494                            NaN  \n",
       "2                                        0                            NaN  \n",
       "3                                      NaN                    0.514833663  \n",
       "4                              0.846055789                            NaN  \n",
       "\n",
       "[5 rows x 63 columns]"
      ]
     },
     "execution_count": 46,
     "metadata": {},
     "output_type": "execute_result"
    }
   ],
   "source": [
    "college_scorecard = pd.read_csv(\n",
    "    './data/college-scorecard-data-scrubbed.csv', \n",
    "    encoding='latin-1')\n",
    "college_scorecard.head()"
   ]
  },
  {
   "cell_type": "code",
   "execution_count": 47,
   "metadata": {},
   "outputs": [
    {
     "data": {
      "text/html": [
       "<div>\n",
       "<style>\n",
       "    .dataframe thead tr:only-child th {\n",
       "        text-align: right;\n",
       "    }\n",
       "\n",
       "    .dataframe thead th {\n",
       "        text-align: left;\n",
       "    }\n",
       "\n",
       "    .dataframe tbody tr th {\n",
       "        vertical-align: top;\n",
       "    }\n",
       "</style>\n",
       "<table border=\"1\" class=\"dataframe\">\n",
       "  <thead>\n",
       "    <tr style=\"text-align: right;\">\n",
       "      <th></th>\n",
       "      <th>UNITID</th>\n",
       "      <th>OPEID</th>\n",
       "      <th>OPEID6</th>\n",
       "      <th>city</th>\n",
       "      <th>state</th>\n",
       "      <th>url</th>\n",
       "      <th>predominant_degree_code</th>\n",
       "      <th>predominant_degree_desc</th>\n",
       "      <th>institutional_owner_code</th>\n",
       "      <th>institutional_owner_desc</th>\n",
       "      <th>...</th>\n",
       "      <th>pell_grant_receipents</th>\n",
       "      <th>full_time_retention_rate_4_year</th>\n",
       "      <th>full_time_retention_rate_less_than_4_year</th>\n",
       "      <th>part_time_rentention_rate_4_year</th>\n",
       "      <th>part_time_rentention_rate_less_than_4_year</th>\n",
       "      <th>students_with_federal_loans</th>\n",
       "      <th>median_student_earnings</th>\n",
       "      <th>median_student_debt</th>\n",
       "      <th>less_than_4_year_school_completion_rate</th>\n",
       "      <th>4_year_school_completion_rate</th>\n",
       "    </tr>\n",
       "    <tr>\n",
       "      <th>institution_name</th>\n",
       "      <th></th>\n",
       "      <th></th>\n",
       "      <th></th>\n",
       "      <th></th>\n",
       "      <th></th>\n",
       "      <th></th>\n",
       "      <th></th>\n",
       "      <th></th>\n",
       "      <th></th>\n",
       "      <th></th>\n",
       "      <th></th>\n",
       "      <th></th>\n",
       "      <th></th>\n",
       "      <th></th>\n",
       "      <th></th>\n",
       "      <th></th>\n",
       "      <th></th>\n",
       "      <th></th>\n",
       "      <th></th>\n",
       "      <th></th>\n",
       "      <th></th>\n",
       "    </tr>\n",
       "  </thead>\n",
       "  <tbody>\n",
       "    <tr>\n",
       "      <th>Alaska Bible College</th>\n",
       "      <td>102580</td>\n",
       "      <td>884300</td>\n",
       "      <td>8843</td>\n",
       "      <td>Palmer</td>\n",
       "      <td>AK</td>\n",
       "      <td>www.akbible.edu/</td>\n",
       "      <td>3</td>\n",
       "      <td>Bachelors</td>\n",
       "      <td>2</td>\n",
       "      <td>PrivateNonProfit</td>\n",
       "      <td>...</td>\n",
       "      <td>0.3571</td>\n",
       "      <td>0.3333</td>\n",
       "      <td>NaN</td>\n",
       "      <td>NaN</td>\n",
       "      <td>NaN</td>\n",
       "      <td>0.2857</td>\n",
       "      <td>NaN</td>\n",
       "      <td>PrivacySuppressed</td>\n",
       "      <td>NaN</td>\n",
       "      <td>NaN</td>\n",
       "    </tr>\n",
       "    <tr>\n",
       "      <th>Alaska Career College</th>\n",
       "      <td>103501</td>\n",
       "      <td>2541000</td>\n",
       "      <td>25410</td>\n",
       "      <td>Anchorage</td>\n",
       "      <td>AK</td>\n",
       "      <td>www.alaskacareercollege.edu</td>\n",
       "      <td>1</td>\n",
       "      <td>Certificate</td>\n",
       "      <td>3</td>\n",
       "      <td>PrivateForProfit</td>\n",
       "      <td>...</td>\n",
       "      <td>0.7078</td>\n",
       "      <td>NaN</td>\n",
       "      <td>0.7941</td>\n",
       "      <td>NaN</td>\n",
       "      <td>NaN</td>\n",
       "      <td>0.7860</td>\n",
       "      <td>28700</td>\n",
       "      <td>8994</td>\n",
       "      <td>0.707589494</td>\n",
       "      <td>NaN</td>\n",
       "    </tr>\n",
       "    <tr>\n",
       "      <th>Alaska Christian College</th>\n",
       "      <td>442523</td>\n",
       "      <td>4138600</td>\n",
       "      <td>41386</td>\n",
       "      <td>Soldotna</td>\n",
       "      <td>AK</td>\n",
       "      <td>www.alaskacc.edu</td>\n",
       "      <td>1</td>\n",
       "      <td>Certificate</td>\n",
       "      <td>2</td>\n",
       "      <td>PrivateNonProfit</td>\n",
       "      <td>...</td>\n",
       "      <td>0.8868</td>\n",
       "      <td>NaN</td>\n",
       "      <td>0.4737</td>\n",
       "      <td>NaN</td>\n",
       "      <td>1.0</td>\n",
       "      <td>0.6792</td>\n",
       "      <td>NaN</td>\n",
       "      <td>PrivacySuppressed</td>\n",
       "      <td>0</td>\n",
       "      <td>NaN</td>\n",
       "    </tr>\n",
       "    <tr>\n",
       "      <th>Alaska Pacific University</th>\n",
       "      <td>102669</td>\n",
       "      <td>106100</td>\n",
       "      <td>1061</td>\n",
       "      <td>Anchorage</td>\n",
       "      <td>AK</td>\n",
       "      <td>www.alaskapacific.edu</td>\n",
       "      <td>3</td>\n",
       "      <td>Bachelors</td>\n",
       "      <td>2</td>\n",
       "      <td>PrivateNonProfit</td>\n",
       "      <td>...</td>\n",
       "      <td>0.3152</td>\n",
       "      <td>0.7742</td>\n",
       "      <td>NaN</td>\n",
       "      <td>1.0</td>\n",
       "      <td>NaN</td>\n",
       "      <td>0.5297</td>\n",
       "      <td>47000</td>\n",
       "      <td>23250</td>\n",
       "      <td>NaN</td>\n",
       "      <td>0.514833663</td>\n",
       "    </tr>\n",
       "    <tr>\n",
       "      <th>AVTEC-Alaska's Institute of Technology</th>\n",
       "      <td>102711</td>\n",
       "      <td>3160300</td>\n",
       "      <td>31603</td>\n",
       "      <td>Seward</td>\n",
       "      <td>AK</td>\n",
       "      <td>www.avtec.edu/</td>\n",
       "      <td>1</td>\n",
       "      <td>Certificate</td>\n",
       "      <td>1</td>\n",
       "      <td>Public</td>\n",
       "      <td>...</td>\n",
       "      <td>0.0737</td>\n",
       "      <td>NaN</td>\n",
       "      <td>1.0000</td>\n",
       "      <td>NaN</td>\n",
       "      <td>1.0</td>\n",
       "      <td>0.0664</td>\n",
       "      <td>33500</td>\n",
       "      <td>PrivacySuppressed</td>\n",
       "      <td>0.846055789</td>\n",
       "      <td>NaN</td>\n",
       "    </tr>\n",
       "  </tbody>\n",
       "</table>\n",
       "<p>5 rows × 62 columns</p>\n",
       "</div>"
      ],
      "text/plain": [
       "                                        UNITID    OPEID  OPEID6       city  \\\n",
       "institution_name                                                             \n",
       "Alaska Bible College                    102580   884300    8843     Palmer   \n",
       "Alaska Career College                   103501  2541000   25410  Anchorage   \n",
       "Alaska Christian College                442523  4138600   41386   Soldotna   \n",
       "Alaska Pacific University               102669   106100    1061  Anchorage   \n",
       "AVTEC-Alaska's Institute of Technology  102711  3160300   31603     Seward   \n",
       "\n",
       "                                       state                          url  \\\n",
       "institution_name                                                            \n",
       "Alaska Bible College                      AK             www.akbible.edu/   \n",
       "Alaska Career College                     AK  www.alaskacareercollege.edu   \n",
       "Alaska Christian College                  AK             www.alaskacc.edu   \n",
       "Alaska Pacific University                 AK        www.alaskapacific.edu   \n",
       "AVTEC-Alaska's Institute of Technology    AK               www.avtec.edu/   \n",
       "\n",
       "                                        predominant_degree_code  \\\n",
       "institution_name                                                  \n",
       "Alaska Bible College                                          3   \n",
       "Alaska Career College                                         1   \n",
       "Alaska Christian College                                      1   \n",
       "Alaska Pacific University                                     3   \n",
       "AVTEC-Alaska's Institute of Technology                        1   \n",
       "\n",
       "                                       predominant_degree_desc  \\\n",
       "institution_name                                                 \n",
       "Alaska Bible College                                 Bachelors   \n",
       "Alaska Career College                              Certificate   \n",
       "Alaska Christian College                           Certificate   \n",
       "Alaska Pacific University                            Bachelors   \n",
       "AVTEC-Alaska's Institute of Technology             Certificate   \n",
       "\n",
       "                                        institutional_owner_code  \\\n",
       "institution_name                                                   \n",
       "Alaska Bible College                                           2   \n",
       "Alaska Career College                                          3   \n",
       "Alaska Christian College                                       2   \n",
       "Alaska Pacific University                                      2   \n",
       "AVTEC-Alaska's Institute of Technology                         1   \n",
       "\n",
       "                                       institutional_owner_desc  \\\n",
       "institution_name                                                  \n",
       "Alaska Bible College                           PrivateNonProfit   \n",
       "Alaska Career College                          PrivateForProfit   \n",
       "Alaska Christian College                       PrivateNonProfit   \n",
       "Alaska Pacific University                      PrivateNonProfit   \n",
       "AVTEC-Alaska's Institute of Technology                   Public   \n",
       "\n",
       "                                                    ...                \\\n",
       "institution_name                                    ...                 \n",
       "Alaska Bible College                                ...                 \n",
       "Alaska Career College                               ...                 \n",
       "Alaska Christian College                            ...                 \n",
       "Alaska Pacific University                           ...                 \n",
       "AVTEC-Alaska's Institute of Technology              ...                 \n",
       "\n",
       "                                        pell_grant_receipents  \\\n",
       "institution_name                                                \n",
       "Alaska Bible College                                   0.3571   \n",
       "Alaska Career College                                  0.7078   \n",
       "Alaska Christian College                               0.8868   \n",
       "Alaska Pacific University                              0.3152   \n",
       "AVTEC-Alaska's Institute of Technology                 0.0737   \n",
       "\n",
       "                                        full_time_retention_rate_4_year  \\\n",
       "institution_name                                                          \n",
       "Alaska Bible College                                             0.3333   \n",
       "Alaska Career College                                               NaN   \n",
       "Alaska Christian College                                            NaN   \n",
       "Alaska Pacific University                                        0.7742   \n",
       "AVTEC-Alaska's Institute of Technology                              NaN   \n",
       "\n",
       "                                        full_time_retention_rate_less_than_4_year  \\\n",
       "institution_name                                                                    \n",
       "Alaska Bible College                                                          NaN   \n",
       "Alaska Career College                                                      0.7941   \n",
       "Alaska Christian College                                                   0.4737   \n",
       "Alaska Pacific University                                                     NaN   \n",
       "AVTEC-Alaska's Institute of Technology                                     1.0000   \n",
       "\n",
       "                                        part_time_rentention_rate_4_year  \\\n",
       "institution_name                                                           \n",
       "Alaska Bible College                                                 NaN   \n",
       "Alaska Career College                                                NaN   \n",
       "Alaska Christian College                                             NaN   \n",
       "Alaska Pacific University                                            1.0   \n",
       "AVTEC-Alaska's Institute of Technology                               NaN   \n",
       "\n",
       "                                       part_time_rentention_rate_less_than_4_year  \\\n",
       "institution_name                                                                    \n",
       "Alaska Bible College                                                          NaN   \n",
       "Alaska Career College                                                         NaN   \n",
       "Alaska Christian College                                                      1.0   \n",
       "Alaska Pacific University                                                     NaN   \n",
       "AVTEC-Alaska's Institute of Technology                                        1.0   \n",
       "\n",
       "                                        students_with_federal_loans  \\\n",
       "institution_name                                                      \n",
       "Alaska Bible College                                         0.2857   \n",
       "Alaska Career College                                        0.7860   \n",
       "Alaska Christian College                                     0.6792   \n",
       "Alaska Pacific University                                    0.5297   \n",
       "AVTEC-Alaska's Institute of Technology                       0.0664   \n",
       "\n",
       "                                        median_student_earnings  \\\n",
       "institution_name                                                  \n",
       "Alaska Bible College                                        NaN   \n",
       "Alaska Career College                                     28700   \n",
       "Alaska Christian College                                    NaN   \n",
       "Alaska Pacific University                                 47000   \n",
       "AVTEC-Alaska's Institute of Technology                    33500   \n",
       "\n",
       "                                        median_student_debt  \\\n",
       "institution_name                                              \n",
       "Alaska Bible College                      PrivacySuppressed   \n",
       "Alaska Career College                                  8994   \n",
       "Alaska Christian College                  PrivacySuppressed   \n",
       "Alaska Pacific University                             23250   \n",
       "AVTEC-Alaska's Institute of Technology    PrivacySuppressed   \n",
       "\n",
       "                                        less_than_4_year_school_completion_rate  \\\n",
       "institution_name                                                                  \n",
       "Alaska Bible College                                                        NaN   \n",
       "Alaska Career College                                               0.707589494   \n",
       "Alaska Christian College                                                      0   \n",
       "Alaska Pacific University                                                   NaN   \n",
       "AVTEC-Alaska's Institute of Technology                              0.846055789   \n",
       "\n",
       "                                        4_year_school_completion_rate  \n",
       "institution_name                                                       \n",
       "Alaska Bible College                                              NaN  \n",
       "Alaska Career College                                             NaN  \n",
       "Alaska Christian College                                          NaN  \n",
       "Alaska Pacific University                                 0.514833663  \n",
       "AVTEC-Alaska's Institute of Technology                            NaN  \n",
       "\n",
       "[5 rows x 62 columns]"
      ]
     },
     "execution_count": 47,
     "metadata": {},
     "output_type": "execute_result"
    }
   ],
   "source": [
    "college_scorecard = pd.read_csv(\n",
    "    './data/college-scorecard-data-scrubbed.csv', \n",
    "    encoding='latin-1', \n",
    "    index_col='institution_name')\n",
    "college_scorecard.head()"
   ]
  },
  {
   "cell_type": "markdown",
   "metadata": {},
   "source": [
    "## Selecting Data from `Series` Objects"
   ]
  },
  {
   "cell_type": "markdown",
   "metadata": {},
   "source": [
    "Let's start by grabbing the `url` series object out of our data frame:"
   ]
  },
  {
   "cell_type": "code",
   "execution_count": 48,
   "metadata": {},
   "outputs": [
    {
     "data": {
      "text/plain": [
       "institution_name\n",
       "Alaska Bible College                                 www.akbible.edu/\n",
       "Alaska Career College                     www.alaskacareercollege.edu\n",
       "Alaska Christian College                             www.alaskacc.edu\n",
       "Alaska Pacific University                       www.alaskapacific.edu\n",
       "AVTEC-Alaska's Institute of Technology                 www.avtec.edu/\n",
       "Name: url, dtype: object"
      ]
     },
     "execution_count": 48,
     "metadata": {},
     "output_type": "execute_result"
    }
   ],
   "source": [
    "url_series = college_scorecard['url']\n",
    "url_series.head()"
   ]
  },
  {
   "cell_type": "markdown",
   "metadata": {},
   "source": [
    "As a reminder, a `Series` object is comprised of an explicit index and the values. **Notice here that our `Series` object inherit the 'institution_name' column values as the index from the `DataFrame`.**"
   ]
  },
  {
   "cell_type": "markdown",
   "metadata": {},
   "source": [
    "### Dictionary Like Features"
   ]
  },
  {
   "cell_type": "markdown",
   "metadata": {},
   "source": [
    "Several of the methods available on Python **`dict`** objects are also available on `Series` objects. The reason that this is possible is because Pandas maintains a mapping relationship between the explicit index elements and the Series values - just like standard Python does between the keys & values of a dictionary.  "
   ]
  },
  {
   "cell_type": "markdown",
   "metadata": {},
   "source": [
    "#### Membership Testing with `in`\n",
    "You can determine if a given **index** exists in a `Series` using the `in` keyword:\n"
   ]
  },
  {
   "cell_type": "code",
   "execution_count": 49,
   "metadata": {},
   "outputs": [
    {
     "data": {
      "text/plain": [
       "True"
      ]
     },
     "execution_count": 49,
     "metadata": {},
     "output_type": "execute_result"
    }
   ],
   "source": [
    "'University of Notre Dame' in url_series"
   ]
  },
  {
   "cell_type": "markdown",
   "metadata": {},
   "source": [
    "#### Value Retrieval via Index \"Key\"\n",
    "You can retrieve a value from the `Series` by passing it the index \"key\" you are interest in.b"
   ]
  },
  {
   "cell_type": "code",
   "execution_count": 50,
   "metadata": {},
   "outputs": [
    {
     "data": {
      "text/plain": [
       "'www.nd.edu'"
      ]
     },
     "execution_count": 50,
     "metadata": {},
     "output_type": "execute_result"
    }
   ],
   "source": [
    "url_series['University of Notre Dame']"
   ]
  },
  {
   "cell_type": "markdown",
   "metadata": {},
   "source": [
    "### Array Like Features\n",
    "Now we will explore some of the array like features of `Series` objects. Most of this will be familiar given what you already know about NumPy arrays, so we will move quickly."
   ]
  },
  {
   "cell_type": "markdown",
   "metadata": {},
   "source": [
    "#### Slicing with Explicit Indexes & Implicit Indexes\n",
    "Slicing is pretty straight forward with NumPy arrays because of their implicit integer based indexes. It gets a little bit more complicated with `Series` objects because the explicit index isn't necessarily integer based."
   ]
  },
  {
   "cell_type": "markdown",
   "metadata": {},
   "source": [
    "Just like normal slice, you can specify two elements that you want to be the start/end of what is returned. The difference here is that you can specify the actual index element names/keys instead of numbers.\n",
    "\n",
    "Here will we ask for all the listings from Stanford to Notre Dame."
   ]
  },
  {
   "cell_type": "code",
   "execution_count": 51,
   "metadata": {},
   "outputs": [
    {
     "data": {
      "text/plain": [
       "institution_name\n",
       "Stanford University                                                                             www.stanford.edu/\n",
       "Starr King School for the Ministry                                                                   www.sksm.edu\n",
       "SUM Bible College and Theological Seminary                                                            www.sum.edu\n",
       "Summit College                                                                              www.summitcollege.edu\n",
       "Sutter Beauty College                                                                     sutterbeautycollege.com\n",
       "Taft College                                                                                  www.taftcollege.edu\n",
       "Thanh Le College School of Cosmetology                                                     WWW.thanhlecollege.com\n",
       "The Academy of Radio and TV Broadcasting                                                         WWW.ARBRADIO.COM\n",
       "The California Maritime Academy                                                              https://www.csum.edu\n",
       "The Chicago School of Professional Psychology at Irvine                                  www.thechicagoschool.edu\n",
       "The Chicago School of Professional Psychology at Los Angeles                            www.thechicagoschool.edu/\n",
       "The Chicago School of Professional Psychology at Westwood                               www.thechicagoschool.edu/\n",
       "The English Center                                                                          www.englishcenter.edu\n",
       "The Master's College and Seminary                                                                 www.masters.edu\n",
       "The National Hispanic University                                                                      www.nhu.edu\n",
       "The Salon Professional Academy-San Jose                                                       www.tspasanjose.com\n",
       "The Wright Institute                                                                                   www.wi.edu\n",
       "Thomas Aquinas College                                                                      www.thomasaquinas.edu\n",
       "Thomas Jefferson School of Law                                                                       www.tjsl.edu\n",
       "Thuy Princess Beauty College                                                        thuyprincessbeautycollege.com\n",
       "Toni & Guy Hairdressing Academy-Manteca                                                               toniguy.com\n",
       "Toni & Guy Hairdressing Academy-Modesto                                                      modesto.toniguy.edu/\n",
       "Toni & Guy Hairdressing Academy-Santa Monica                    toniguy.com/academy/santa_monica_beauty_school...\n",
       "Touro University California                                                                           www.tu.edu/\n",
       "Touro University Worldwide                                                                            www.tuw.edu\n",
       "Tramy Beauty School                                                                     WWW.TRAMYBEAUTYSCHOOL.EDU\n",
       "Trident University International                                                                 www.trident.edu/\n",
       "Trinity Law School                                                                                        tls.edu\n",
       "Trinity School of Health and Allied Sciences                                               trinityvocational.com/\n",
       "Tulare Beauty College                                                                 www.tularebeautycollege.edu\n",
       "                                                                                      ...                        \n",
       "Regency Beauty Institute-Merrillville                                                             www.regency.edu\n",
       "Regency Beauty Institute-South Bend                                                               www.regency.edu\n",
       "Rogers Academy of Hair Design                                                               rogershairacademy.com\n",
       "Rose-Hulman Institute of Technology                                                           www.rose-hulman.edu\n",
       "Ross Medical Education Center-Evansville                                                    www.rosseducation.edu\n",
       "Ross Medical Education Center-Fort Wayne                                                    www.rosseducation.edu\n",
       "Ross Medical Education Center-Granger                                                       www.rosseducation.edu\n",
       "Ross Medical Education Center-Kokomo                                                        www.rosseducation.edu\n",
       "Rudae's School of Beauty Culture-Ft Wayne                                                          www.rudaes.com\n",
       "Rudae's School of Beauty Culture-Kokomo                                                            www.rudaes.com\n",
       "Saint Elizabeth School of Nursing                                                                  www.steson.org\n",
       "Saint Josephs College                                                                            www.saintjoe.edu\n",
       "Saint Mary-of-the-Woods College                                                                      www.smwc.edu\n",
       "Saint Mary's College                                                                           www.saintmarys.edu\n",
       "Saint Meinrad School of Theology                                                             www.saintmeinrad.edu\n",
       "Success Schools                                                                       www.successbarberschool.com\n",
       "Taylor University                                                                          https://www.taylor.edu\n",
       "The Art Institute of Indianapolis                                              new.artinstitutes.edu/indianapolis\n",
       "The Salon Professional Academy-Anderson                                              www.andersonsalonacademy.com\n",
       "The Salon Professional Academy-Evansville                                                  www.tspaevansville.com\n",
       "The Salon Professional Academy-Kokomo                                                             kokomotspa.com/\n",
       "Tricoci University of Beauty Culture-Highland                                           www.tricociuniversity.com\n",
       "Tricoci University of Beauty Culture-Indianapolis                                       www.tricociuniversity.com\n",
       "Tricoci University of Beauty Culture-Lafayette                                              tricociuniversity.com\n",
       "Tricoci University of Beauty Cuture LLC-Bloomington                                     www.tricociuniversity.com\n",
       "Trine University                                                                                    www.trine.edu\n",
       "Trine University-Regional/Non-Traditional Campuses                                                  www.trine.edu\n",
       "University of Evansville                                                                      www.evansville.edu/\n",
       "University of Indianapolis                                                                              uindy.edu\n",
       "University of Notre Dame                                                                               www.nd.edu\n",
       "Name: url, Length: 1530, dtype: object"
      ]
     },
     "execution_count": 51,
     "metadata": {},
     "output_type": "execute_result"
    }
   ],
   "source": [
    "url_series['Stanford University':'University of Notre Dame']"
   ]
  },
  {
   "cell_type": "markdown",
   "metadata": {},
   "source": [
    "<div class=\"alert alert-block alert-info\">\n",
    "<p>\n",
    "It is important to note that the reverse request, `url_series['University of Notre Dame': 'Stanford University']` would have yielded no results.\n",
    "</p>\n",
    "<p>\n",
    "This is because 'University of Notre Dame' appears after 'Stanford' in the CSV file. Remember that technical, the first item in a slice notation is the 'start' and the second is the 'end'. It is important that you have them in the right order.\n",
    "</p>\n",
    "</div> "
   ]
  },
  {
   "cell_type": "markdown",
   "metadata": {},
   "source": [
    "<div class=\"alert alert-block alert-danger\">\n",
    "<h5>Warning: Important Distinction</h5>\n",
    "<p>\n",
    "In a NumPy array slice (or when using an implicit index), the 'end' value of the slice notation is not included in the return slice.\n",
    "</p>\n",
    "<p>\n",
    "Strangely, when using a slice with an explicit index - the end value is included. Be careful about this as you could end up with an extra record in your slices that you don't want.\n",
    "</p>\n",
    "</div> "
   ]
  },
  {
   "cell_type": "markdown",
   "metadata": {},
   "source": [
    "##### The Implicit Index Lurking in the Shadows"
   ]
  },
  {
   "cell_type": "markdown",
   "metadata": {},
   "source": [
    "While it is true that every `Series` object has an explicit index - it is also true that there is also an implicit index that is always available. Because of this, you can continue to use \"normal\" slice notations on `Series` objects with non-integer based explicit indexes.\n",
    "\n",
    "Here are a couple of examples."
   ]
  },
  {
   "cell_type": "code",
   "execution_count": 52,
   "metadata": {},
   "outputs": [
    {
     "data": {
      "text/plain": [
       "institution_name\n",
       "Alaska Bible College                                 www.akbible.edu/\n",
       "Alaska Career College                     www.alaskacareercollege.edu\n",
       "Alaska Christian College                             www.alaskacc.edu\n",
       "Alaska Pacific University                       www.alaskapacific.edu\n",
       "AVTEC-Alaska's Institute of Technology                 www.avtec.edu/\n",
       "Charter College-Anchorage                      www.chartercollege.edu\n",
       "Ilisagvik College                                   www.ilisagvik.edu\n",
       "University of Alaska Anchorage                     www.uaa.alaska.edu\n",
       "University of Alaska Fairbanks                            www.uaf.edu\n",
       "University of Alaska Southeast                     www.uas.alaska.edu\n",
       "Name: url, dtype: object"
      ]
     },
     "execution_count": 52,
     "metadata": {},
     "output_type": "execute_result"
    }
   ],
   "source": [
    "# Using \"normal\" slice notations on our `url_series`\n",
    "# First ten elements\n",
    "url_series[:10]"
   ]
  },
  {
   "cell_type": "markdown",
   "metadata": {},
   "source": [
    "<div class=\"alert alert-block alert-danger\">\n",
    "<h5>Important Warning! Implicit vs. Explicit indexing</h5>\n",
    "<p>\n",
    "A confusing situation arises when you have a `Series` with an explicit integer index that doesn't start with 0 and increment 1 for each element.\n",
    "</p>\n",
    "\n",
    "<p>\n",
    "Slice notations get convoluted in this case and you have to use some ** special attributes (.loc, .iloc, .ix) that are discussed in your textbook on page 109-110** to keep things straight. \n",
    "</p>\n",
    "</div> "
   ]
  },
  {
   "cell_type": "markdown",
   "metadata": {},
   "source": [
    "#### Series Masking\n",
    "You can do masking on `Series` objects in the same way you did so with NumPy Arrays. Review the Jupyter Notebook for Sept 19th for more information on masking using NumPy\n",
    "\n",
    "Here a couple of examples:"
   ]
  },
  {
   "cell_type": "code",
   "execution_count": 53,
   "metadata": {
    "collapsed": true
   },
   "outputs": [],
   "source": [
    "# Let's get a new Series object with numeric data on SAT average scores.\n",
    "sat_average_series = college_scorecard['sat_average']"
   ]
  },
  {
   "cell_type": "code",
   "execution_count": 54,
   "metadata": {},
   "outputs": [
    {
     "data": {
      "text/plain": [
       "institution_name\n",
       "Auburn University                                          1215.0\n",
       "University of Alabama in Huntsville                        1219.0\n",
       "Hendrix College                                            1244.0\n",
       "California Institute of Technology                         1545.0\n",
       "California Polytechnic State University-San Luis Obispo    1234.0\n",
       "Chapman University                                         1210.0\n",
       "Claremont McKenna College                                  1419.0\n",
       "Harvey Mudd College                                        1500.0\n",
       "Loyola Marymount University                                1218.0\n",
       "Occidental College                                         1300.0\n",
       "Pepperdine University                                      1234.0\n",
       "Pomona College                                             1454.0\n",
       "Santa Clara University                                     1309.0\n",
       "Scripps College                                            1360.0\n",
       "Soka University of America                                 1223.0\n",
       "Stanford University                                        1465.0\n",
       "Thomas Aquinas College                                     1261.0\n",
       "University of California-Berkeley                          1382.0\n",
       "University of California-Davis                             1226.0\n",
       "University of California-Los Angeles                       1330.0\n",
       "University of California-San Diego                         1313.0\n",
       "University of California-Santa Barbara                     1253.0\n",
       "University of San Diego                                    1243.0\n",
       "University of Southern California                          1380.0\n",
       "Colorado School of Mines                                   1333.0\n",
       "University of Colorado Boulder                             1207.0\n",
       "University of Denver                                       1231.0\n",
       "University of Connecticut                                  1246.0\n",
       "Yale University                                            1493.0\n",
       "American University                                        1252.0\n",
       "                                                            ...  \n",
       "Brown University                                           1435.0\n",
       "Rhode Island School of Design                              1254.0\n",
       "Clemson University                                         1261.0\n",
       "University of South Carolina-Columbia                      1217.0\n",
       "Rhodes College                                             1296.0\n",
       "Vanderbilt University                                      1481.0\n",
       "Baylor University                                          1227.0\n",
       "Rice University                                            1460.0\n",
       "Southern Methodist University                              1316.0\n",
       "Texas A & M University-College Station                     1206.0\n",
       "Texas Christian University                                 1207.0\n",
       "The University of Texas at Austin                          1296.0\n",
       "The University of Texas at Dallas                          1259.0\n",
       "Trinity University                                         1281.0\n",
       "University of Dallas                                       1211.0\n",
       "Brigham Young University-Provo                             1290.0\n",
       "College of William and Mary                                1373.0\n",
       "University of Richmond                                     1337.0\n",
       "University of Virginia-Main Campus                         1357.0\n",
       "Virginia Polytechnic Institute and State University        1215.0\n",
       "Washington and Lee University                              1395.0\n",
       "Middlebury College                                         1379.0\n",
       "DigiPen Institute of Technology                            1211.0\n",
       "Gonzaga University                                         1207.0\n",
       "University of Puget Sound                                  1230.0\n",
       "University of Washington-Seattle Campus                    1240.0\n",
       "Whitman College                                            1323.0\n",
       "Marquette University                                       1220.0\n",
       "Milwaukee School of Engineering                            1243.0\n",
       "University of Wisconsin-Madison                            1286.0\n",
       "Name: sat_average, Length: 168, dtype: float64"
      ]
     },
     "execution_count": 54,
     "metadata": {},
     "output_type": "execute_result"
    }
   ],
   "source": [
    "# Return schools with SAT averages over 1200\n",
    "sat_average_series[sat_average_series > 1200]"
   ]
  },
  {
   "cell_type": "markdown",
   "metadata": {},
   "source": [
    "## Activity:\n",
    "\n",
    "1. What schools have averages between 1400 & 1500\n",
    "1. Is University of Notre Dame one of the schools? \n",
    "1. How about 'Harvard University'? \n"
   ]
  },
  {
   "cell_type": "code",
   "execution_count": 58,
   "metadata": {},
   "outputs": [
    {
     "name": "stdout",
     "output_type": "stream",
     "text": [
      "institution_name\n",
      "Claremont McKenna College                      1419.0\n",
      "Pomona College                                 1454.0\n",
      "Stanford University                            1465.0\n",
      "Yale University                                1493.0\n",
      "Georgetown University                          1414.0\n",
      "Northwestern University                        1461.0\n",
      "University of Notre Dame                       1450.0\n",
      "Amherst College                                1439.0\n",
      "Franklin W Olin College of Engineering         1475.0\n",
      "Northeastern University                        1420.0\n",
      "Tufts University                               1423.0\n",
      "Williams College                               1452.0\n",
      "Johns Hopkins University                       1439.0\n",
      "Carleton College                               1408.0\n",
      "Washington University in St Louis              1478.0\n",
      "Duke University                                1454.0\n",
      "Dartmouth College                              1444.0\n",
      "Princeton University                           1491.0\n",
      "Columbia University in the City of New York    1470.0\n",
      "Cornell University                             1422.0\n",
      "Vassar College                                 1403.0\n",
      "Webb Institute                                 1420.0\n",
      "Carnegie Mellon University                     1436.0\n",
      "Haverford College                              1422.0\n",
      "Swarthmore College                             1433.0\n",
      "University of Pennsylvania                     1452.0\n",
      "Brown University                               1435.0\n",
      "Vanderbilt University                          1481.0\n",
      "Rice University                                1460.0\n",
      "Name: sat_average, dtype: float64\n"
     ]
    },
    {
     "data": {
      "text/plain": [
       "False"
      ]
     },
     "execution_count": 58,
     "metadata": {},
     "output_type": "execute_result"
    }
   ],
   "source": [
    "new=sat_average_series[(sat_average_series > 1400) & (sat_average_series < 1500)]\n",
    "print(new)\n",
    "'University of Notre Dame' in new\n",
    "'Harvard University' in new"
   ]
  },
  {
   "cell_type": "markdown",
   "metadata": {},
   "source": [
    "## Selecting Data from `DataFrame` Objects"
   ]
  },
  {
   "cell_type": "markdown",
   "metadata": {},
   "source": [
    "Similiarly to what we found with `Series` objects. You can interact with `DataFrame` objects in ways that sometimes resemble a dictionary and other times a NumPy array."
   ]
  },
  {
   "cell_type": "markdown",
   "metadata": {},
   "source": [
    "### Dictionary Like Features\n"
   ]
  },
  {
   "cell_type": "code",
   "execution_count": null,
   "metadata": {
    "collapsed": true
   },
   "outputs": [],
   "source": [
    "# You can retrieve an individual Series from a DataFrame\n",
    "# by passing the Series name/key to the DataFrame\n",
    "college_scorecard['religious_affiliation_desc'][:10]"
   ]
  },
  {
   "cell_type": "code",
   "execution_count": null,
   "metadata": {
    "collapsed": true
   },
   "outputs": [],
   "source": [
    "# Test for the existence of a given column/Series in a DataFrame\n",
    "'city' in college_scorecard"
   ]
  },
  {
   "cell_type": "markdown",
   "metadata": {},
   "source": [
    "<div class=\"alert alert-block alert-warning\">\n",
    "<p> Note the distiction with `in` operator on a `Series` and on a `DataFrame`. When you use it on a `Series` it checks if it is present in the index. Whereas for a `DataFrame`, it check if it is present in the columns\n",
    "<div>"
   ]
  },
  {
   "cell_type": "markdown",
   "metadata": {},
   "source": [
    "### Array Like Features\n",
    "\n",
    "#### Slicing (Explicit Index)\n",
    "Slicing affects affects rows, not columns in a `DataFrame`. In other words, you can slice based on the index values, but not the column values. Let's get a slice of all rows from 'Alaska Bible College' to 'Alabama State University':"
   ]
  },
  {
   "cell_type": "code",
   "execution_count": null,
   "metadata": {
    "collapsed": true
   },
   "outputs": [],
   "source": [
    "college_scorecard['Alaska Bible College': 'Alabama State University']"
   ]
  },
  {
   "cell_type": "markdown",
   "metadata": {},
   "source": [
    "<div class=\"alert alert-block alert-info\">\n",
    "<p>\n",
    "You can however use the `iloc`, and `loc` methods to slice based on columns.  **You can look into this on pages 113-114 of your textbook if you are interested.**</p>\n",
    "</div> "
   ]
  },
  {
   "cell_type": "markdown",
   "metadata": {},
   "source": [
    "#### Slicing (implicit index)\n",
    "You can also rely on the implicit integer index of the `DataFrame` (yes, it has one too) to retrieve rows by the numeric index.\n",
    "\n",
    "**Just remember, the 'end' value of the slice is not included when using the implicit index.**"
   ]
  },
  {
   "cell_type": "code",
   "execution_count": null,
   "metadata": {
    "collapsed": true
   },
   "outputs": [],
   "source": [
    "college_scorecard[0:5]"
   ]
  },
  {
   "cell_type": "markdown",
   "metadata": {},
   "source": [
    "#### Masking\n",
    "\n",
    "Masking operations likewise return rows from a `DataFrame`, but the **criteria of the masks will be a comparison on one of the columns/Series**. This is somewhat confusing sounding, so let's just demonstrate:"
   ]
  },
  {
   "cell_type": "code",
   "execution_count": null,
   "metadata": {
    "collapsed": true
   },
   "outputs": [],
   "source": [
    "# Return all rows where the 'state' Series has a value of 'AK'\n",
    "college_scorecard[college_scorecard['state'] == 'AK']"
   ]
  },
  {
   "cell_type": "code",
   "execution_count": null,
   "metadata": {
    "collapsed": true
   },
   "outputs": [],
   "source": [
    "# Which colleges in IN offer Bachelors degrees?\n",
    "# Again, notice the parathesis here\n",
    "college_scorecard[(college_scorecard['state'] == 'IN') & (college_scorecard['predominant_degree_desc'] == 'Bachelors')]"
   ]
  },
  {
   "cell_type": "markdown",
   "metadata": {},
   "source": [
    "## Activity On Football Athletes Data\n",
    "\n",
    "1. Details of the players who are in freshmen class?\n",
    "1. Details of the players whose position is defensive linemen (DL) and are in their the senior class? \n",
    "1. Average height of players whose position is defensive linemen (DL) and are in their the senior class? "
   ]
  },
  {
   "cell_type": "code",
   "execution_count": 5,
   "metadata": {},
   "outputs": [
    {
     "data": {
      "text/html": [
       "<div>\n",
       "<style>\n",
       "    .dataframe thead tr:only-child th {\n",
       "        text-align: right;\n",
       "    }\n",
       "\n",
       "    .dataframe thead th {\n",
       "        text-align: left;\n",
       "    }\n",
       "\n",
       "    .dataframe tbody tr th {\n",
       "        vertical-align: top;\n",
       "    }\n",
       "</style>\n",
       "<table border=\"1\" class=\"dataframe\">\n",
       "  <thead>\n",
       "    <tr style=\"text-align: right;\">\n",
       "      <th></th>\n",
       "      <th>Number</th>\n",
       "      <th>Position</th>\n",
       "      <th>Height</th>\n",
       "      <th>Weight</th>\n",
       "      <th>Class</th>\n",
       "      <th>Hometown</th>\n",
       "    </tr>\n",
       "    <tr>\n",
       "      <th>Name</th>\n",
       "      <th></th>\n",
       "      <th></th>\n",
       "      <th></th>\n",
       "      <th></th>\n",
       "      <th></th>\n",
       "      <th></th>\n",
       "    </tr>\n",
       "  </thead>\n",
       "  <tbody>\n",
       "    <tr>\n",
       "      <th>Dexter Williams</th>\n",
       "      <td>2</td>\n",
       "      <td>RB</td>\n",
       "      <td>71</td>\n",
       "      <td>202</td>\n",
       "      <td>JR</td>\n",
       "      <td>Winter Garden, FL</td>\n",
       "    </tr>\n",
       "    <tr>\n",
       "      <th>C.J. Sanders</th>\n",
       "      <td>3</td>\n",
       "      <td>WR</td>\n",
       "      <td>68</td>\n",
       "      <td>185</td>\n",
       "      <td>JR</td>\n",
       "      <td>Granada Hills, CA</td>\n",
       "    </tr>\n",
       "    <tr>\n",
       "      <th>Te'von Coney</th>\n",
       "      <td>4</td>\n",
       "      <td>LB</td>\n",
       "      <td>73</td>\n",
       "      <td>235</td>\n",
       "      <td>JR</td>\n",
       "      <td>Palm Beach Gardens, FL</td>\n",
       "    </tr>\n",
       "    <tr>\n",
       "      <th>Montgomery VanGorder</th>\n",
       "      <td>4</td>\n",
       "      <td>QB</td>\n",
       "      <td>73</td>\n",
       "      <td>217</td>\n",
       "      <td>SR</td>\n",
       "      <td>Buford, GA</td>\n",
       "    </tr>\n",
       "    <tr>\n",
       "      <th>Nyles Morgan</th>\n",
       "      <td>5</td>\n",
       "      <td>LB</td>\n",
       "      <td>73</td>\n",
       "      <td>238</td>\n",
       "      <td>SR</td>\n",
       "      <td>Crete, IL</td>\n",
       "    </tr>\n",
       "  </tbody>\n",
       "</table>\n",
       "</div>"
      ],
      "text/plain": [
       "                      Number Position  Height  Weight Class  \\\n",
       "Name                                                          \n",
       "Dexter Williams            2       RB      71     202    JR   \n",
       "C.J. Sanders               3       WR      68     185    JR   \n",
       "Te'von Coney               4       LB      73     235    JR   \n",
       "Montgomery VanGorder       4       QB      73     217    SR   \n",
       "Nyles Morgan               5       LB      73     238    SR   \n",
       "\n",
       "                                    Hometown  \n",
       "Name                                          \n",
       "Dexter Williams            Winter Garden, FL  \n",
       "C.J. Sanders               Granada Hills, CA  \n",
       "Te'von Coney          Palm Beach Gardens, FL  \n",
       "Montgomery VanGorder              Buford, GA  \n",
       "Nyles Morgan                       Crete, IL  "
      ]
     },
     "execution_count": 5,
     "metadata": {},
     "output_type": "execute_result"
    }
   ],
   "source": [
    "import pandas as pd\n",
    "athletes_data = pd.read_csv('./data/nd-football-2017-roster.csv', index_col=['Name'])\n",
    "athletes_data.head()"
   ]
  },
  {
   "cell_type": "code",
   "execution_count": 14,
   "metadata": {},
   "outputs": [
    {
     "data": {
      "text/plain": [
       "74.5"
      ]
     },
     "execution_count": 14,
     "metadata": {},
     "output_type": "execute_result"
    }
   ],
   "source": [
    "athletes_data[athletes_data['Class'] == 'FR']\n",
    "#^ didn't get this one\n",
    "athletes_data[(athletes_data['Position'] == 'DL')&(athletes_data['Class'] == 'SR')]\n",
    "dl_sr=athletes_data[(athletes_data['Position'] == 'DL')&(athletes_data['Class'] == 'SR')]\n",
    "dl_sr['Height'].mean()\n"
   ]
  },
  {
   "cell_type": "markdown",
   "metadata": {},
   "source": [
    "## UFunc Arithmatic with Index Preservation"
   ]
  },
  {
   "cell_type": "markdown",
   "metadata": {},
   "source": [
    "Let us convert the height of the players into meters. The math to convert from inches to meters is to multiply by 0.0254. "
   ]
  },
  {
   "cell_type": "code",
   "execution_count": 6,
   "metadata": {},
   "outputs": [
    {
     "data": {
      "text/plain": [
       "Name\n",
       "Dexter Williams          1.8034\n",
       "C.J. Sanders             1.7272\n",
       "Te'von Coney             1.8542\n",
       "Montgomery VanGorder     1.8542\n",
       "Nyles Morgan             1.8542\n",
       "Equanimeous St. Brown    1.9558\n",
       "Nick Watkins             1.8542\n",
       "Brandon Wimbush          1.8542\n",
       "Daelin Hayes             1.9050\n",
       "Chris Finke              1.7526\n",
       "Ian Book                 1.8288\n",
       "Tyler Luatua             1.9050\n",
       "Devin Studstill          1.8288\n",
       "C.J. Holmes              1.8288\n",
       "Nolan Henry              1.8288\n",
       "Isaiah Robertson         1.8542\n",
       "Troy Pride Jr.           1.8034\n",
       "Justin Yoon              1.7780\n",
       "Shaun Crawford           1.7526\n",
       "Jalen Elliott            1.8542\n",
       "Asmar Bilal              1.8796\n",
       "Drue Tranquill           1.8796\n",
       "Mick Assaf               1.8034\n",
       "Nick Coleman             1.8288\n",
       "Brandon Garcia           1.7526\n",
       "Austin Webster           1.8034\n",
       "Ashton White             1.7780\n",
       "Julian Love              1.8034\n",
       "Nicco Fertitta           1.7526\n",
       "Sam Kohler               1.8288\n",
       "                          ...  \n",
       "Elijah Taylor            1.9050\n",
       "Logan Plantz             1.8796\n",
       "Sam Bush                 1.9304\n",
       "Ryan Kilander            1.8542\n",
       "Jimmy Byrne              1.9304\n",
       "Mike McGlinchey          2.0320\n",
       "Aaron Banks              1.9558\n",
       "Hunter Bivin             1.9812\n",
       "Alex Bars                1.9812\n",
       "Robert Hainsey           1.9304\n",
       "Liam Eichenberg          1.9812\n",
       "Daniel Cage              1.8542\n",
       "Brandon Tiassum          1.9304\n",
       "Tommy Kraemer            1.9558\n",
       "Durham Smythe            1.9558\n",
       "Miles Boykin             1.9304\n",
       "Nic Weishar              1.9304\n",
       "Chase Claypool           1.9304\n",
       "Tyler Newsome            1.8796\n",
       "Arion Shinaver           1.8542\n",
       "Alize Mack               1.9304\n",
       "Keenan Centlivre         1.9812\n",
       "Javon McKinley           1.8796\n",
       "Brock Wright             1.9304\n",
       "Adetokunbo Ogundeji      1.9304\n",
       "Jay Hayes                1.9050\n",
       "Pete Mokwuah             1.9050\n",
       "Micah Dew-Treadway       1.9304\n",
       "Andrew Trumbetti         1.9304\n",
       "Jerry Tillery            1.9812\n",
       "Name: Height, Length: 90, dtype: float64"
      ]
     },
     "execution_count": 6,
     "metadata": {},
     "output_type": "execute_result"
    }
   ],
   "source": [
    "athletes_data['Height']*0.0254"
   ]
  },
  {
   "cell_type": "markdown",
   "metadata": {},
   "source": [
    "\n",
    "Do you see how my index was still preserved? This is referred to as **index preservation** and we will see it come into play both for `Series` and `DataFrame` objects when we using arithmetic functions on them."
   ]
  },
  {
   "cell_type": "markdown",
   "metadata": {},
   "source": [
    "## Binary Functions and `DataFrame` Objects\n",
    "Now let's try performing binary UFunc operations on DataFrames."
   ]
  },
  {
   "cell_type": "markdown",
   "metadata": {},
   "source": [
    "#### Operations between 2 DataFrames\n",
    "\n",
    "To demonstate how arithmetic operations work between two different `DataFrame` objects I'll need to construct a couple of simple objects.\n",
    "\n",
    "I'll go ahead and create two imaginary objects that hold sales data over two different years for the burger joint: **In-N-Out**"
   ]
  },
  {
   "cell_type": "code",
   "execution_count": 15,
   "metadata": {
    "collapsed": true
   },
   "outputs": [],
   "source": [
    "# 2015 Sales DataFrame\n",
    "sales_2015 = pd.DataFrame([\n",
    "        {'Burgers': 9574265, 'Fries': 7124736, 'Drinks': 11563762},\n",
    "        {'Burgers': 6574265, 'Fries': 5124736, 'Drinks': 13563762},\n",
    "    ], \n",
    "    index=['California', 'Texas'])\n",
    "\n",
    "# 2016 Sales DataFrame\n",
    "# They open their first Indiana store at Notre Dame!!!\n",
    "# And they sell Irish Shakes nationwide to celebrate.\n",
    "sales_2016 = pd.DataFrame([\n",
    "        {'Burgers': 9742652, 'Fries': 7354736, 'Drinks': 11133762, 'Irish Shakes': 75812},\n",
    "        {'Burgers': 7774222, 'Fries': 6214736, 'Drinks': 14563762, 'Irish Shakes': 15525},\n",
    "        {'Burgers': 74265, 'Fries': 54736, 'Drinks': 43762, 'Irish Shakes': 23612},\n",
    "    ], \n",
    "    index=['California', 'Texas', 'Indiana'])\n"
   ]
  },
  {
   "cell_type": "markdown",
   "metadata": {},
   "source": [
    "Here's what those `DataFrames` look like separately:"
   ]
  },
  {
   "cell_type": "code",
   "execution_count": 16,
   "metadata": {},
   "outputs": [
    {
     "name": "stdout",
     "output_type": "stream",
     "text": [
      "            Burgers    Drinks    Fries\n",
      "California  9574265  11563762  7124736\n",
      "Texas       6574265  13563762  5124736\n",
      "\n",
      "\n",
      "            Burgers    Drinks    Fries  Irish Shakes\n",
      "California  9742652  11133762  7354736         75812\n",
      "Texas       7774222  14563762  6214736         15525\n",
      "Indiana       74265     43762    54736         23612\n"
     ]
    }
   ],
   "source": [
    "print(sales_2015, sales_2016, sep='\\n\\n\\n')"
   ]
  },
  {
   "cell_type": "code",
   "execution_count": 17,
   "metadata": {},
   "outputs": [
    {
     "data": {
      "text/html": [
       "<div>\n",
       "<style>\n",
       "    .dataframe thead tr:only-child th {\n",
       "        text-align: right;\n",
       "    }\n",
       "\n",
       "    .dataframe thead th {\n",
       "        text-align: left;\n",
       "    }\n",
       "\n",
       "    .dataframe tbody tr th {\n",
       "        vertical-align: top;\n",
       "    }\n",
       "</style>\n",
       "<table border=\"1\" class=\"dataframe\">\n",
       "  <thead>\n",
       "    <tr style=\"text-align: right;\">\n",
       "      <th></th>\n",
       "      <th>Burgers</th>\n",
       "      <th>Drinks</th>\n",
       "      <th>Fries</th>\n",
       "      <th>Irish Shakes</th>\n",
       "    </tr>\n",
       "  </thead>\n",
       "  <tbody>\n",
       "    <tr>\n",
       "      <th>California</th>\n",
       "      <td>19316917.0</td>\n",
       "      <td>22697524.0</td>\n",
       "      <td>14479472.0</td>\n",
       "      <td>NaN</td>\n",
       "    </tr>\n",
       "    <tr>\n",
       "      <th>Indiana</th>\n",
       "      <td>NaN</td>\n",
       "      <td>NaN</td>\n",
       "      <td>NaN</td>\n",
       "      <td>NaN</td>\n",
       "    </tr>\n",
       "    <tr>\n",
       "      <th>Texas</th>\n",
       "      <td>14348487.0</td>\n",
       "      <td>28127524.0</td>\n",
       "      <td>11339472.0</td>\n",
       "      <td>NaN</td>\n",
       "    </tr>\n",
       "  </tbody>\n",
       "</table>\n",
       "</div>"
      ],
      "text/plain": [
       "               Burgers      Drinks       Fries  Irish Shakes\n",
       "California  19316917.0  22697524.0  14479472.0           NaN\n",
       "Indiana            NaN         NaN         NaN           NaN\n",
       "Texas       14348487.0  28127524.0  11339472.0           NaN"
      ]
     },
     "execution_count": 17,
     "metadata": {},
     "output_type": "execute_result"
    }
   ],
   "source": [
    "sales_2015 + sales_2016"
   ]
  },
  {
   "cell_type": "markdown",
   "metadata": {},
   "source": [
    "To have a value in the results of an operation between two `DataFrame` objects, there must be a value in both of the objects for a given Index/Column combination.\n",
    "\n",
    "This is why there is no data for Indiana in our results (that index only existed in 2016) and no results for Irish Shakes (that column only existed in 2016)."
   ]
  },
  {
   "cell_type": "markdown",
   "metadata": {},
   "source": [
    "## Loading JSON Files\n",
    "In terms of web APIs, JSON is the dominant data transmission format on the internet right now - so you'll need to be familar with how to load it into **`DataFrame`** objects as well.\n",
    "\n",
    "There are a wide variety of ways that JSON documents can be structured. Unless you want to really start getting down into the,  there are really only a few formats that Pandas will read without problems.\n",
    "\n",
    "For our purposes, we'll use a pretty basic file that conforms to one of the standard formats just to get our feet wet.\n",
    "\n",
    "I've uploaded a JSON formatted file `pokedex.json` for us to use.  Hopefully, you are a Pokemon fan."
   ]
  },
  {
   "cell_type": "code",
   "execution_count": 19,
   "metadata": {},
   "outputs": [
    {
     "data": {
      "text/html": [
       "<div>\n",
       "<style>\n",
       "    .dataframe thead tr:only-child th {\n",
       "        text-align: right;\n",
       "    }\n",
       "\n",
       "    .dataframe thead th {\n",
       "        text-align: left;\n",
       "    }\n",
       "\n",
       "    .dataframe tbody tr th {\n",
       "        vertical-align: top;\n",
       "    }\n",
       "</style>\n",
       "<table border=\"1\" class=\"dataframe\">\n",
       "  <thead>\n",
       "    <tr style=\"text-align: right;\">\n",
       "      <th></th>\n",
       "      <th>avg_spawns</th>\n",
       "      <th>candy</th>\n",
       "      <th>candy_count</th>\n",
       "      <th>egg</th>\n",
       "      <th>height</th>\n",
       "      <th>id</th>\n",
       "      <th>img</th>\n",
       "      <th>multipliers</th>\n",
       "      <th>name</th>\n",
       "      <th>next_evolution</th>\n",
       "      <th>num</th>\n",
       "      <th>prev_evolution</th>\n",
       "      <th>spawn_chance</th>\n",
       "      <th>spawn_time</th>\n",
       "      <th>type</th>\n",
       "      <th>weaknesses</th>\n",
       "      <th>weight</th>\n",
       "    </tr>\n",
       "  </thead>\n",
       "  <tbody>\n",
       "    <tr>\n",
       "      <th>0</th>\n",
       "      <td>69.0</td>\n",
       "      <td>Bulbasaur Candy</td>\n",
       "      <td>25.0</td>\n",
       "      <td>2 km</td>\n",
       "      <td>0.71 m</td>\n",
       "      <td>1</td>\n",
       "      <td>http://www.serebii.net/pokemongo/pokemon/001.png</td>\n",
       "      <td>[1.58]</td>\n",
       "      <td>Bulbasaur</td>\n",
       "      <td>[{'num': '002', 'name': 'Ivysaur'}, {'num': '0...</td>\n",
       "      <td>1</td>\n",
       "      <td>NaN</td>\n",
       "      <td>0.690</td>\n",
       "      <td>20:00</td>\n",
       "      <td>[Grass, Poison]</td>\n",
       "      <td>[Fire, Ice, Flying, Psychic]</td>\n",
       "      <td>6.9 kg</td>\n",
       "    </tr>\n",
       "    <tr>\n",
       "      <th>1</th>\n",
       "      <td>4.2</td>\n",
       "      <td>Bulbasaur Candy</td>\n",
       "      <td>100.0</td>\n",
       "      <td>Not in Eggs</td>\n",
       "      <td>0.99 m</td>\n",
       "      <td>2</td>\n",
       "      <td>http://www.serebii.net/pokemongo/pokemon/002.png</td>\n",
       "      <td>[1.2, 1.6]</td>\n",
       "      <td>Ivysaur</td>\n",
       "      <td>[{'num': '003', 'name': 'Venusaur'}]</td>\n",
       "      <td>2</td>\n",
       "      <td>[{'num': '001', 'name': 'Bulbasaur'}]</td>\n",
       "      <td>0.042</td>\n",
       "      <td>07:00</td>\n",
       "      <td>[Grass, Poison]</td>\n",
       "      <td>[Fire, Ice, Flying, Psychic]</td>\n",
       "      <td>13.0 kg</td>\n",
       "    </tr>\n",
       "    <tr>\n",
       "      <th>2</th>\n",
       "      <td>1.7</td>\n",
       "      <td>Bulbasaur Candy</td>\n",
       "      <td>NaN</td>\n",
       "      <td>Not in Eggs</td>\n",
       "      <td>2.01 m</td>\n",
       "      <td>3</td>\n",
       "      <td>http://www.serebii.net/pokemongo/pokemon/003.png</td>\n",
       "      <td>None</td>\n",
       "      <td>Venusaur</td>\n",
       "      <td>NaN</td>\n",
       "      <td>3</td>\n",
       "      <td>[{'num': '001', 'name': 'Bulbasaur'}, {'num': ...</td>\n",
       "      <td>0.017</td>\n",
       "      <td>11:30</td>\n",
       "      <td>[Grass, Poison]</td>\n",
       "      <td>[Fire, Ice, Flying, Psychic]</td>\n",
       "      <td>100.0 kg</td>\n",
       "    </tr>\n",
       "    <tr>\n",
       "      <th>3</th>\n",
       "      <td>25.3</td>\n",
       "      <td>Charmander Candy</td>\n",
       "      <td>25.0</td>\n",
       "      <td>2 km</td>\n",
       "      <td>0.61 m</td>\n",
       "      <td>4</td>\n",
       "      <td>http://www.serebii.net/pokemongo/pokemon/004.png</td>\n",
       "      <td>[1.65]</td>\n",
       "      <td>Charmander</td>\n",
       "      <td>[{'num': '005', 'name': 'Charmeleon'}, {'num':...</td>\n",
       "      <td>4</td>\n",
       "      <td>NaN</td>\n",
       "      <td>0.253</td>\n",
       "      <td>08:45</td>\n",
       "      <td>[Fire]</td>\n",
       "      <td>[Water, Ground, Rock]</td>\n",
       "      <td>8.5 kg</td>\n",
       "    </tr>\n",
       "    <tr>\n",
       "      <th>4</th>\n",
       "      <td>1.2</td>\n",
       "      <td>Charmander Candy</td>\n",
       "      <td>100.0</td>\n",
       "      <td>Not in Eggs</td>\n",
       "      <td>1.09 m</td>\n",
       "      <td>5</td>\n",
       "      <td>http://www.serebii.net/pokemongo/pokemon/005.png</td>\n",
       "      <td>[1.79]</td>\n",
       "      <td>Charmeleon</td>\n",
       "      <td>[{'num': '006', 'name': 'Charizard'}]</td>\n",
       "      <td>5</td>\n",
       "      <td>[{'num': '004', 'name': 'Charmander'}]</td>\n",
       "      <td>0.012</td>\n",
       "      <td>19:00</td>\n",
       "      <td>[Fire]</td>\n",
       "      <td>[Water, Ground, Rock]</td>\n",
       "      <td>19.0 kg</td>\n",
       "    </tr>\n",
       "  </tbody>\n",
       "</table>\n",
       "</div>"
      ],
      "text/plain": [
       "   avg_spawns             candy  candy_count          egg  height  id  \\\n",
       "0        69.0   Bulbasaur Candy         25.0         2 km  0.71 m   1   \n",
       "1         4.2   Bulbasaur Candy        100.0  Not in Eggs  0.99 m   2   \n",
       "2         1.7   Bulbasaur Candy          NaN  Not in Eggs  2.01 m   3   \n",
       "3        25.3  Charmander Candy         25.0         2 km  0.61 m   4   \n",
       "4         1.2  Charmander Candy        100.0  Not in Eggs  1.09 m   5   \n",
       "\n",
       "                                                img multipliers        name  \\\n",
       "0  http://www.serebii.net/pokemongo/pokemon/001.png      [1.58]   Bulbasaur   \n",
       "1  http://www.serebii.net/pokemongo/pokemon/002.png  [1.2, 1.6]     Ivysaur   \n",
       "2  http://www.serebii.net/pokemongo/pokemon/003.png        None    Venusaur   \n",
       "3  http://www.serebii.net/pokemongo/pokemon/004.png      [1.65]  Charmander   \n",
       "4  http://www.serebii.net/pokemongo/pokemon/005.png      [1.79]  Charmeleon   \n",
       "\n",
       "                                      next_evolution  num  \\\n",
       "0  [{'num': '002', 'name': 'Ivysaur'}, {'num': '0...    1   \n",
       "1               [{'num': '003', 'name': 'Venusaur'}]    2   \n",
       "2                                                NaN    3   \n",
       "3  [{'num': '005', 'name': 'Charmeleon'}, {'num':...    4   \n",
       "4              [{'num': '006', 'name': 'Charizard'}]    5   \n",
       "\n",
       "                                      prev_evolution  spawn_chance spawn_time  \\\n",
       "0                                                NaN         0.690      20:00   \n",
       "1              [{'num': '001', 'name': 'Bulbasaur'}]         0.042      07:00   \n",
       "2  [{'num': '001', 'name': 'Bulbasaur'}, {'num': ...         0.017      11:30   \n",
       "3                                                NaN         0.253      08:45   \n",
       "4             [{'num': '004', 'name': 'Charmander'}]         0.012      19:00   \n",
       "\n",
       "              type                    weaknesses    weight  \n",
       "0  [Grass, Poison]  [Fire, Ice, Flying, Psychic]    6.9 kg  \n",
       "1  [Grass, Poison]  [Fire, Ice, Flying, Psychic]   13.0 kg  \n",
       "2  [Grass, Poison]  [Fire, Ice, Flying, Psychic]  100.0 kg  \n",
       "3           [Fire]         [Water, Ground, Rock]    8.5 kg  \n",
       "4           [Fire]         [Water, Ground, Rock]   19.0 kg  "
      ]
     },
     "execution_count": 19,
     "metadata": {},
     "output_type": "execute_result"
    }
   ],
   "source": [
    "# We use the `orient` parameter to tell Pandas what the basic \n",
    "# structure of the JSON is.  The other options are:\n",
    "# split, index, columns, and values\n",
    "# More Info: https://pandas.pydata.org/pandas-docs/stable/generated/pandas.read_json.html\n",
    "pokedex = pd.read_json('./data/pokedex.json', orient='records')\n",
    "pokedex.head()"
   ]
  },
  {
   "cell_type": "code",
   "execution_count": null,
   "metadata": {
    "collapsed": true
   },
   "outputs": [],
   "source": []
  }
 ],
 "metadata": {
  "kernelspec": {
   "display_name": "Python 3",
   "language": "python",
   "name": "python3"
  },
  "language_info": {
   "codemirror_mode": {
    "name": "ipython",
    "version": 3
   },
   "file_extension": ".py",
   "mimetype": "text/x-python",
   "name": "python",
   "nbconvert_exporter": "python",
   "pygments_lexer": "ipython3",
   "version": "3.6.1"
  }
 },
 "nbformat": 4,
 "nbformat_minor": 2
}
